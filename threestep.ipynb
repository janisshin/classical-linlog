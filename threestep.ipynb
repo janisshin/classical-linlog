{
 "cells": [
  {
   "cell_type": "code",
   "execution_count": 1,
   "metadata": {},
   "outputs": [
    {
     "name": "stderr",
     "output_type": "stream",
     "text": [
      "WARNING (aesara.configdefaults): g++ not available, if using conda: `conda install m2w64-toolchain`\n",
      "WARNING (aesara.configdefaults): g++ not detected!  Aesara will be unable to compile C-implementations and will default to Python. Performance may be severely degraded. To remove this warning, set Aesara flags cxx to an empty string.\n",
      "WARNING (aesara.tensor.blas): Using NumPy C-API based implementation for BLAS functions.\n"
     ]
    }
   ],
   "source": [
    "from lmfit import minimize, Parameters\n",
    "\n",
    "import pandas as pd\n",
    "import tellurium as te\n",
    "import numpy as np\n",
    "\n",
    "import matplotlib.pyplot as plt\n",
    "\n",
    "# import aesara.tensor as at\n",
    "import aesara\n",
    "floatX = aesara.config.floatX\n",
    "# from emll.aesara_utils import LeastSquaresSolve"
   ]
  },
  {
   "cell_type": "code",
   "execution_count": 2,
   "metadata": {},
   "outputs": [],
   "source": [
    "# import the data \n",
    "df = pd.read_csv('data/threestep_1.05.csv')"
   ]
  },
  {
   "cell_type": "code",
   "execution_count": 3,
   "metadata": {},
   "outputs": [],
   "source": [
    "r = te.loada('models/threestep.ant')\n",
    "r.steadyState()\n",
    "N=r.getFullStoichiometryMatrix()"
   ]
  },
  {
   "cell_type": "code",
   "execution_count": 5,
   "metadata": {},
   "outputs": [],
   "source": [
    "enzymes = ['e_' + i for i in r.getReactionIds()]\n",
    "internal = r.getFloatingSpeciesIds()\n",
    "external = r.getBoundarySpeciesIds()\n",
    "fluxes = ['v_' + i for i in r.getReactionIds()]\n",
    "\n",
    "v_star = df[fluxes].loc[0]"
   ]
  },
  {
   "cell_type": "markdown",
   "metadata": {},
   "source": [
    "## Setting up linlog variables\n",
    "Dimensions for the following:\n",
    "\n",
    "*e and v must be same length*\n",
    "\n",
    "- `ex` is (#rxn, #intmet) aka (n,m)\n",
    "- `ey` is (#rxn, #extmet) aka (n,p)\n",
    "\n",
    "- `en` is \n",
    "- `xn` is (#intmet, #rxn) aka (m,n)\n",
    "- `yn` is (#extmet, #rxn) aka (p,n)\n",
    "- `vn` is "
   ]
  },
  {
   "cell_type": "code",
   "execution_count": 6,
   "metadata": {},
   "outputs": [],
   "source": [
    "ex = r.getScaledElasticityMatrix()\n",
    "\n",
    "a = r.getBoundarySpeciesIds()\n",
    "b = r.getReactionIds()\n",
    "c=[]\n",
    "for i in b: \n",
    "    for ii in a: \n",
    "        c.append(r.getUnscaledParameterElasticity(i, ii) * r[ii]/r[i])\n",
    "ey = np.array(c).reshape((len(b),len(a)))"
   ]
  },
  {
   "cell_type": "code",
   "execution_count": 7,
   "metadata": {},
   "outputs": [],
   "source": [
    "en = df[enzymes].loc[1:len(internal)+1]/df[enzymes].loc[0]\n",
    "xn = df[internal].loc[1:len(internal)+1]/df[internal].loc[0]\n",
    "vn = df[fluxes].loc[1:len(internal)+1]/df[fluxes].loc[0]\n",
    "yn = df[external].iloc[-(len(vn)):]/df[external].loc[0]\n"
   ]
  },
  {
   "cell_type": "markdown",
   "metadata": {},
   "source": [
    "## Best case scenarios for linlog. \n",
    "Here, I calculate the linlog equation with groundtruth values calculated through\n",
    "tellurium, subtract them from the ground truth flux values, and calculate the \n",
    "chi squared value.\n",
    "\n",
    "I compare whether to scalar or matrix multiply the first factor of the equation \n",
    "(`outer`). "
   ]
  },
  {
   "cell_type": "code",
   "execution_count": 8,
   "metadata": {},
   "outputs": [
    {
     "name": "stdout",
     "output_type": "stream",
     "text": [
      "[[2.12700036 2.02571462 2.02571462]\n",
      " [2.02571462 2.12700036 2.02571462]\n",
      " [2.02571462 2.02571462 2.12700036]]\n"
     ]
    },
    {
     "data": {
      "text/plain": [
       "4.0738937714862057e-07"
      ]
     },
     "execution_count": 8,
     "metadata": {},
     "output_type": "execute_result"
    }
   ],
   "source": [
    "# scalar multiplication\n",
    "gt_fluxes = df[fluxes].loc[1:3].values\n",
    "inner = np.ones((3,3)) + (ex@np.log(xn).T).values + (ey@np.log(yn).T).values\n",
    "outer = (en.values*v_star.values) # (.05 * np.diag(v_star)) + (v_star[0]*np.ones((2,2)))\n",
    "print(outer)\n",
    "\n",
    "linlog_fluxes = (outer * inner).T\n",
    "res = linlog_fluxes - gt_fluxes\n",
    "(res*res).sum()"
   ]
  },
  {
   "cell_type": "markdown",
   "metadata": {},
   "source": [
    "The chi squared value for the matrix multiplication is higher, so perhaps this \n",
    "suggests that the scalar multiplication method is more accurate. "
   ]
  },
  {
   "cell_type": "markdown",
   "metadata": {},
   "source": [
    "## Using lmfit to predict elasticity values w/o ey values"
   ]
  },
  {
   "cell_type": "code",
   "execution_count": 9,
   "metadata": {},
   "outputs": [
    {
     "name": "stdout",
     "output_type": "stream",
     "text": [
      "2.0062857505690048e-07\n"
     ]
    },
    {
     "data": {
      "text/html": [
       "<table class=\"jp-toc-ignore\"><caption>Parameters</caption><tr><th style='text-align:left'>name</th><th style='text-align:left'>value</th><th style='text-align:left'>standard error</th><th style='text-align:left'>relative error</th><th style='text-align:left'>initial value</th><th style='text-align:left'>min</th><th style='text-align:left'>max</th><th style='text-align:right'>vary</th></tr><tr><td style='text-align:left'>Ex0</td><td style='text-align:left'>-1.14621560</td><td style='text-align:left'> 0.00253548</td><td style='text-align:left'>(0.22%)</td><td style='text-align:left'>0</td><td style='text-align:left'>-10.0000000</td><td style='text-align:left'> 10.0000000</td><td style='text-align:right'>True</td></tr><tr><td style='text-align:left'>Ex1</td><td style='text-align:left'> 0.78136787</td><td style='text-align:left'> 0.00274349</td><td style='text-align:left'>(0.35%)</td><td style='text-align:left'>0</td><td style='text-align:left'>-10.0000000</td><td style='text-align:left'> 10.0000000</td><td style='text-align:right'>True</td></tr><tr><td style='text-align:left'>Ex2</td><td style='text-align:left'>-0.68334286</td><td style='text-align:left'> 0.00210679</td><td style='text-align:left'>(0.31%)</td><td style='text-align:left'>0</td><td style='text-align:left'>-10.0000000</td><td style='text-align:left'> 10.0000000</td><td style='text-align:right'>True</td></tr><tr><td style='text-align:left'>Ex3</td><td style='text-align:left'> 0.80899888</td><td style='text-align:left'> 0.00195064</td><td style='text-align:left'>(0.24%)</td><td style='text-align:left'>0</td><td style='text-align:left'>-10.0000000</td><td style='text-align:left'> 10.0000000</td><td style='text-align:right'>True</td></tr></table>"
      ],
      "text/plain": [
       "Parameters([('Ex0', <Parameter 'Ex0', value=-1.1462155987299756 +/- 0.00254, bounds=[-10:10]>), ('Ex1', <Parameter 'Ex1', value=0.7813678744664188 +/- 0.00274, bounds=[-10:10]>), ('Ex2', <Parameter 'Ex2', value=-0.68334285920794 +/- 0.00211, bounds=[-10:10]>), ('Ex3', <Parameter 'Ex3', value=0.8089988795809528 +/- 0.00195, bounds=[-10:10]>)])"
      ]
     },
     "execution_count": 9,
     "metadata": {},
     "output_type": "execute_result"
    }
   ],
   "source": [
    "def cb(params, iter, resid, *args, **kws):\n",
    "    print(iter, (resid**2).sum().sum())\n",
    "\n",
    "def residual(params, xn, v_star, df, *args, **kws):\n",
    "    \n",
    "    ex = np.zeros((3,2))\n",
    "    ex[0,0] = params['Ex0']\n",
    "    ex[1,0] = params['Ex1']\n",
    "    ex[1,1] = params['Ex2']\n",
    "    ex[2,1] = params['Ex3']\n",
    "\n",
    "    a = (en.values*v_star.values)\n",
    "    bb = np.ones((3,3))\n",
    "    cc = ex@(np.log(xn)).T\n",
    "\n",
    "    model = a*(bb + cc)\n",
    "\n",
    "    return (df[fluxes].loc[1:len(internal)+1].values-model.T).values\n",
    "\n",
    "params = Parameters()\n",
    "\n",
    "for i in range(4):\n",
    "    params.add('Ex'+str(i), value=0, min=-10, max=10)\n",
    "\n",
    "out = minimize(residual, params, args=(xn, v_star, df))#, iter_cb=cb)\n",
    "\n",
    "print(out.chisqr)\n",
    "out.params"
   ]
  },
  {
   "cell_type": "code",
   "execution_count": 10,
   "metadata": {},
   "outputs": [
    {
     "data": {
      "text/plain": [
       "            S1,        S2\n",
       "J1 [[ -1.14426,         0],\n",
       "J2  [ 0.785625, -0.687276],\n",
       "J3  [        0,  0.809538]]"
      ]
     },
     "execution_count": 10,
     "metadata": {},
     "output_type": "execute_result"
    }
   ],
   "source": [
    "ex"
   ]
  },
  {
   "cell_type": "markdown",
   "metadata": {},
   "source": [
    "Perfect results!"
   ]
  },
  {
   "cell_type": "markdown",
   "metadata": {
    "vscode": {
     "languageId": "bat"
    }
   },
   "source": [
    "Here is the ratio of the elasticity values:"
   ]
  },
  {
   "cell_type": "code",
   "execution_count": 11,
   "metadata": {},
   "outputs": [
    {
     "name": "stdout",
     "output_type": "stream",
     "text": [
      "-1.46693463627834\n"
     ]
    }
   ],
   "source": [
    "ratio1 = out.params['Ex0'] / out.params['Ex1']\n",
    "print(ratio1)"
   ]
  },
  {
   "cell_type": "code",
   "execution_count": 14,
   "metadata": {},
   "outputs": [
    {
     "data": {
      "text/plain": [
       "-1.143449242115589"
      ]
     },
     "execution_count": 14,
     "metadata": {},
     "output_type": "execute_result"
    }
   ],
   "source": [
    "ratio2 = out.params['Ex1'] / out.params['Ex2']\n",
    "ratio2"
   ]
  },
  {
   "cell_type": "code",
   "execution_count": 15,
   "metadata": {},
   "outputs": [
    {
     "data": {
      "text/plain": [
       "-0.8446771391845432"
      ]
     },
     "execution_count": 15,
     "metadata": {},
     "output_type": "execute_result"
    }
   ],
   "source": [
    "ratio3 = out.params['Ex2'] / out.params['Ex3']\n",
    "ratio3"
   ]
  },
  {
   "cell_type": "code",
   "execution_count": 16,
   "metadata": {},
   "outputs": [
    {
     "data": {
      "text/plain": [
       "1.0353623510992218"
      ]
     },
     "execution_count": 16,
     "metadata": {},
     "output_type": "execute_result"
    }
   ],
   "source": [
    "ratio4 = out.params['Ex3'] / out.params['Ex1']\n",
    "ratio4"
   ]
  },
  {
   "cell_type": "markdown",
   "metadata": {},
   "source": [
    "Let's compute some control coefficients.\n",
    "\n",
    "*from [Draft:Catalog of MCA Control Patterns](https://en.wikipedia.org/wiki/Draft:Catalog_of_MCA_Control_Patterns)*"
   ]
  },
  {
   "cell_type": "code",
   "execution_count": 18,
   "metadata": {},
   "outputs": [],
   "source": [
    "E11= out.params['Ex0']\n",
    "E12= 0 \n",
    "E21= out.params['Ex1']\n",
    "E22= out.params['Ex2']\n",
    "E31= 0 \n",
    "E32= out.params['Ex3']\n",
    "\n",
    "d = E21*E32 - E11*E32 + E11*E22"
   ]
  },
  {
   "cell_type": "code",
   "execution_count": 19,
   "metadata": {},
   "outputs": [
    {
     "name": "stdout",
     "output_type": "stream",
     "text": [
      "0.26983 0.39582 0.33434\n"
     ]
    }
   ],
   "source": [
    "CJe1 = round(E21*E32/d, 5)\n",
    "CJe2 = round(-E11*E32/d, 5)\n",
    "CJe3 = round(E11*E22/d, 5)\n",
    "\n",
    "print(CJe1, CJe2, CJe3)"
   ]
  },
  {
   "cell_type": "code",
   "execution_count": 21,
   "metadata": {},
   "outputs": [
    {
     "data": {
      "text/plain": [
       "            J1,       J2,       J3\n",
       "J1 [[ 0.270781, 0.394391, 0.334828],\n",
       "J2  [ 0.270781, 0.394391, 0.334828],\n",
       "J3  [ 0.270781, 0.394391, 0.334828]]"
      ]
     },
     "execution_count": 21,
     "metadata": {},
     "output_type": "execute_result"
    }
   ],
   "source": [
    "r.getScaledFluxControlCoefficientMatrix()"
   ]
  },
  {
   "cell_type": "markdown",
   "metadata": {},
   "source": [
    "## Let's try to compute all the elasticities, even the ones that are zero\n"
   ]
  },
  {
   "cell_type": "code",
   "execution_count": 22,
   "metadata": {},
   "outputs": [
    {
     "name": "stdout",
     "output_type": "stream",
     "text": [
      "1.9983949121246353e-07\n"
     ]
    },
    {
     "data": {
      "text/html": [
       "<table class=\"jp-toc-ignore\"><caption>Parameters</caption><tr><th style='text-align:left'>name</th><th style='text-align:left'>value</th><th style='text-align:left'>standard error</th><th style='text-align:left'>relative error</th><th style='text-align:left'>initial value</th><th style='text-align:left'>min</th><th style='text-align:left'>max</th><th style='text-align:right'>vary</th></tr><tr><td style='text-align:left'>Ex0</td><td style='text-align:left'>-1.14609789</td><td style='text-align:left'> 0.00351427</td><td style='text-align:left'>(0.31%)</td><td style='text-align:left'>0</td><td style='text-align:left'>-10.0000000</td><td style='text-align:left'> 10.0000000</td><td style='text-align:right'>True</td></tr><tr><td style='text-align:left'>Ex1</td><td style='text-align:left'>-2.5245e-04</td><td style='text-align:left'> 0.00277801</td><td style='text-align:left'>(1100.42%)</td><td style='text-align:left'>0</td><td style='text-align:left'>-10.0000000</td><td style='text-align:left'> 10.0000000</td><td style='text-align:right'>True</td></tr><tr><td style='text-align:left'>Ex2</td><td style='text-align:left'> 0.78136787</td><td style='text-align:left'> 0.00353486</td><td style='text-align:left'>(0.45%)</td><td style='text-align:left'>0</td><td style='text-align:left'>-10.0000000</td><td style='text-align:left'> 10.0000000</td><td style='text-align:right'>True</td></tr><tr><td style='text-align:left'>Ex3</td><td style='text-align:left'>-0.68334286</td><td style='text-align:left'> 0.00271450</td><td style='text-align:left'>(0.40%)</td><td style='text-align:left'>0</td><td style='text-align:left'>-10.0000000</td><td style='text-align:left'> 10.0000000</td><td style='text-align:right'>True</td></tr><tr><td style='text-align:left'>Ex4</td><td style='text-align:left'>-2.1622e-04</td><td style='text-align:left'> 0.00360997</td><td style='text-align:left'>(1669.56%)</td><td style='text-align:left'>0</td><td style='text-align:left'>-10.0000000</td><td style='text-align:left'> 10.0000000</td><td style='text-align:right'>True</td></tr><tr><td style='text-align:left'>Ex5</td><td style='text-align:left'> 0.80905916</td><td style='text-align:left'> 0.00270734</td><td style='text-align:left'>(0.33%)</td><td style='text-align:left'>0</td><td style='text-align:left'>-10.0000000</td><td style='text-align:left'> 10.0000000</td><td style='text-align:right'>True</td></tr></table>"
      ],
      "text/plain": [
       "Parameters([('Ex0', <Parameter 'Ex0', value=-1.1460978887538733 +/- 0.00351, bounds=[-10:10]>), ('Ex1', <Parameter 'Ex1', value=-0.0002524497222271549 +/- 0.00278, bounds=[-10:10]>), ('Ex2', <Parameter 'Ex2', value=0.7813678744698862 +/- 0.00353, bounds=[-10:10]>), ('Ex3', <Parameter 'Ex3', value=-0.6833428592058688 +/- 0.00271, bounds=[-10:10]>), ('Ex4', <Parameter 'Ex4', value=-0.00021622240972796192 +/- 0.00361, bounds=[-10:10]>), ('Ex5', <Parameter 'Ex5', value=0.8090591633462996 +/- 0.00271, bounds=[-10:10]>)])"
      ]
     },
     "execution_count": 22,
     "metadata": {},
     "output_type": "execute_result"
    }
   ],
   "source": [
    "def residual(params, xn, v_star, df, *args, **kws):\n",
    "    \n",
    "    ex = np.zeros((3,2))\n",
    "    ex[0,0] = params['Ex0']\n",
    "    ex[0,1] = params['Ex1']\n",
    "    ex[1,0] = params['Ex2']\n",
    "    ex[1,1] = params['Ex3']\n",
    "    ex[2,0] = params['Ex4']\n",
    "    ex[2,1] = params['Ex5']\n",
    "\n",
    "    a = (en.values*v_star.values)\n",
    "    bb = np.ones((3,3))\n",
    "    cc = ex@(np.log(xn)).T\n",
    "\n",
    "    model = a*(bb + cc)\n",
    "\n",
    "    return (df[fluxes].loc[1:len(internal)+1].values-model.T).values\n",
    "\n",
    "params = Parameters()\n",
    "\n",
    "for i in range(6):\n",
    "    params.add('Ex'+str(i), value=0, min=-10, max=10)\n",
    "\n",
    "out = minimize(residual, params, args=(xn, v_star, df))#, iter_cb=cb)\n",
    "\n",
    "print(out.chisqr)\n",
    "out.params"
   ]
  },
  {
   "cell_type": "code",
   "execution_count": 23,
   "metadata": {},
   "outputs": [],
   "source": [
    "E11= out.params['Ex0']\n",
    "E12= out.params['Ex1'] \n",
    "E21= out.params['Ex2']\n",
    "E22= out.params['Ex3']\n",
    "E31= out.params['Ex4']\n",
    "E32= out.params['Ex5']\n",
    "\n",
    "d = E21*E32 - E11*E32 + E11*E22"
   ]
  },
  {
   "cell_type": "code",
   "execution_count": 24,
   "metadata": {},
   "outputs": [
    {
     "name": "stdout",
     "output_type": "stream",
     "text": [
      "0.26986 0.39582 0.33432\n"
     ]
    }
   ],
   "source": [
    "CJe1 = round(E21*E32/d, 5)\n",
    "CJe2 = round(-E11*E32/d, 5)\n",
    "CJe3 = round(E11*E22/d, 5)\n",
    "\n",
    "print(CJe1, CJe2, CJe3)"
   ]
  },
  {
   "cell_type": "code",
   "execution_count": 25,
   "metadata": {},
   "outputs": [
    {
     "data": {
      "text/plain": [
       "            J1,       J2,       J3\n",
       "J1 [[ 0.270781, 0.394391, 0.334828],\n",
       "J2  [ 0.270781, 0.394391, 0.334828],\n",
       "J3  [ 0.270781, 0.394391, 0.334828]]"
      ]
     },
     "execution_count": 25,
     "metadata": {},
     "output_type": "execute_result"
    }
   ],
   "source": [
    "r.getScaledFluxControlCoefficientMatrix()"
   ]
  },
  {
   "cell_type": "markdown",
   "metadata": {},
   "source": [
    "Not bad results!"
   ]
  },
  {
   "cell_type": "raw",
   "metadata": {
    "vscode": {
     "languageId": "raw"
    }
   },
   "source": [
    "def estimate_CCs(Ex):\n",
    "    vn[vn == 0] = 1e-6\n",
    "    \n",
    "    a = np.diag(en.values / vn.values)\n",
    "    a = np.diag(a)\n",
    "    a = a[np.newaxis,:].repeat(1, axis=0)\n",
    "\n",
    "    Ex_ss = a @ Ex\n",
    "    As = N @ np.diag(v_star) @ Ex_ss\n",
    "    bs = N @ np.diag(v_star)\n",
    "    bs = bs[np.newaxis, :].repeat(1, axis=0)\n",
    "    \n",
    "    As = at.as_tensor_variable(As)\n",
    "    bs = at.as_tensor_variable(bs)\n",
    "\n",
    "    def solve_aesara(A, b):\n",
    "        rsolve_op = LeastSquaresSolve()\n",
    "        return rsolve_op(A, b).squeeze()\n",
    "\n",
    "    CCC, _ = aesara.scan(lambda A, b: solve_aesara(A, b),\n",
    "                        sequences=[As, bs], strict=True)\n",
    "\n",
    "    identity = np.eye(len(N.T))\n",
    "    identity = identity[np.newaxis,:].repeat(1, axis=0)\n",
    "    \n",
    "    FCC = (Ex_ss @ CCC.eval()) + identity\n",
    "    \n",
    "    return CCC.eval(), FCC"
   ]
  },
  {
   "cell_type": "raw",
   "metadata": {
    "vscode": {
     "languageId": "raw"
    }
   },
   "source": [
    "def elasticity_to_CCC(BMCA, scaledE=None):\n",
    "\n",
    "    if scaledE is None:\n",
    "        scaledE = BMCA.Ex\n",
    "\n",
    "    r = te.loada(BMCA.model_file)\n",
    "    r.conservedMoietyAnalysis = True\n",
    "    r.steadyState()\n",
    "    link_matrix = r.getLinkMatrix()\n",
    "    Nr = r.getReducedStoichiometryMatrix()\n",
    "\n",
    "    ##### this line needs to be workshopped\n",
    "    unscaledE = np.linalg.inv(np.diag(1/BMCA.v_star)) @ scaledE @ np.linalg.inv(np.diag(BMCA.x_star))\n",
    "\n",
    "    invJac = np.linalg.inv(-Nr@unscaledE@link_matrix)\n",
    "    idMat = np.identity(len(BMCA.v_star))\n",
    "\n",
    "    # unscaled concentration and flux control coefficients, respectively\n",
    "    Cx = link_matrix@invJac@Nr \n",
    "    CJ = np.matmul(unscaledE, Cx) + idMat # unscaled FCC\n",
    "\n",
    "    # scaled concentration and flux control coefficients, respectively  \n",
    "    ##### these two lines need to be workshopped\n",
    "    CxS = np.diag(1/BMCA.x_star) @ Cx @ np.diag(BMCA.v_star)\n",
    "    CJS = np.diag(1/BMCA.v_star) @ CJ @ np.diag(BMCA.v_star)\n",
    "\n",
    "    return CxS, CJS"
   ]
  },
  {
   "cell_type": "markdown",
   "metadata": {},
   "source": [
    "## Using a higher perturbation dataset"
   ]
  },
  {
   "cell_type": "code",
   "execution_count": 26,
   "metadata": {},
   "outputs": [],
   "source": [
    "# import the data \n",
    "df = pd.read_csv('data/threestep_1.5.csv')\n",
    "\n",
    "r = te.loada('models/threestep.ant')\n",
    "r.steadyState()\n",
    "N=r.getFullStoichiometryMatrix()\n",
    "\n",
    "enzymes = ['e_' + i for i in r.getReactionIds()]\n",
    "internal = r.getFloatingSpeciesIds()\n",
    "external = r.getBoundarySpeciesIds()\n",
    "fluxes = ['v_' + i for i in r.getReactionIds()]\n",
    "\n",
    "v_star = df[fluxes].loc[0]"
   ]
  },
  {
   "cell_type": "code",
   "execution_count": 27,
   "metadata": {},
   "outputs": [],
   "source": [
    "ex = r.getScaledElasticityMatrix()\n",
    "\n",
    "a = r.getBoundarySpeciesIds()\n",
    "b = r.getReactionIds()\n",
    "c=[]\n",
    "for i in b: \n",
    "    for ii in a: \n",
    "        c.append(r.getUnscaledParameterElasticity(i, ii) * r[ii]/r[i])\n",
    "ey = np.array(c).reshape((len(b),len(a)))\n",
    "\n",
    "en = df[enzymes].loc[1:len(internal)+1]/df[enzymes].loc[0]\n",
    "xn = df[internal].loc[1:len(internal)+1]/df[internal].loc[0]\n",
    "yn = df[external].iloc[-(len(external)):]/df[external].loc[0]\n",
    "vn = df[fluxes].loc[1:len(internal)+1]/df[fluxes].loc[0]"
   ]
  },
  {
   "cell_type": "code",
   "execution_count": 28,
   "metadata": {},
   "outputs": [
    {
     "name": "stdout",
     "output_type": "stream",
     "text": [
      "0.0009002741677515823\n"
     ]
    },
    {
     "data": {
      "text/html": [
       "<table class=\"jp-toc-ignore\"><caption>Parameters</caption><tr><th style='text-align:left'>name</th><th style='text-align:left'>value</th><th style='text-align:left'>standard error</th><th style='text-align:left'>relative error</th><th style='text-align:left'>initial value</th><th style='text-align:left'>min</th><th style='text-align:left'>max</th><th style='text-align:right'>vary</th></tr><tr><td style='text-align:left'>Ex0</td><td style='text-align:left'>-1.15806940</td><td style='text-align:left'> 0.02451794</td><td style='text-align:left'>(2.12%)</td><td style='text-align:left'>0</td><td style='text-align:left'>-10.0000000</td><td style='text-align:left'> 10.0000000</td><td style='text-align:right'>True</td></tr><tr><td style='text-align:left'>Ex1</td><td style='text-align:left'>-0.00345407</td><td style='text-align:left'> 0.02310836</td><td style='text-align:left'>(669.02%)</td><td style='text-align:left'>0</td><td style='text-align:left'>-10.0000000</td><td style='text-align:left'> 10.0000000</td><td style='text-align:right'>True</td></tr><tr><td style='text-align:left'>Ex2</td><td style='text-align:left'> 0.73563561</td><td style='text-align:left'> 0.02577300</td><td style='text-align:left'>(3.50%)</td><td style='text-align:left'>0</td><td style='text-align:left'>-10.0000000</td><td style='text-align:left'> 10.0000000</td><td style='text-align:right'>True</td></tr><tr><td style='text-align:left'>Ex3</td><td style='text-align:left'>-0.64415892</td><td style='text-align:left'> 0.01916529</td><td style='text-align:left'>(2.98%)</td><td style='text-align:left'>0</td><td style='text-align:left'>-10.0000000</td><td style='text-align:left'> 10.0000000</td><td style='text-align:right'>True</td></tr><tr><td style='text-align:left'>Ex4</td><td style='text-align:left'>-0.00304233</td><td style='text-align:left'> 0.03063217</td><td style='text-align:left'>(1006.87%)</td><td style='text-align:left'>0</td><td style='text-align:left'>-10.0000000</td><td style='text-align:left'> 10.0000000</td><td style='text-align:right'>True</td></tr><tr><td style='text-align:left'>Ex5</td><td style='text-align:left'> 0.79996406</td><td style='text-align:left'> 0.01861238</td><td style='text-align:left'>(2.33%)</td><td style='text-align:left'>0</td><td style='text-align:left'>-10.0000000</td><td style='text-align:left'> 10.0000000</td><td style='text-align:right'>True</td></tr></table>"
      ],
      "text/plain": [
       "Parameters([('Ex0', <Parameter 'Ex0', value=-1.1580694002032281 +/- 0.0245, bounds=[-10:10]>), ('Ex1', <Parameter 'Ex1', value=-0.003454074225974324 +/- 0.0231, bounds=[-10:10]>), ('Ex2', <Parameter 'Ex2', value=0.7356356098935635 +/- 0.0258, bounds=[-10:10]>), ('Ex3', <Parameter 'Ex3', value=-0.6441589178532237 +/- 0.0192, bounds=[-10:10]>), ('Ex4', <Parameter 'Ex4', value=-0.003042330629426715 +/- 0.0306, bounds=[-10:10]>), ('Ex5', <Parameter 'Ex5', value=0.7999640624286322 +/- 0.0186, bounds=[-10:10]>)])"
      ]
     },
     "execution_count": 28,
     "metadata": {},
     "output_type": "execute_result"
    }
   ],
   "source": [
    "def residual(params, xn, v_star, df, *args, **kws):\n",
    "    \n",
    "    ex = np.zeros((3,2))\n",
    "    ex[0,0] = params['Ex0']\n",
    "    ex[0,1] = params['Ex1']\n",
    "    ex[1,0] = params['Ex2']\n",
    "    ex[1,1] = params['Ex3']\n",
    "    ex[2,0] = params['Ex4']\n",
    "    ex[2,1] = params['Ex5']\n",
    "\n",
    "    a = (en.values*v_star.values)\n",
    "    bb = np.ones((3,3))\n",
    "    cc = ex@(np.log(xn)).T\n",
    "\n",
    "    model = a*(bb + cc)\n",
    "\n",
    "    return (df[fluxes].loc[1:len(internal)+1].values-model.T).values\n",
    "\n",
    "params = Parameters()\n",
    "\n",
    "for i in range(6):\n",
    "    params.add('Ex'+str(i), value=0, min=-10, max=10)\n",
    "\n",
    "out = minimize(residual, params, args=(xn, v_star, df))#, iter_cb=cb)\n",
    "\n",
    "print(out.chisqr)\n",
    "out.params"
   ]
  },
  {
   "cell_type": "code",
   "execution_count": 31,
   "metadata": {},
   "outputs": [
    {
     "name": "stdout",
     "output_type": "stream",
     "text": [
      "ground truth ex ratio:  -1.46693463627834\n",
      "lmfit value ratio: -1.5742432593370312\n"
     ]
    }
   ],
   "source": [
    "print(\"ground truth ex ratio: \", ratio1)\n",
    "ratio = out.params['Ex0'].value / out.params['Ex2'].value\n",
    "print(\"lmfit value ratio:\", ratio)\n",
    "# print(\"lmfit value ratio reciprocal:\", 1/ratio)"
   ]
  },
  {
   "cell_type": "markdown",
   "metadata": {},
   "source": [
    "Let's compare how the FCC predictions change with the change in perturbation levels. "
   ]
  },
  {
   "cell_type": "code",
   "execution_count": 38,
   "metadata": {},
   "outputs": [],
   "source": [
    "# import the data \n",
    "def calculate_ratios(pt_lvl):\n",
    "    df = pd.read_csv(f'data/threestep_{pt_lvl}.csv')\n",
    "\n",
    "    r = te.loada('models/threestep.ant')\n",
    "    r.steadyState()\n",
    "    \n",
    "    internal = r.getFloatingSpeciesIds()\n",
    "    fluxes = ['v_' + i for i in r.getReactionIds()]\n",
    "\n",
    "    v_star = df[fluxes].loc[0]\n",
    "    xn = df[internal].loc[1:len(internal)+1]/df[internal].loc[0]\n",
    "\n",
    "    params = Parameters()\n",
    "\n",
    "    for i in range(6):\n",
    "        params.add('Ex'+str(i), value=0, min=-10, max=10)\n",
    "\n",
    "    out = minimize(residual, params, args=(xn, v_star, df))#, iter_cb=cb)\n",
    "\n",
    "    E11= out.params['Ex0']\n",
    "    E12= out.params['Ex1'] \n",
    "    E21= out.params['Ex2']\n",
    "    E22= out.params['Ex3']\n",
    "    E31= out.params['Ex4']\n",
    "    E32= out.params['Ex5']\n",
    "\n",
    "    d = E21*E32 - E11*E32 + E11*E22\n",
    "\n",
    "    CJe1 = round(E21*E32/d, 5)\n",
    "    CJe2 = round(-E11*E32/d, 5)\n",
    "    CJe3 = round(E11*E22/d, 5)\n",
    "\n",
    "    return [CJe1, CJe2, CJe3]"
   ]
  },
  {
   "cell_type": "code",
   "execution_count": 39,
   "metadata": {},
   "outputs": [
    {
     "name": "stderr",
     "output_type": "stream",
     "text": [
      "C:\\Users\\user\\AppData\\Local\\Temp\\ipykernel_16428\\1962108612.py:30: RuntimeWarning:\n",
      "\n",
      "invalid value encountered in scalar divide\n",
      "\n",
      "C:\\Users\\user\\AppData\\Local\\Temp\\ipykernel_16428\\1962108612.py:31: RuntimeWarning:\n",
      "\n",
      "invalid value encountered in scalar divide\n",
      "\n",
      "C:\\Users\\user\\AppData\\Local\\Temp\\ipykernel_16428\\1962108612.py:32: RuntimeWarning:\n",
      "\n",
      "invalid value encountered in scalar divide\n",
      "\n"
     ]
    }
   ],
   "source": [
    "pt_levels = list(np.arange(0.1, 2, 0.1).round(2))\n",
    "\n",
    "FCCs = []\n",
    "\n",
    "for lvl in pt_levels: \n",
    "    FCCs.append(calculate_ratios(lvl))\n",
    "\n",
    "FCC_arr = np.array(FCCs)"
   ]
  },
  {
   "cell_type": "code",
   "execution_count": 60,
   "metadata": {},
   "outputs": [
    {
     "data": {
      "text/plain": [
       "Text(0.5, 0.98, 'FCCs predicted by lmfit as perturbation strength varies\\n')"
      ]
     },
     "execution_count": 60,
     "metadata": {},
     "output_type": "execute_result"
    },
    {
     "data": {
      "image/png": "[encoded data removed]",
      "text/plain": [
       "<Figure size 1400x700 with 3 Axes>"
      ]
     },
     "metadata": {},
     "output_type": "display_data"
    }
   ],
   "source": [
    "plt.figure(figsize=(14,7))\n",
    "\n",
    "plt.subplot(1, 3, 1)\n",
    "plt.scatter(pt_levels, FCC_arr[:,0])\n",
    "plt.grid()\n",
    "plt.title('first FCC')\n",
    "plt.xlabel('x-fold perturbation ')\n",
    "plt.ylabel('FCCs calculated from lmfit-predicted elasticity ratio')\n",
    "plt.plot(1, r.getScaledFluxControlCoefficientMatrix()[0,0],'ro') \n",
    "\n",
    "plt.subplot(1, 3, 2)\n",
    "plt.scatter(pt_levels, FCC_arr[:,1])\n",
    "plt.grid()\n",
    "plt.title('second FCC')\n",
    "plt.xlabel('x-fold perturbation ')\n",
    "plt.plot(1, r.getScaledFluxControlCoefficientMatrix()[0,1],'ro') \n",
    "\n",
    "plt.subplot(1, 3, 3)\n",
    "plt.scatter(pt_levels, FCC_arr[:,2])\n",
    "plt.grid()\n",
    "plt.title('third FCC')\n",
    "plt.xlabel('x-fold perturbation ')\n",
    "plt.plot(1, r.getScaledFluxControlCoefficientMatrix()[0,2],'ro') \n",
    "\n",
    "plt.suptitle(\"FCCs predicted by lmfit as perturbation strength varies\\n\")"
   ]
  },
  {
   "cell_type": "code",
   "execution_count": 62,
   "metadata": {},
   "outputs": [
    {
     "data": {
      "text/plain": [
       "            J1,       J2,       J3\n",
       "J1 [[ 0.270781, 0.394391, 0.334828],\n",
       "J2  [ 0.270781, 0.394391, 0.334828],\n",
       "J3  [ 0.270781, 0.394391, 0.334828]]"
      ]
     },
     "execution_count": 62,
     "metadata": {},
     "output_type": "execute_result"
    }
   ],
   "source": [
    "r.getScaledFluxControlCoefficientMatrix()"
   ]
  }
 ],
 "metadata": {
  "kernelspec": {
   "display_name": "gayles",
   "language": "python",
   "name": "python3"
  },
  "language_info": {
   "codemirror_mode": {
    "name": "ipython",
    "version": 3
   },
   "file_extension": ".py",
   "mimetype": "text/x-python",
   "name": "python",
   "nbconvert_exporter": "python",
   "pygments_lexer": "ipython3",
   "version": "3.9.19"
  }
 },
 "nbformat": 4,
 "nbformat_minor": 2
}
