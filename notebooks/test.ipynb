{
 "cells": [
  {
   "cell_type": "code",
   "execution_count": 31,
   "metadata": {},
   "outputs": [],
   "source": [
    "from lmfit import minimize, Parameters\n",
    "\n",
    "import pandas as pd\n",
    "import tellurium as te\n",
    "import numpy as np\n",
    "\n",
    "import matplotlib.pyplot as plt\n",
    "\n",
    "import aesara.tensor as at\n",
    "import aesara\n",
    "floatX = aesara.config.floatX\n",
    "\n",
    "import os \n",
    "os.chdir('..')\n",
    "from emll.aesara_utils import LeastSquaresSolve\n",
    "os.chdir('notebooks')"
   ]
  },
  {
   "cell_type": "code",
   "execution_count": 2,
   "metadata": {},
   "outputs": [],
   "source": [
    "# import the data \n",
    "df = pd.read_csv('../data/Simplified_Teusink_yeast_1.05.csv')"
   ]
  },
  {
   "cell_type": "code",
   "execution_count": 3,
   "metadata": {},
   "outputs": [],
   "source": [
    "r = te.loada('../models/Simplified_Teusink_yeast.ant')\n",
    "r.steadyState()\n",
    "N=r.getFullStoichiometryMatrix()"
   ]
  },
  {
   "cell_type": "code",
   "execution_count": 4,
   "metadata": {},
   "outputs": [],
   "source": [
    "enzymes = ['e_' + i for i in r.getReactionIds()]\n",
    "internal = r.getFloatingSpeciesIds()\n",
    "external = r.getBoundarySpeciesIds()\n",
    "fluxes = ['v_' + i for i in r.getReactionIds()]\n",
    "\n",
    "v_star = df[fluxes].loc[0]"
   ]
  },
  {
   "cell_type": "code",
   "execution_count": 5,
   "metadata": {},
   "outputs": [],
   "source": [
    "ex = r.getScaledElasticityMatrix()\n",
    "\n",
    "a = r.getBoundarySpeciesIds()\n",
    "b = r.getReactionIds()\n",
    "c=[]\n",
    "for i in b: \n",
    "    for ii in a: \n",
    "        c.append(r.getUnscaledParameterElasticity(i, ii) * r[ii]/r[i])\n",
    "ey = np.array(c).reshape((len(b),len(a)))"
   ]
  },
  {
   "cell_type": "code",
   "execution_count": 19,
   "metadata": {},
   "outputs": [],
   "source": [
    "en = df[enzymes].loc[1:len(r.getReactionIds())]/df[enzymes].loc[0]\n",
    "xn = df[internal].loc[1:len(r.getReactionIds())]/df[internal].loc[0]\n",
    "vn = df[fluxes].loc[1:len(r.getReactionIds())]/df[fluxes].loc[0]\n",
    "yn = df[external].iloc[-(len(vn)):]/df[external].loc[0]\n"
   ]
  },
  {
   "cell_type": "markdown",
   "metadata": {},
   "source": [
    "## Using lmfit to predict elasticity values w/o ey values"
   ]
  },
  {
   "cell_type": "code",
   "execution_count": 23,
   "metadata": {},
   "outputs": [
    {
     "name": "stdout",
     "output_type": "stream",
     "text": [
      "7.162129346270159e-07\n"
     ]
    }
   ],
   "source": [
    "def cb(params, iter, resid, *args, **kws):\n",
    "    print(iter, (resid**2).sum().sum())\n",
    "\n",
    "def residual(params, xn, yn, v_star, df, *args, **kws):\n",
    "    \n",
    "    ex_params = [params[ii] for ii in [i for i in params]]\n",
    "    ex = np.asarray(ex_params).reshape((16,11))\n",
    "    \n",
    "    a = (en.values*v_star.values)\n",
    "    bb = np.ones((16,16))\n",
    "    cc = ex@(np.log(xn)).T\n",
    "\n",
    "    model = a.T*(bb + cc)\n",
    "\n",
    "    return (df[fluxes].loc[1:len(r.getReactionIds())].values-model.T).values\n",
    "\n",
    "    #model = np.diag(v_star)@(np.ones((16,19)) + ex@np.log(xn).T + ey@np.log(yn).T)\n",
    "    #return (df[fluxes].loc[1:].values-model.T)\n",
    "\n",
    "params = Parameters()\n",
    "\n",
    "for i in range(16*(11)):\n",
    "    params.add('Ex'+str(i), value=0, min=-10, max=10)\n",
    "\n",
    "out = minimize(residual, params, args=(xn, yn, v_star, df))#, iter_cb=cb)\n",
    "\n",
    "print(out.chisqr)\n",
    "# out.params"
   ]
  },
  {
   "cell_type": "code",
   "execution_count": 24,
   "metadata": {},
   "outputs": [
    {
     "data": {
      "text/plain": [
       "(array([  0,   1,  12,  13,  23,  34,  46,  47,  58,  59,  70,  71,  82,\n",
       "         83,  94,  95, 106, 107, 118, 119, 130, 131, 142, 143, 164, 169],\n",
       "       dtype=int64),)"
      ]
     },
     "execution_count": 24,
     "metadata": {},
     "output_type": "execute_result"
    }
   ],
   "source": [
    "lmfit_ex = np.array([i.value for i in out.params.values()])\n",
    "np.where(np.abs(lmfit_ex) > 0.01)\n"
   ]
  },
  {
   "cell_type": "code",
   "execution_count": 25,
   "metadata": {},
   "outputs": [
    {
     "data": {
      "text/plain": [
       "-0.9540906588775258"
      ]
     },
     "execution_count": 25,
     "metadata": {},
     "output_type": "execute_result"
    }
   ],
   "source": [
    "out.params['Ex13'].value"
   ]
  },
  {
   "cell_type": "code",
   "execution_count": 26,
   "metadata": {},
   "outputs": [
    {
     "data": {
      "text/plain": [
       "               GLCi,      G6P,       F6P,     F16P,      TRIO,       BPG,      P3G,       P2G,       PEP,       PYR,      ACE\n",
       "vGLK   [[   1.44964, -1.43765,         0,        0,         0,         0,        0,         0,         0,         0,        0],\n",
       "vPGI    [         0,  1.40347, -0.953057,        0,         0,         0,        0,         0,         0,         0,        0],\n",
       "vGLYCO  [         0,        1,         0,        0,         0,         0,        0,         0,         0,         0,        0],\n",
       "vTreha  [         0,        1,         0,        0,         0,         0,        0,         0,         0,         0,        0],\n",
       "vPFK    [         0,        0,   1.38303, -1.03688,         0,         0,        0,         0,         0,         0,        0],\n",
       "vALD    [         0,        0,         0,  1.10649, -0.823896,         0,        0,         0,         0,         0,        0],\n",
       "vGAPDH  [         0,        0,         0,        0,  0.969712, -0.705532,        0,         0,         0,         0,        0],\n",
       "vPGK    [         0,        0,         0,        0,         0,  0.929921, -0.66032,         0,         0,         0,        0],\n",
       "vPGM    [         0,        0,         0,        0,         0,         0, 0.935924, -0.653604,         0,         0,        0],\n",
       "vENO    [         0,        0,         0,        0,         0,         0,        0,   1.06926, -0.795416,         0,        0],\n",
       "vPYK    [         0,        0,         0,        0,         0,         0,        0,         0,   0.74076, -0.434956,        0],\n",
       "vPDC    [         0,        0,         0,        0,         0,         0,        0,         0,         0,  0.698435, -0.23159],\n",
       "vSUC    [         0,        0,         0,        0,         0,         0,        0,         0,         0,         0,        1],\n",
       "vGLT    [ -0.704947,        0,         0,        0,         0,         0,        0,         0,         0,         0,        0],\n",
       "vADH    [         0,        0,         0,        0,         0,         0,        0,         0,         0,         0, 0.773151],\n",
       "vG3PDH  [         0,        0,         0,        0,         1,         0,        0,         0,         0,         0,        0]]"
      ]
     },
     "execution_count": 26,
     "metadata": {},
     "output_type": "execute_result"
    }
   ],
   "source": [
    "ex"
   ]
  },
  {
   "cell_type": "markdown",
   "metadata": {},
   "source": [
    "Now, we are going to explore control coefficient values for each set of elasticity values predicted by lmfit"
   ]
  },
  {
   "cell_type": "code",
   "execution_count": 40,
   "metadata": {},
   "outputs": [],
   "source": [
    "def estimate_CCs(Ex):\n",
    "    vn[vn == 0] = 1e-6\n",
    "    \n",
    "    a = np.diag(en.values / vn.values)\n",
    "    a = np.diag(a)\n",
    "    a = a[np.newaxis,:].repeat(1, axis=0)\n",
    "\n",
    "    Ex_ss = a @ Ex\n",
    "    As = N @ np.diag(v_star) @ Ex_ss\n",
    "    bs = N @ np.diag(v_star)\n",
    "    bs = bs[np.newaxis, :].repeat(1, axis=0)\n",
    "    \n",
    "    As = at.as_tensor_variable(As)\n",
    "    bs = at.as_tensor_variable(bs)\n",
    "\n",
    "    def solve_aesara(A, b):\n",
    "        rsolve_op = LeastSquaresSolve()\n",
    "        return rsolve_op(A, b).squeeze()\n",
    "\n",
    "    CCC, _ = aesara.scan(lambda A, b: solve_aesara(A, b),\n",
    "                        sequences=[As, bs], strict=True)\n",
    "\n",
    "    identity = np.eye(len(N.T))\n",
    "    identity = identity[np.newaxis,:].repeat(1, axis=0)\n",
    "    \n",
    "    FCC = (Ex_ss @ CCC.eval()) + identity\n",
    "    \n",
    "    return -FCC"
   ]
  },
  {
   "cell_type": "code",
   "execution_count": 41,
   "metadata": {},
   "outputs": [],
   "source": [
    "lmfit_ex_df = pd.DataFrame(lmfit_ex.reshape((16,11)), index=r.getReactionIds(), columns=r.getFloatingSpeciesIds())\n",
    "FCC_estimates = np.squeeze(estimate_CCs(lmfit_ex_df.values))"
   ]
  },
  {
   "cell_type": "code",
   "execution_count": 42,
   "metadata": {},
   "outputs": [
    {
     "data": {
      "text/plain": [
       "array([-1.80606096e+00,  5.13373389e-02,  1.91238828e-02,  1.95488580e-01,\n",
       "        3.53763380e-02,  3.31154584e-02,  1.61423796e-02,  1.22314548e-02,\n",
       "        8.61649212e-03,  5.27647093e-03,  5.60849004e-03,  3.49773169e-03,\n",
       "        3.15888202e-04,  4.07186661e-01,  7.61420852e-04,  1.19823764e-02])"
      ]
     },
     "execution_count": 42,
     "metadata": {},
     "output_type": "execute_result"
    }
   ],
   "source": [
    "FCC_estimates[0]"
   ]
  },
  {
   "cell_type": "code",
   "execution_count": 39,
   "metadata": {},
   "outputs": [
    {
     "data": {
      "text/plain": [
       "[1.97827702e-01 5.10757773e-02 1.89554933e-02 1.93767264e-01\n",
       " 3.51968189e-02 3.29828174e-02 1.58676664e-02 1.20388199e-02\n",
       " 8.49372163e-03 5.19193084e-03 5.57501480e-03 3.47188097e-03\n",
       " 2.80782735e-04 4.06810162e-01 6.76802198e-04 1.17873451e-02]"
      ]
     },
     "execution_count": 39,
     "metadata": {},
     "output_type": "execute_result"
    }
   ],
   "source": [
    "r.getScaledFluxControlCoefficientMatrix()[0]"
   ]
  },
  {
   "cell_type": "code",
   "execution_count": 43,
   "metadata": {},
   "outputs": [
    {
     "data": {
      "text/plain": [
       "array([ 1.07719943e-01,  2.36109151e-01, -1.58929312e-02, -1.62461075e-01,\n",
       "        1.62721844e-01, -1.84767916e+00,  7.42276875e-02,  5.62219789e-02,\n",
       "        3.95763293e-02,  2.41947930e-02,  2.57223537e-02,  1.60017425e-02,\n",
       "        1.40114919e-03,  2.23765138e-01,  3.37734744e-03,  5.49937106e-02])"
      ]
     },
     "execution_count": 43,
     "metadata": {},
     "output_type": "execute_result"
    }
   ],
   "source": [
    "FCC_estimates[5]"
   ]
  },
  {
   "cell_type": "code",
   "execution_count": 44,
   "metadata": {},
   "outputs": [
    {
     "data": {
      "text/plain": [
       "[ 0.10793611  0.23703552 -0.01581667 -0.1616815   0.1633435   0.15306863\n",
       "  0.07363961  0.05587047  0.03941817  0.02409502  0.02587286  0.01611251\n",
       "  0.00130307  0.22195833  0.00314094  0.05470341]"
      ]
     },
     "execution_count": 44,
     "metadata": {},
     "output_type": "execute_result"
    }
   ],
   "source": [
    "r.getScaledFluxControlCoefficientMatrix()[5]"
   ]
  },
  {
   "cell_type": "markdown",
   "metadata": {},
   "source": [
    "With the exception of the reaction being perturbed, the predicted FCC values match up quite well with the ground truth FCC values. "
   ]
  }
 ],
 "metadata": {
  "kernelspec": {
   "display_name": "gayles",
   "language": "python",
   "name": "python3"
  },
  "language_info": {
   "codemirror_mode": {
    "name": "ipython",
    "version": 3
   },
   "file_extension": ".py",
   "mimetype": "text/x-python",
   "name": "python",
   "nbconvert_exporter": "python",
   "pygments_lexer": "ipython3",
   "version": "3.9.19"
  }
 },
 "nbformat": 4,
 "nbformat_minor": 2
}
