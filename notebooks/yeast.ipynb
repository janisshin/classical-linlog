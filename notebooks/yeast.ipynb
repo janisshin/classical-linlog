{
 "cells": [
  {
   "cell_type": "code",
   "execution_count": 2,
   "metadata": {},
   "outputs": [
    {
     "name": "stderr",
     "output_type": "stream",
     "text": [
      "WARNING (aesara.configdefaults): g++ not available, if using conda: `conda install m2w64-toolchain`\n",
      "WARNING (aesara.configdefaults): g++ not detected!  Aesara will be unable to compile C-implementations and will default to Python. Performance may be severely degraded. To remove this warning, set Aesara flags cxx to an empty string.\n",
      "WARNING (aesara.tensor.blas): Using NumPy C-API based implementation for BLAS functions.\n"
     ]
    }
   ],
   "source": [
    "from lmfit import minimize, Parameters\n",
    "\n",
    "import pandas as pd\n",
    "import tellurium as te\n",
    "import numpy as np\n",
    "\n",
    "import matplotlib.pyplot as plt\n",
    "import seaborn as sns\n",
    "\n",
    "import aesara.tensor as at\n",
    "import aesara\n",
    "floatX = aesara.config.floatX\n",
    "\n",
    "import os \n",
    "os.chdir('..')\n",
    "from emll.aesara_utils import LeastSquaresSolve\n",
    "os.chdir('notebooks')"
   ]
  },
  {
   "cell_type": "code",
   "execution_count": 3,
   "metadata": {},
   "outputs": [],
   "source": [
    "# import the data \n",
    "df = pd.read_csv('../data/Simplified_Teusink_yeast_1.05.csv')"
   ]
  },
  {
   "cell_type": "code",
   "execution_count": 4,
   "metadata": {},
   "outputs": [],
   "source": [
    "r = te.loada('../models/Simplified_Teusink_yeast.ant')\n",
    "r.steadyState()\n",
    "N=r.getFullStoichiometryMatrix()"
   ]
  },
  {
   "cell_type": "code",
   "execution_count": 5,
   "metadata": {},
   "outputs": [],
   "source": [
    "enzymes = ['e_' + i for i in r.getReactionIds()]\n",
    "internal = r.getFloatingSpeciesIds()\n",
    "external = r.getBoundarySpeciesIds()\n",
    "fluxes = ['v_' + i for i in r.getReactionIds()]\n",
    "\n",
    "v_star = df[fluxes].loc[0]"
   ]
  },
  {
   "cell_type": "code",
   "execution_count": 6,
   "metadata": {},
   "outputs": [],
   "source": [
    "ex = r.getScaledElasticityMatrix()\n",
    "\n",
    "a = r.getBoundarySpeciesIds()\n",
    "b = r.getReactionIds()\n",
    "c=[]\n",
    "for i in b: \n",
    "    for ii in a: \n",
    "        c.append(r.getUnscaledParameterElasticity(i, ii) * r[ii]/r[i])\n",
    "ey = np.array(c).reshape((len(b),len(a)))"
   ]
  },
  {
   "cell_type": "code",
   "execution_count": 7,
   "metadata": {},
   "outputs": [],
   "source": [
    "en = df[enzymes].loc[1:len(r.getReactionIds())]/df[enzymes].loc[0]\n",
    "xn = df[internal].loc[1:len(r.getReactionIds())]/df[internal].loc[0]\n",
    "vn = df[fluxes].loc[1:len(r.getReactionIds())]/df[fluxes].loc[0]\n",
    "yn = df[external].iloc[-(len(vn)):]/df[external].loc[0]\n"
   ]
  },
  {
   "cell_type": "markdown",
   "metadata": {},
   "source": [
    "## Using lmfit to predict elasticity values w/o ey values"
   ]
  },
  {
   "cell_type": "code",
   "execution_count": 8,
   "metadata": {},
   "outputs": [
    {
     "name": "stdout",
     "output_type": "stream",
     "text": [
      "7.162129346270159e-07\n"
     ]
    }
   ],
   "source": [
    "def cb(params, iter, resid, *args, **kws):\n",
    "    print(iter, (resid**2).sum().sum())\n",
    "\n",
    "def residual(params, xn, yn, v_star, df, *args, **kws):\n",
    "    \n",
    "    ex_params = [params[ii] for ii in [i for i in params]]\n",
    "    ex = np.asarray(ex_params).reshape((16,11))\n",
    "    \n",
    "    a = (en.values*v_star.values)\n",
    "    bb = np.ones((16,16))\n",
    "    cc = ex@(np.log(xn)).T\n",
    "\n",
    "    model = a.T*(bb + cc)\n",
    "\n",
    "    return (df[fluxes].loc[1:len(r.getReactionIds())].values-model.T).values\n",
    "\n",
    "    #model = np.diag(v_star)@(np.ones((16,19)) + ex@np.log(xn).T + ey@np.log(yn).T)\n",
    "    #return (df[fluxes].loc[1:].values-model.T)\n",
    "\n",
    "params = Parameters()\n",
    "\n",
    "for i in range(16*(11)):\n",
    "    params.add('Ex'+str(i), value=0, min=-10, max=10)\n",
    "\n",
    "out = minimize(residual, params, args=(xn, yn, v_star, df))#, iter_cb=cb)\n",
    "\n",
    "print(out.chisqr)\n",
    "# out.params"
   ]
  },
  {
   "cell_type": "code",
   "execution_count": 9,
   "metadata": {},
   "outputs": [
    {
     "data": {
      "text/plain": [
       "(array([  0,   1,  12,  13,  23,  34,  46,  47,  58,  59,  70,  71,  82,\n",
       "         83,  94,  95, 106, 107, 118, 119, 130, 131, 142, 143, 164, 169],\n",
       "       dtype=int64),)"
      ]
     },
     "execution_count": 9,
     "metadata": {},
     "output_type": "execute_result"
    }
   ],
   "source": [
    "lmfit_ex = np.array([i.value for i in out.params.values()])\n",
    "np.where(np.abs(lmfit_ex) > 0.01)"
   ]
  },
  {
   "cell_type": "code",
   "execution_count": 10,
   "metadata": {},
   "outputs": [
    {
     "data": {
      "text/plain": [
       "-0.9540906588775258"
      ]
     },
     "execution_count": 10,
     "metadata": {},
     "output_type": "execute_result"
    }
   ],
   "source": [
    "out.params['Ex13'].value"
   ]
  },
  {
   "cell_type": "code",
   "execution_count": 11,
   "metadata": {},
   "outputs": [
    {
     "data": {
      "text/plain": [
       "               GLCi,      G6P,       F6P,     F16P,      TRIO,       BPG,      P3G,       P2G,       PEP,       PYR,      ACE\n",
       "vGLK   [[   1.44964, -1.43765,         0,        0,         0,         0,        0,         0,         0,         0,        0],\n",
       "vPGI    [         0,  1.40347, -0.953057,        0,         0,         0,        0,         0,         0,         0,        0],\n",
       "vGLYCO  [         0,        1,         0,        0,         0,         0,        0,         0,         0,         0,        0],\n",
       "vTreha  [         0,        1,         0,        0,         0,         0,        0,         0,         0,         0,        0],\n",
       "vPFK    [         0,        0,   1.38303, -1.03688,         0,         0,        0,         0,         0,         0,        0],\n",
       "vALD    [         0,        0,         0,  1.10649, -0.823896,         0,        0,         0,         0,         0,        0],\n",
       "vGAPDH  [         0,        0,         0,        0,  0.969712, -0.705532,        0,         0,         0,         0,        0],\n",
       "vPGK    [         0,        0,         0,        0,         0,  0.929921, -0.66032,         0,         0,         0,        0],\n",
       "vPGM    [         0,        0,         0,        0,         0,         0, 0.935924, -0.653604,         0,         0,        0],\n",
       "vENO    [         0,        0,         0,        0,         0,         0,        0,   1.06926, -0.795416,         0,        0],\n",
       "vPYK    [         0,        0,         0,        0,         0,         0,        0,         0,   0.74076, -0.434956,        0],\n",
       "vPDC    [         0,        0,         0,        0,         0,         0,        0,         0,         0,  0.698435, -0.23159],\n",
       "vSUC    [         0,        0,         0,        0,         0,         0,        0,         0,         0,         0,        1],\n",
       "vGLT    [ -0.704947,        0,         0,        0,         0,         0,        0,         0,         0,         0,        0],\n",
       "vADH    [         0,        0,         0,        0,         0,         0,        0,         0,         0,         0, 0.773151],\n",
       "vG3PDH  [         0,        0,         0,        0,         1,         0,        0,         0,         0,         0,        0]]"
      ]
     },
     "execution_count": 11,
     "metadata": {},
     "output_type": "execute_result"
    }
   ],
   "source": [
    "ex"
   ]
  },
  {
   "cell_type": "markdown",
   "metadata": {},
   "source": [
    "Now, we are going to explore control coefficient values for each set of elasticity values predicted by lmfit"
   ]
  },
  {
   "cell_type": "code",
   "execution_count": 12,
   "metadata": {},
   "outputs": [],
   "source": [
    "def estimate_CCs(Ex):\n",
    "    vn[vn == 0] = 1e-6\n",
    "    \n",
    "    a = np.diag(en.values / vn.values)\n",
    "    a = np.diag(a)\n",
    "    a = a[np.newaxis,:].repeat(1, axis=0)\n",
    "\n",
    "    Ex_ss = a @ Ex\n",
    "    As = N @ np.diag(v_star) @ Ex_ss\n",
    "    bs = N @ np.diag(v_star)\n",
    "    bs = bs[np.newaxis, :].repeat(1, axis=0)\n",
    "    \n",
    "    As = at.as_tensor_variable(As)\n",
    "    bs = at.as_tensor_variable(bs)\n",
    "\n",
    "    def solve_aesara(A, b):\n",
    "        rsolve_op = LeastSquaresSolve()\n",
    "        return rsolve_op(A, b).squeeze()\n",
    "\n",
    "    CCC, _ = aesara.scan(lambda A, b: solve_aesara(A, b),\n",
    "                        sequences=[As, bs], strict=True)\n",
    "\n",
    "    identity = np.eye(len(N.T))\n",
    "    identity = identity[np.newaxis,:].repeat(1, axis=0)\n",
    "    \n",
    "    FCC = (Ex_ss @ CCC.eval()) + identity\n",
    "    \n",
    "    return -FCC"
   ]
  },
  {
   "cell_type": "code",
   "execution_count": 13,
   "metadata": {},
   "outputs": [],
   "source": [
    "lmfit_ex_df = pd.DataFrame(lmfit_ex.reshape((16,11)), index=r.getReactionIds(), columns=r.getFloatingSpeciesIds())\n",
    "FCC_estimates = np.squeeze(estimate_CCs(lmfit_ex_df.values))"
   ]
  },
  {
   "cell_type": "code",
   "execution_count": 14,
   "metadata": {},
   "outputs": [
    {
     "data": {
      "text/plain": [
       "array([-1.80606096e+00,  5.13373389e-02,  1.91238828e-02,  1.95488580e-01,\n",
       "        3.53763380e-02,  3.31154584e-02,  1.61423796e-02,  1.22314548e-02,\n",
       "        8.61649212e-03,  5.27647093e-03,  5.60849004e-03,  3.49773169e-03,\n",
       "        3.15888202e-04,  4.07186661e-01,  7.61420852e-04,  1.19823764e-02])"
      ]
     },
     "execution_count": 14,
     "metadata": {},
     "output_type": "execute_result"
    }
   ],
   "source": [
    "FCC_estimates[0]"
   ]
  },
  {
   "cell_type": "code",
   "execution_count": 15,
   "metadata": {},
   "outputs": [
    {
     "data": {
      "text/plain": [
       "[1.97827702e-01 5.10757773e-02 1.89554933e-02 1.93767264e-01\n",
       " 3.51968189e-02 3.29828174e-02 1.58676664e-02 1.20388199e-02\n",
       " 8.49372163e-03 5.19193084e-03 5.57501480e-03 3.47188097e-03\n",
       " 2.80782735e-04 4.06810162e-01 6.76802198e-04 1.17873451e-02]"
      ]
     },
     "execution_count": 15,
     "metadata": {},
     "output_type": "execute_result"
    }
   ],
   "source": [
    "r.getScaledFluxControlCoefficientMatrix()[0]"
   ]
  },
  {
   "cell_type": "code",
   "execution_count": 16,
   "metadata": {},
   "outputs": [
    {
     "data": {
      "text/plain": [
       "array([ 1.07719943e-01,  2.36109151e-01, -1.58929312e-02, -1.62461075e-01,\n",
       "        1.62721844e-01, -1.84767916e+00,  7.42276875e-02,  5.62219789e-02,\n",
       "        3.95763293e-02,  2.41947930e-02,  2.57223537e-02,  1.60017425e-02,\n",
       "        1.40114919e-03,  2.23765138e-01,  3.37734744e-03,  5.49937106e-02])"
      ]
     },
     "execution_count": 16,
     "metadata": {},
     "output_type": "execute_result"
    }
   ],
   "source": [
    "FCC_estimates[5]"
   ]
  },
  {
   "cell_type": "code",
   "execution_count": 17,
   "metadata": {},
   "outputs": [
    {
     "data": {
      "text/plain": [
       "[ 0.10793611  0.23703552 -0.01581667 -0.1616815   0.1633435   0.15306863\n",
       "  0.07363961  0.05587047  0.03941817  0.02409502  0.02587286  0.01611251\n",
       "  0.00130307  0.22195833  0.00314094  0.05470341]"
      ]
     },
     "execution_count": 17,
     "metadata": {},
     "output_type": "execute_result"
    }
   ],
   "source": [
    "r.getScaledFluxControlCoefficientMatrix()[5]"
   ]
  },
  {
   "cell_type": "markdown",
   "metadata": {},
   "source": [
    "With the exception of the reaction being perturbed, the predicted FCC values match up quite well with the ground truth FCC values. "
   ]
  },
  {
   "cell_type": "markdown",
   "metadata": {},
   "source": [
    "## Using a dataset with variable perturbation strengths\n"
   ]
  },
  {
   "cell_type": "code",
   "execution_count": 18,
   "metadata": {},
   "outputs": [],
   "source": [
    "# import the data \n",
    "df = pd.read_csv('../data/Simplified_Teusink_yeast_mixed.csv')\n",
    "\n",
    "r = te.loada('../models/Simplified_Teusink_yeast.ant')\n",
    "r.steadyState()\n",
    "N=r.getFullStoichiometryMatrix()\n",
    "\n",
    "enzymes = ['e_' + i for i in r.getReactionIds()]\n",
    "internal = r.getFloatingSpeciesIds()\n",
    "external = r.getBoundarySpeciesIds()\n",
    "fluxes = ['v_' + i for i in r.getReactionIds()]\n",
    "\n"
   ]
  },
  {
   "cell_type": "code",
   "execution_count": 19,
   "metadata": {},
   "outputs": [],
   "source": [
    "v_star = df[fluxes].loc[0]\n",
    "\n",
    "ex = r.getScaledElasticityMatrix()\n",
    "\n",
    "a = r.getBoundarySpeciesIds()\n",
    "b = r.getReactionIds()\n",
    "c=[]\n",
    "for i in b: \n",
    "    for ii in a: \n",
    "        c.append(r.getUnscaledParameterElasticity(i, ii) * r[ii]/r[i])\n",
    "ey = np.array(c).reshape((len(b),len(a)))\n",
    "\n",
    "en = df[enzymes].loc[1:len(r.getReactionIds())]/df[enzymes].loc[0]\n",
    "xn = df[internal].loc[1:len(r.getReactionIds())]/df[internal].loc[0]\n",
    "vn = df[fluxes].loc[1:len(r.getReactionIds())]/df[fluxes].loc[0]\n",
    "yn = df[external].iloc[-(len(vn)):]/df[external].loc[0]\n"
   ]
  },
  {
   "cell_type": "code",
   "execution_count": 20,
   "metadata": {},
   "outputs": [
    {
     "name": "stdout",
     "output_type": "stream",
     "text": [
      "0.0023103310061918453\n"
     ]
    }
   ],
   "source": [
    "def residual(params, xn, v_star, df, *args, **kws):\n",
    "    \n",
    "    ex_params = [params[ii] for ii in [i for i in params]]\n",
    "    ex = np.asarray(ex_params).reshape((16,11))\n",
    "    \n",
    "    a = (en.values*v_star.values)\n",
    "    bb = np.ones((16,16))\n",
    "    cc = ex@(np.log(xn)).T\n",
    "\n",
    "    model = a.T*(bb + cc)\n",
    "\n",
    "    return (df[fluxes].loc[1:len(r.getReactionIds())].values-model.T).values\n",
    "\n",
    "    #model = np.diag(v_star)@(np.ones((16,19)) + ex@np.log(xn).T + ey@np.log(yn).T)\n",
    "    #return (df[fluxes].loc[1:].values-model.T)\n",
    "\n",
    "params = Parameters()\n",
    "\n",
    "for i in range(16*(11)):\n",
    "    params.add('Ex'+str(i), value=0, min=-10, max=10)\n",
    "\n",
    "out = minimize(residual, params, args=(xn, v_star, df))#, iter_cb=cb)\n",
    "\n",
    "print(out.chisqr)\n",
    "# out.params"
   ]
  },
  {
   "cell_type": "markdown",
   "metadata": {},
   "source": [
    "## Removing perturbations from certain enzymes. "
   ]
  },
  {
   "cell_type": "code",
   "execution_count": 47,
   "metadata": {},
   "outputs": [],
   "source": [
    "r = te.loada('../models/Simplified_Teusink_yeast.ant')\n",
    "r.steadyState()\n",
    "N=r.getFullStoichiometryMatrix()\n",
    "\n",
    "enzymes = ['e_' + i for i in r.getReactionIds()]\n",
    "internal = r.getFloatingSpeciesIds()\n",
    "external = r.getBoundarySpeciesIds()\n",
    "fluxes = ['v_' + i for i in r.getReactionIds()]"
   ]
  },
  {
   "cell_type": "code",
   "execution_count": 30,
   "metadata": {},
   "outputs": [],
   "source": [
    "# import the data \n",
    "df = pd.read_csv('../data/Simplified_Teusink_yeast_missing3.csv')\n",
    "\n",
    "v_star = df[fluxes].loc[0]\n",
    "\n",
    "ex = r.getScaledElasticityMatrix()\n",
    "\n",
    "a = r.getBoundarySpeciesIds()\n",
    "b = r.getReactionIds()\n",
    "c=[]\n",
    "for i in b: \n",
    "    for ii in a: \n",
    "        c.append(r.getUnscaledParameterElasticity(i, ii) * r[ii]/r[i])\n",
    "ey = np.array(c).reshape((len(b),len(a)))\n",
    "\n",
    "en = df[enzymes].loc[1:len(r.getReactionIds())]/df[enzymes].loc[0]\n",
    "xn = df[internal].loc[1:len(r.getReactionIds())]/df[internal].loc[0]\n",
    "vn = df[fluxes].loc[1:len(r.getReactionIds())]/df[fluxes].loc[0]\n",
    "yn = df[external].iloc[-(len(vn)):]/df[external].loc[0]\n"
   ]
  },
  {
   "cell_type": "code",
   "execution_count": 31,
   "metadata": {},
   "outputs": [
    {
     "name": "stdout",
     "output_type": "stream",
     "text": [
      "0.00039463347995048336\n"
     ]
    }
   ],
   "source": [
    "def residual(params, xn, v_star, df, *args, **kws):\n",
    "    \n",
    "    ex_params = [params[ii] for ii in [i for i in params]]\n",
    "    ex = np.asarray(ex_params).reshape((16,11))\n",
    "    \n",
    "    a = (en.values*v_star.values)\n",
    "    bb = np.ones((16,16))\n",
    "    cc = ex@(np.log(xn)).T\n",
    "\n",
    "    model = a.T*(bb + cc)\n",
    "\n",
    "    return (df[fluxes].loc[1:len(r.getReactionIds())].values-model.T).values\n",
    "\n",
    "params = Parameters()\n",
    "\n",
    "for i in range(16*(11)):\n",
    "    params.add('Ex'+str(i), value=0, min=-10, max=10)\n",
    "\n",
    "out = minimize(residual, params, args=(xn, v_star, df))#, iter_cb=cb)\n",
    "\n",
    "print(out.chisqr)\n",
    "# out.params"
   ]
  },
  {
   "cell_type": "code",
   "execution_count": 34,
   "metadata": {},
   "outputs": [
    {
     "data": {
      "text/html": [
       "<div>\n",
       "<style scoped>\n",
       "    .dataframe tbody tr th:only-of-type {\n",
       "        vertical-align: middle;\n",
       "    }\n",
       "\n",
       "    .dataframe tbody tr th {\n",
       "        vertical-align: top;\n",
       "    }\n",
       "\n",
       "    .dataframe thead th {\n",
       "        text-align: right;\n",
       "    }\n",
       "</style>\n",
       "<table border=\"1\" class=\"dataframe\">\n",
       "  <thead>\n",
       "    <tr style=\"text-align: right;\">\n",
       "      <th></th>\n",
       "      <th>GLCi</th>\n",
       "      <th>G6P</th>\n",
       "      <th>F6P</th>\n",
       "      <th>F16P</th>\n",
       "      <th>TRIO</th>\n",
       "      <th>BPG</th>\n",
       "      <th>P3G</th>\n",
       "      <th>P2G</th>\n",
       "      <th>PEP</th>\n",
       "      <th>PYR</th>\n",
       "      <th>ACE</th>\n",
       "    </tr>\n",
       "  </thead>\n",
       "  <tbody>\n",
       "    <tr>\n",
       "      <th>vGLK</th>\n",
       "      <td>1.539948</td>\n",
       "      <td>-1.604117</td>\n",
       "      <td>0.002775</td>\n",
       "      <td>-0.002644</td>\n",
       "      <td>-0.006548</td>\n",
       "      <td>0.000134</td>\n",
       "      <td>-0.001218</td>\n",
       "      <td>-0.038112</td>\n",
       "      <td>0.029403</td>\n",
       "      <td>-0.000099</td>\n",
       "      <td>-0.000093</td>\n",
       "    </tr>\n",
       "    <tr>\n",
       "      <th>vPGI</th>\n",
       "      <td>-0.002822</td>\n",
       "      <td>1.400024</td>\n",
       "      <td>-0.941441</td>\n",
       "      <td>-0.033149</td>\n",
       "      <td>0.019292</td>\n",
       "      <td>0.000627</td>\n",
       "      <td>-0.001031</td>\n",
       "      <td>0.002425</td>\n",
       "      <td>-0.001699</td>\n",
       "      <td>-0.000004</td>\n",
       "      <td>-0.000003</td>\n",
       "    </tr>\n",
       "    <tr>\n",
       "      <th>vGLYCO</th>\n",
       "      <td>0.030555</td>\n",
       "      <td>1.050610</td>\n",
       "      <td>-0.007963</td>\n",
       "      <td>0.007155</td>\n",
       "      <td>-0.000657</td>\n",
       "      <td>-0.000152</td>\n",
       "      <td>0.003266</td>\n",
       "      <td>0.015563</td>\n",
       "      <td>-0.014897</td>\n",
       "      <td>0.000238</td>\n",
       "      <td>0.000216</td>\n",
       "    </tr>\n",
       "    <tr>\n",
       "      <th>vTreha</th>\n",
       "      <td>0.026246</td>\n",
       "      <td>1.056017</td>\n",
       "      <td>-0.003816</td>\n",
       "      <td>0.007633</td>\n",
       "      <td>0.000613</td>\n",
       "      <td>-0.000172</td>\n",
       "      <td>0.001103</td>\n",
       "      <td>0.024315</td>\n",
       "      <td>-0.018970</td>\n",
       "      <td>0.000076</td>\n",
       "      <td>0.000072</td>\n",
       "    </tr>\n",
       "    <tr>\n",
       "      <th>vPFK</th>\n",
       "      <td>-0.001787</td>\n",
       "      <td>-0.003154</td>\n",
       "      <td>1.340182</td>\n",
       "      <td>-1.055313</td>\n",
       "      <td>0.053554</td>\n",
       "      <td>0.001817</td>\n",
       "      <td>-0.002676</td>\n",
       "      <td>0.055798</td>\n",
       "      <td>-0.041333</td>\n",
       "      <td>0.000031</td>\n",
       "      <td>0.000035</td>\n",
       "    </tr>\n",
       "    <tr>\n",
       "      <th>vALD</th>\n",
       "      <td>-0.001068</td>\n",
       "      <td>-0.001929</td>\n",
       "      <td>0.002729</td>\n",
       "      <td>1.110600</td>\n",
       "      <td>-0.822750</td>\n",
       "      <td>0.005929</td>\n",
       "      <td>-0.008130</td>\n",
       "      <td>-0.030550</td>\n",
       "      <td>0.022683</td>\n",
       "      <td>-0.000009</td>\n",
       "      <td>-0.000010</td>\n",
       "    </tr>\n",
       "    <tr>\n",
       "      <th>vGAPDH</th>\n",
       "      <td>-0.001779</td>\n",
       "      <td>-0.003172</td>\n",
       "      <td>0.004531</td>\n",
       "      <td>-0.018345</td>\n",
       "      <td>0.970912</td>\n",
       "      <td>-0.648302</td>\n",
       "      <td>-0.034657</td>\n",
       "      <td>-0.040192</td>\n",
       "      <td>0.029803</td>\n",
       "      <td>0.000013</td>\n",
       "      <td>0.000014</td>\n",
       "    </tr>\n",
       "    <tr>\n",
       "      <th>vPGK</th>\n",
       "      <td>-0.001350</td>\n",
       "      <td>-0.002414</td>\n",
       "      <td>0.003441</td>\n",
       "      <td>-0.014324</td>\n",
       "      <td>0.014354</td>\n",
       "      <td>0.833785</td>\n",
       "      <td>-0.593567</td>\n",
       "      <td>0.101816</td>\n",
       "      <td>-0.075670</td>\n",
       "      <td>0.000148</td>\n",
       "      <td>0.000164</td>\n",
       "    </tr>\n",
       "    <tr>\n",
       "      <th>vPGM</th>\n",
       "      <td>-0.001090</td>\n",
       "      <td>-0.001954</td>\n",
       "      <td>0.002781</td>\n",
       "      <td>-0.011894</td>\n",
       "      <td>0.011890</td>\n",
       "      <td>0.002419</td>\n",
       "      <td>0.930597</td>\n",
       "      <td>-0.660776</td>\n",
       "      <td>0.007194</td>\n",
       "      <td>0.000271</td>\n",
       "      <td>0.000300</td>\n",
       "    </tr>\n",
       "    <tr>\n",
       "      <th>vENO</th>\n",
       "      <td>-0.000607</td>\n",
       "      <td>-0.001084</td>\n",
       "      <td>0.001547</td>\n",
       "      <td>-0.006427</td>\n",
       "      <td>0.006441</td>\n",
       "      <td>0.001360</td>\n",
       "      <td>-0.002075</td>\n",
       "      <td>1.057745</td>\n",
       "      <td>-0.784660</td>\n",
       "      <td>0.000593</td>\n",
       "      <td>0.000669</td>\n",
       "    </tr>\n",
       "    <tr>\n",
       "      <th>vPYK</th>\n",
       "      <td>-0.000265</td>\n",
       "      <td>-0.000453</td>\n",
       "      <td>0.000665</td>\n",
       "      <td>-0.001692</td>\n",
       "      <td>0.001794</td>\n",
       "      <td>0.000674</td>\n",
       "      <td>-0.000939</td>\n",
       "      <td>-0.014354</td>\n",
       "      <td>0.750319</td>\n",
       "      <td>-0.428824</td>\n",
       "      <td>0.002078</td>\n",
       "    </tr>\n",
       "    <tr>\n",
       "      <th>vPDC</th>\n",
       "      <td>0.000369</td>\n",
       "      <td>0.000797</td>\n",
       "      <td>-0.001024</td>\n",
       "      <td>0.006969</td>\n",
       "      <td>-0.006727</td>\n",
       "      <td>-0.000633</td>\n",
       "      <td>0.001428</td>\n",
       "      <td>-0.039629</td>\n",
       "      <td>0.028350</td>\n",
       "      <td>0.691536</td>\n",
       "      <td>-0.188462</td>\n",
       "    </tr>\n",
       "    <tr>\n",
       "      <th>vSUC</th>\n",
       "      <td>0.001633</td>\n",
       "      <td>0.001873</td>\n",
       "      <td>-0.003441</td>\n",
       "      <td>0.024383</td>\n",
       "      <td>-0.023655</td>\n",
       "      <td>-0.003233</td>\n",
       "      <td>0.002136</td>\n",
       "      <td>0.218155</td>\n",
       "      <td>-0.150083</td>\n",
       "      <td>0.027993</td>\n",
       "      <td>0.773243</td>\n",
       "    </tr>\n",
       "    <tr>\n",
       "      <th>vGLT</th>\n",
       "      <td>-0.706995</td>\n",
       "      <td>-0.004945</td>\n",
       "      <td>0.000217</td>\n",
       "      <td>-0.000285</td>\n",
       "      <td>-0.000310</td>\n",
       "      <td>0.000010</td>\n",
       "      <td>-0.000080</td>\n",
       "      <td>-0.002232</td>\n",
       "      <td>0.001727</td>\n",
       "      <td>-0.000006</td>\n",
       "      <td>-0.000006</td>\n",
       "    </tr>\n",
       "    <tr>\n",
       "      <th>vADH</th>\n",
       "      <td>0.000583</td>\n",
       "      <td>0.000658</td>\n",
       "      <td>-0.001216</td>\n",
       "      <td>0.010281</td>\n",
       "      <td>-0.009880</td>\n",
       "      <td>-0.001059</td>\n",
       "      <td>0.000622</td>\n",
       "      <td>0.135452</td>\n",
       "      <td>-0.095984</td>\n",
       "      <td>0.010745</td>\n",
       "      <td>0.644212</td>\n",
       "    </tr>\n",
       "    <tr>\n",
       "      <th>vG3PDH</th>\n",
       "      <td>0.019559</td>\n",
       "      <td>0.033955</td>\n",
       "      <td>-0.049456</td>\n",
       "      <td>0.171472</td>\n",
       "      <td>0.865629</td>\n",
       "      <td>-0.019124</td>\n",
       "      <td>0.028644</td>\n",
       "      <td>0.038231</td>\n",
       "      <td>-0.029005</td>\n",
       "      <td>0.000027</td>\n",
       "      <td>0.000022</td>\n",
       "    </tr>\n",
       "  </tbody>\n",
       "</table>\n",
       "</div>"
      ],
      "text/plain": [
       "            GLCi       G6P       F6P      F16P      TRIO       BPG       P3G  \\\n",
       "vGLK    1.539948 -1.604117  0.002775 -0.002644 -0.006548  0.000134 -0.001218   \n",
       "vPGI   -0.002822  1.400024 -0.941441 -0.033149  0.019292  0.000627 -0.001031   \n",
       "vGLYCO  0.030555  1.050610 -0.007963  0.007155 -0.000657 -0.000152  0.003266   \n",
       "vTreha  0.026246  1.056017 -0.003816  0.007633  0.000613 -0.000172  0.001103   \n",
       "vPFK   -0.001787 -0.003154  1.340182 -1.055313  0.053554  0.001817 -0.002676   \n",
       "vALD   -0.001068 -0.001929  0.002729  1.110600 -0.822750  0.005929 -0.008130   \n",
       "vGAPDH -0.001779 -0.003172  0.004531 -0.018345  0.970912 -0.648302 -0.034657   \n",
       "vPGK   -0.001350 -0.002414  0.003441 -0.014324  0.014354  0.833785 -0.593567   \n",
       "vPGM   -0.001090 -0.001954  0.002781 -0.011894  0.011890  0.002419  0.930597   \n",
       "vENO   -0.000607 -0.001084  0.001547 -0.006427  0.006441  0.001360 -0.002075   \n",
       "vPYK   -0.000265 -0.000453  0.000665 -0.001692  0.001794  0.000674 -0.000939   \n",
       "vPDC    0.000369  0.000797 -0.001024  0.006969 -0.006727 -0.000633  0.001428   \n",
       "vSUC    0.001633  0.001873 -0.003441  0.024383 -0.023655 -0.003233  0.002136   \n",
       "vGLT   -0.706995 -0.004945  0.000217 -0.000285 -0.000310  0.000010 -0.000080   \n",
       "vADH    0.000583  0.000658 -0.001216  0.010281 -0.009880 -0.001059  0.000622   \n",
       "vG3PDH  0.019559  0.033955 -0.049456  0.171472  0.865629 -0.019124  0.028644   \n",
       "\n",
       "             P2G       PEP       PYR       ACE  \n",
       "vGLK   -0.038112  0.029403 -0.000099 -0.000093  \n",
       "vPGI    0.002425 -0.001699 -0.000004 -0.000003  \n",
       "vGLYCO  0.015563 -0.014897  0.000238  0.000216  \n",
       "vTreha  0.024315 -0.018970  0.000076  0.000072  \n",
       "vPFK    0.055798 -0.041333  0.000031  0.000035  \n",
       "vALD   -0.030550  0.022683 -0.000009 -0.000010  \n",
       "vGAPDH -0.040192  0.029803  0.000013  0.000014  \n",
       "vPGK    0.101816 -0.075670  0.000148  0.000164  \n",
       "vPGM   -0.660776  0.007194  0.000271  0.000300  \n",
       "vENO    1.057745 -0.784660  0.000593  0.000669  \n",
       "vPYK   -0.014354  0.750319 -0.428824  0.002078  \n",
       "vPDC   -0.039629  0.028350  0.691536 -0.188462  \n",
       "vSUC    0.218155 -0.150083  0.027993  0.773243  \n",
       "vGLT   -0.002232  0.001727 -0.000006 -0.000006  \n",
       "vADH    0.135452 -0.095984  0.010745  0.644212  \n",
       "vG3PDH  0.038231 -0.029005  0.000027  0.000022  "
      ]
     },
     "execution_count": 34,
     "metadata": {},
     "output_type": "execute_result"
    }
   ],
   "source": [
    "mis3_ex = np.array([i.value for i in out.params.values()]).reshape((16,11))\n",
    "mis3_ex = pd.DataFrame(mis3_ex, columns=r.getFloatingSpeciesIds(), index=r.getReactionIds())\n",
    "mis3_ex"
   ]
  },
  {
   "cell_type": "markdown",
   "metadata": {},
   "source": [
    "## How many perturbations do you even need?"
   ]
  },
  {
   "cell_type": "code",
   "execution_count": 36,
   "metadata": {},
   "outputs": [],
   "source": [
    "missing_data_filenames = [\n",
    "    '../data/Simplified_Teusink_yeast_1.05.csv',\n",
    "    '../data/Simplified_Teusink_yeast_missing3.csv',\n",
    "    '../data/Simplified_Teusink_yeast_missing6.csv',\n",
    "    '../data/Simplified_Teusink_yeast_missing9.csv',\n",
    "    '../data/Simplified_Teusink_yeast_missing12.csv'\n",
    "]"
   ]
  },
  {
   "cell_type": "code",
   "execution_count": 71,
   "metadata": {},
   "outputs": [],
   "source": [
    "mis_exs = [ex.flatten()]\n",
    "for f in missing_data_filenames:\n",
    "    df = pd.read_csv(f)\n",
    "\n",
    "    v_star = df[fluxes].loc[0]\n",
    "\n",
    "    ex = r.getScaledElasticityMatrix()\n",
    "\n",
    "    a = r.getBoundarySpeciesIds()\n",
    "    b = r.getReactionIds()\n",
    "    c=[]\n",
    "    for i in b: \n",
    "        for ii in a: \n",
    "            c.append(r.getUnscaledParameterElasticity(i, ii) * r[ii]/r[i])\n",
    "    ey = np.array(c).reshape((len(b),len(a)))\n",
    "\n",
    "    en = df[enzymes].loc[1:len(r.getReactionIds())]/df[enzymes].loc[0]\n",
    "    xn = df[internal].loc[1:len(r.getReactionIds())]/df[internal].loc[0]\n",
    "    vn = df[fluxes].loc[1:len(r.getReactionIds())]/df[fluxes].loc[0]\n",
    "    yn = df[external].iloc[-(len(vn)):]/df[external].loc[0]\n",
    "    \n",
    "    out = minimize(residual, params, args=(xn, v_star, df))#, iter_cb=cb)\n",
    "    mis_exs.append(np.array([i.value for i in out.params.values()]))"
   ]
  },
  {
   "cell_type": "code",
   "execution_count": 72,
   "metadata": {},
   "outputs": [
    {
     "data": {
      "text/html": [
       "<div>\n",
       "<style scoped>\n",
       "    .dataframe tbody tr th:only-of-type {\n",
       "        vertical-align: middle;\n",
       "    }\n",
       "\n",
       "    .dataframe tbody tr th {\n",
       "        vertical-align: top;\n",
       "    }\n",
       "\n",
       "    .dataframe thead th {\n",
       "        text-align: right;\n",
       "    }\n",
       "</style>\n",
       "<table border=\"1\" class=\"dataframe\">\n",
       "  <thead>\n",
       "    <tr style=\"text-align: right;\">\n",
       "      <th></th>\n",
       "      <th>0</th>\n",
       "      <th>1</th>\n",
       "      <th>2</th>\n",
       "      <th>3</th>\n",
       "      <th>4</th>\n",
       "      <th>5</th>\n",
       "      <th>6</th>\n",
       "      <th>7</th>\n",
       "      <th>8</th>\n",
       "      <th>9</th>\n",
       "      <th>...</th>\n",
       "      <th>166</th>\n",
       "      <th>167</th>\n",
       "      <th>168</th>\n",
       "      <th>169</th>\n",
       "      <th>170</th>\n",
       "      <th>171</th>\n",
       "      <th>172</th>\n",
       "      <th>173</th>\n",
       "      <th>174</th>\n",
       "      <th>175</th>\n",
       "    </tr>\n",
       "  </thead>\n",
       "  <tbody>\n",
       "    <tr>\n",
       "      <th>0</th>\n",
       "      <td>1.449644</td>\n",
       "      <td>-1.437645</td>\n",
       "      <td>0.000000</td>\n",
       "      <td>0.000000</td>\n",
       "      <td>0.000000</td>\n",
       "      <td>0.000000</td>\n",
       "      <td>0.000000</td>\n",
       "      <td>0.000000</td>\n",
       "      <td>0.000000</td>\n",
       "      <td>0.000000</td>\n",
       "      <td>...</td>\n",
       "      <td>0.000000</td>\n",
       "      <td>0.000000</td>\n",
       "      <td>0.000000</td>\n",
       "      <td>1.000000</td>\n",
       "      <td>0.000000</td>\n",
       "      <td>0.000000</td>\n",
       "      <td>0.000000</td>\n",
       "      <td>0.000000</td>\n",
       "      <td>0.000000</td>\n",
       "      <td>0.000000</td>\n",
       "    </tr>\n",
       "    <tr>\n",
       "      <th>1</th>\n",
       "      <td>1.539948</td>\n",
       "      <td>-1.604117</td>\n",
       "      <td>0.002775</td>\n",
       "      <td>-0.002644</td>\n",
       "      <td>-0.006548</td>\n",
       "      <td>0.000134</td>\n",
       "      <td>-0.001218</td>\n",
       "      <td>-0.038112</td>\n",
       "      <td>0.029403</td>\n",
       "      <td>-0.000099</td>\n",
       "      <td>...</td>\n",
       "      <td>0.033955</td>\n",
       "      <td>-0.049456</td>\n",
       "      <td>0.171472</td>\n",
       "      <td>0.865629</td>\n",
       "      <td>-0.019124</td>\n",
       "      <td>0.028644</td>\n",
       "      <td>0.038231</td>\n",
       "      <td>-0.029005</td>\n",
       "      <td>0.000027</td>\n",
       "      <td>0.000022</td>\n",
       "    </tr>\n",
       "    <tr>\n",
       "      <th>2</th>\n",
       "      <td>1.568559</td>\n",
       "      <td>-9.768224</td>\n",
       "      <td>5.475394</td>\n",
       "      <td>0.301089</td>\n",
       "      <td>4.588298</td>\n",
       "      <td>-2.533875</td>\n",
       "      <td>-0.100082</td>\n",
       "      <td>0.774685</td>\n",
       "      <td>-0.574883</td>\n",
       "      <td>0.000583</td>\n",
       "      <td>...</td>\n",
       "      <td>5.050747</td>\n",
       "      <td>-3.409659</td>\n",
       "      <td>-0.027794</td>\n",
       "      <td>-0.938000</td>\n",
       "      <td>0.851019</td>\n",
       "      <td>0.054953</td>\n",
       "      <td>-1.622156</td>\n",
       "      <td>1.203483</td>\n",
       "      <td>-0.001060</td>\n",
       "      <td>-0.001178</td>\n",
       "    </tr>\n",
       "    <tr>\n",
       "      <th>3</th>\n",
       "      <td>1.543411</td>\n",
       "      <td>-1.597797</td>\n",
       "      <td>-0.850407</td>\n",
       "      <td>0.683284</td>\n",
       "      <td>-0.231257</td>\n",
       "      <td>0.196580</td>\n",
       "      <td>0.013591</td>\n",
       "      <td>0.825212</td>\n",
       "      <td>-0.612124</td>\n",
       "      <td>-0.010507</td>\n",
       "      <td>...</td>\n",
       "      <td>0.033856</td>\n",
       "      <td>0.081933</td>\n",
       "      <td>0.063328</td>\n",
       "      <td>1.251614</td>\n",
       "      <td>-0.285852</td>\n",
       "      <td>0.014058</td>\n",
       "      <td>-0.500292</td>\n",
       "      <td>0.371182</td>\n",
       "      <td>0.007193</td>\n",
       "      <td>-0.002390</td>\n",
       "    </tr>\n",
       "    <tr>\n",
       "      <th>4</th>\n",
       "      <td>1.450789</td>\n",
       "      <td>-1.063106</td>\n",
       "      <td>0.477022</td>\n",
       "      <td>-0.368915</td>\n",
       "      <td>0.095643</td>\n",
       "      <td>-0.077882</td>\n",
       "      <td>-0.005619</td>\n",
       "      <td>-0.286662</td>\n",
       "      <td>0.212637</td>\n",
       "      <td>0.003624</td>\n",
       "      <td>...</td>\n",
       "      <td>9.326050</td>\n",
       "      <td>-0.176398</td>\n",
       "      <td>3.636492</td>\n",
       "      <td>-0.821293</td>\n",
       "      <td>-0.374492</td>\n",
       "      <td>-0.008391</td>\n",
       "      <td>0.589945</td>\n",
       "      <td>-0.437634</td>\n",
       "      <td>-0.007798</td>\n",
       "      <td>0.002588</td>\n",
       "    </tr>\n",
       "  </tbody>\n",
       "</table>\n",
       "<p>5 rows × 176 columns</p>\n",
       "</div>"
      ],
      "text/plain": [
       "        0         1         2         3         4         5         6    \\\n",
       "0  1.449644 -1.437645  0.000000  0.000000  0.000000  0.000000  0.000000   \n",
       "1  1.539948 -1.604117  0.002775 -0.002644 -0.006548  0.000134 -0.001218   \n",
       "2  1.568559 -9.768224  5.475394  0.301089  4.588298 -2.533875 -0.100082   \n",
       "3  1.543411 -1.597797 -0.850407  0.683284 -0.231257  0.196580  0.013591   \n",
       "4  1.450789 -1.063106  0.477022 -0.368915  0.095643 -0.077882 -0.005619   \n",
       "\n",
       "        7         8         9    ...       166       167       168       169  \\\n",
       "0  0.000000  0.000000  0.000000  ...  0.000000  0.000000  0.000000  1.000000   \n",
       "1 -0.038112  0.029403 -0.000099  ...  0.033955 -0.049456  0.171472  0.865629   \n",
       "2  0.774685 -0.574883  0.000583  ...  5.050747 -3.409659 -0.027794 -0.938000   \n",
       "3  0.825212 -0.612124 -0.010507  ...  0.033856  0.081933  0.063328  1.251614   \n",
       "4 -0.286662  0.212637  0.003624  ...  9.326050 -0.176398  3.636492 -0.821293   \n",
       "\n",
       "        170       171       172       173       174       175  \n",
       "0  0.000000  0.000000  0.000000  0.000000  0.000000  0.000000  \n",
       "1 -0.019124  0.028644  0.038231 -0.029005  0.000027  0.000022  \n",
       "2  0.851019  0.054953 -1.622156  1.203483 -0.001060 -0.001178  \n",
       "3 -0.285852  0.014058 -0.500292  0.371182  0.007193 -0.002390  \n",
       "4 -0.374492 -0.008391  0.589945 -0.437634 -0.007798  0.002588  \n",
       "\n",
       "[5 rows x 176 columns]"
      ]
     },
     "execution_count": 72,
     "metadata": {},
     "output_type": "execute_result"
    }
   ],
   "source": [
    "mis_results = pd.DataFrame(mis_exs)\n",
    "mis_results"
   ]
  },
  {
   "cell_type": "code",
   "execution_count": 73,
   "metadata": {},
   "outputs": [
    {
     "data": {
      "text/html": [
       "<div>\n",
       "<style scoped>\n",
       "    .dataframe tbody tr th:only-of-type {\n",
       "        vertical-align: middle;\n",
       "    }\n",
       "\n",
       "    .dataframe tbody tr th {\n",
       "        vertical-align: top;\n",
       "    }\n",
       "\n",
       "    .dataframe thead th {\n",
       "        text-align: right;\n",
       "    }\n",
       "</style>\n",
       "<table border=\"1\" class=\"dataframe\">\n",
       "  <thead>\n",
       "    <tr style=\"text-align: right;\">\n",
       "      <th></th>\n",
       "      <th>0</th>\n",
       "      <th>1</th>\n",
       "      <th>2</th>\n",
       "      <th>3</th>\n",
       "      <th>4</th>\n",
       "      <th>5</th>\n",
       "      <th>6</th>\n",
       "      <th>7</th>\n",
       "      <th>8</th>\n",
       "      <th>9</th>\n",
       "      <th>...</th>\n",
       "      <th>166</th>\n",
       "      <th>167</th>\n",
       "      <th>168</th>\n",
       "      <th>169</th>\n",
       "      <th>170</th>\n",
       "      <th>171</th>\n",
       "      <th>172</th>\n",
       "      <th>173</th>\n",
       "      <th>174</th>\n",
       "      <th>175</th>\n",
       "    </tr>\n",
       "  </thead>\n",
       "  <tbody>\n",
       "    <tr>\n",
       "      <th>0</th>\n",
       "      <td>0.000000</td>\n",
       "      <td>0.000000</td>\n",
       "      <td>0.000000</td>\n",
       "      <td>0.000000</td>\n",
       "      <td>0.000000</td>\n",
       "      <td>0.000000</td>\n",
       "      <td>0.000000</td>\n",
       "      <td>0.000000</td>\n",
       "      <td>0.000000</td>\n",
       "      <td>0.000000</td>\n",
       "      <td>...</td>\n",
       "      <td>0.000000</td>\n",
       "      <td>0.000000</td>\n",
       "      <td>0.000000</td>\n",
       "      <td>0.000000</td>\n",
       "      <td>0.000000</td>\n",
       "      <td>0.000000</td>\n",
       "      <td>0.000000</td>\n",
       "      <td>0.000000</td>\n",
       "      <td>0.000000</td>\n",
       "      <td>0.000000</td>\n",
       "    </tr>\n",
       "    <tr>\n",
       "      <th>1</th>\n",
       "      <td>0.090305</td>\n",
       "      <td>-0.166472</td>\n",
       "      <td>0.002775</td>\n",
       "      <td>-0.002644</td>\n",
       "      <td>-0.006548</td>\n",
       "      <td>0.000134</td>\n",
       "      <td>-0.001218</td>\n",
       "      <td>-0.038112</td>\n",
       "      <td>0.029403</td>\n",
       "      <td>-0.000099</td>\n",
       "      <td>...</td>\n",
       "      <td>0.033955</td>\n",
       "      <td>-0.049456</td>\n",
       "      <td>0.171472</td>\n",
       "      <td>-0.134371</td>\n",
       "      <td>-0.019124</td>\n",
       "      <td>0.028644</td>\n",
       "      <td>0.038231</td>\n",
       "      <td>-0.029005</td>\n",
       "      <td>0.000027</td>\n",
       "      <td>0.000022</td>\n",
       "    </tr>\n",
       "    <tr>\n",
       "      <th>2</th>\n",
       "      <td>0.118915</td>\n",
       "      <td>-8.330579</td>\n",
       "      <td>5.475394</td>\n",
       "      <td>0.301089</td>\n",
       "      <td>4.588298</td>\n",
       "      <td>-2.533875</td>\n",
       "      <td>-0.100082</td>\n",
       "      <td>0.774685</td>\n",
       "      <td>-0.574883</td>\n",
       "      <td>0.000583</td>\n",
       "      <td>...</td>\n",
       "      <td>5.050747</td>\n",
       "      <td>-3.409659</td>\n",
       "      <td>-0.027794</td>\n",
       "      <td>-1.938000</td>\n",
       "      <td>0.851019</td>\n",
       "      <td>0.054953</td>\n",
       "      <td>-1.622156</td>\n",
       "      <td>1.203483</td>\n",
       "      <td>-0.001060</td>\n",
       "      <td>-0.001178</td>\n",
       "    </tr>\n",
       "    <tr>\n",
       "      <th>3</th>\n",
       "      <td>0.093767</td>\n",
       "      <td>-0.160152</td>\n",
       "      <td>-0.850407</td>\n",
       "      <td>0.683284</td>\n",
       "      <td>-0.231257</td>\n",
       "      <td>0.196580</td>\n",
       "      <td>0.013591</td>\n",
       "      <td>0.825212</td>\n",
       "      <td>-0.612124</td>\n",
       "      <td>-0.010507</td>\n",
       "      <td>...</td>\n",
       "      <td>0.033856</td>\n",
       "      <td>0.081933</td>\n",
       "      <td>0.063328</td>\n",
       "      <td>0.251614</td>\n",
       "      <td>-0.285852</td>\n",
       "      <td>0.014058</td>\n",
       "      <td>-0.500292</td>\n",
       "      <td>0.371182</td>\n",
       "      <td>0.007193</td>\n",
       "      <td>-0.002390</td>\n",
       "    </tr>\n",
       "    <tr>\n",
       "      <th>4</th>\n",
       "      <td>0.001145</td>\n",
       "      <td>0.374539</td>\n",
       "      <td>0.477022</td>\n",
       "      <td>-0.368915</td>\n",
       "      <td>0.095643</td>\n",
       "      <td>-0.077882</td>\n",
       "      <td>-0.005619</td>\n",
       "      <td>-0.286662</td>\n",
       "      <td>0.212637</td>\n",
       "      <td>0.003624</td>\n",
       "      <td>...</td>\n",
       "      <td>9.326050</td>\n",
       "      <td>-0.176398</td>\n",
       "      <td>3.636492</td>\n",
       "      <td>-1.821293</td>\n",
       "      <td>-0.374492</td>\n",
       "      <td>-0.008391</td>\n",
       "      <td>0.589945</td>\n",
       "      <td>-0.437634</td>\n",
       "      <td>-0.007798</td>\n",
       "      <td>0.002588</td>\n",
       "    </tr>\n",
       "  </tbody>\n",
       "</table>\n",
       "<p>5 rows × 176 columns</p>\n",
       "</div>"
      ],
      "text/plain": [
       "        0         1         2         3         4         5         6    \\\n",
       "0  0.000000  0.000000  0.000000  0.000000  0.000000  0.000000  0.000000   \n",
       "1  0.090305 -0.166472  0.002775 -0.002644 -0.006548  0.000134 -0.001218   \n",
       "2  0.118915 -8.330579  5.475394  0.301089  4.588298 -2.533875 -0.100082   \n",
       "3  0.093767 -0.160152 -0.850407  0.683284 -0.231257  0.196580  0.013591   \n",
       "4  0.001145  0.374539  0.477022 -0.368915  0.095643 -0.077882 -0.005619   \n",
       "\n",
       "        7         8         9    ...       166       167       168       169  \\\n",
       "0  0.000000  0.000000  0.000000  ...  0.000000  0.000000  0.000000  0.000000   \n",
       "1 -0.038112  0.029403 -0.000099  ...  0.033955 -0.049456  0.171472 -0.134371   \n",
       "2  0.774685 -0.574883  0.000583  ...  5.050747 -3.409659 -0.027794 -1.938000   \n",
       "3  0.825212 -0.612124 -0.010507  ...  0.033856  0.081933  0.063328  0.251614   \n",
       "4 -0.286662  0.212637  0.003624  ...  9.326050 -0.176398  3.636492 -1.821293   \n",
       "\n",
       "        170       171       172       173       174       175  \n",
       "0  0.000000  0.000000  0.000000  0.000000  0.000000  0.000000  \n",
       "1 -0.019124  0.028644  0.038231 -0.029005  0.000027  0.000022  \n",
       "2  0.851019  0.054953 -1.622156  1.203483 -0.001060 -0.001178  \n",
       "3 -0.285852  0.014058 -0.500292  0.371182  0.007193 -0.002390  \n",
       "4 -0.374492 -0.008391  0.589945 -0.437634 -0.007798  0.002588  \n",
       "\n",
       "[5 rows x 176 columns]"
      ]
     },
     "execution_count": 73,
     "metadata": {},
     "output_type": "execute_result"
    }
   ],
   "source": [
    "mis_difs = [i - ex.flatten() for i in mis_exs]\n",
    "mis_difs_df = pd.DataFrame(mis_difs)\n",
    "mis_difs_df"
   ]
  },
  {
   "cell_type": "code",
   "execution_count": 83,
   "metadata": {},
   "outputs": [
    {
     "data": {
      "text/plain": [
       "Text(0.5, 1.0, 'absolute error of ex values when perturbation data is missing')"
      ]
     },
     "execution_count": 83,
     "metadata": {},
     "output_type": "execute_result"
    },
    {
     "data": {
      "image/png": "[encoded data removed]",
      "text/plain": [
       "<Figure size 640x480 with 1 Axes>"
      ]
     },
     "metadata": {},
     "output_type": "display_data"
    }
   ],
   "source": [
    "fig, ax = plt.subplots(layout='constrained')\n",
    "ax.bar(np.arange(1,16*11+1,1),mis_difs_df.iloc[1], label='missing 3')\n",
    "ax.bar(np.arange(1,16*11+1,1),mis_difs_df.iloc[2], alpha=0.4, label='missing 6')\n",
    "ax.bar(np.arange(1,16*11+1,1),mis_difs_df.iloc[3], alpha=0.4, label='missing 9')\n",
    "ax.bar(np.arange(1,16*11+1,1),mis_difs_df.iloc[4], alpha=0.4, label='missing 12')\n",
    "ax.legend(loc='lower right')\n",
    "ax.set_title('absolute error of ex values when perturbation data is missing')"
   ]
  },
  {
   "cell_type": "markdown",
   "metadata": {},
   "source": [
    "## Using Bayesian inference"
   ]
  },
  {
   "cell_type": "markdown",
   "metadata": {},
   "source": [
    "Now that we have the math squared away, we will use Bayesian inference and see if we can get comparable results to lmfit.\n"
   ]
  },
  {
   "cell_type": "code",
   "execution_count": 15,
   "metadata": {},
   "outputs": [],
   "source": [
    "# switch kernel to pytensor5 here\n",
    "import cobra\n",
    "import logging\n",
    "logging.getLogger(\"cobra\").setLevel(logging.ERROR)\n",
    "\n",
    "import pandas as pd\n",
    "import tellurium as te\n",
    "import numpy as np\n",
    "\n",
    "import matplotlib.pyplot as plt\n",
    "import seaborn as sns\n",
    "\n",
    "import pytensor\n",
    "import pymc as pm\n",
    "\n",
    "import emll\n",
    "\n",
    "import arviz as az"
   ]
  },
  {
   "cell_type": "code",
   "execution_count": 3,
   "metadata": {},
   "outputs": [],
   "source": [
    "df = pd.read_csv('../data/Simplified_Teusink_yeast_1.05.csv')\n",
    "r = te.loada('../models/Simplified_Teusink_yeast.ant')\n",
    "r.steadyState()\n",
    "N=r.getFullStoichiometryMatrix()\n",
    "\n",
    "enzymes = ['e_' + i for i in r.getReactionIds()]\n",
    "internal = r.getFloatingSpeciesIds()\n",
    "external = r.getBoundarySpeciesIds()\n",
    "fluxes = ['v_' + i for i in r.getReactionIds()]\n",
    "\n",
    "v_star = df[fluxes].loc[0]\n",
    "\n",
    "ex = r.getScaledElasticityMatrix()\n",
    "\n",
    "a = r.getBoundarySpeciesIds()\n",
    "b = r.getReactionIds()\n",
    "c=[]\n",
    "for i in b: \n",
    "    for ii in a: \n",
    "        c.append(r.getUnscaledParameterElasticity(i, ii) * r[ii]/r[i])\n",
    "ey = np.array(c).reshape((len(b),len(a)))\n",
    "\n",
    "en = df[enzymes].loc[1:len(r.getReactionIds())]/df[enzymes].loc[0]\n",
    "xn = df[internal].loc[1:len(r.getReactionIds())]/df[internal].loc[0]\n",
    "vn = df[fluxes].loc[1:len(r.getReactionIds())]/df[fluxes].loc[0]\n",
    "yn = df[external].iloc[-(len(vn)):]/df[external].loc[0]\n"
   ]
  },
  {
   "cell_type": "code",
   "execution_count": 4,
   "metadata": {},
   "outputs": [
    {
     "name": "stdout",
     "output_type": "stream",
     "text": [
      "Set parameter Username\n",
      "Academic license - for non-commercial use only - expires 2024-10-23\n"
     ]
    },
    {
     "name": "stderr",
     "output_type": "stream",
     "text": [
      "No objective coefficients in model. Unclear what should be optimized\n"
     ]
    }
   ],
   "source": [
    "# load cobra version of model\n",
    "\n",
    "model = cobra.io.read_sbml_model('../models/Simplified_Teusink_yeast_cobra.xml')\n",
    "# cobra.util.create_stoichiometric_matrix(model)"
   ]
  },
  {
   "cell_type": "code",
   "execution_count": 5,
   "metadata": {},
   "outputs": [],
   "source": [
    "# Set up the Bayesian inference\n",
    "r_compartments = [r.compartments if 'e' not in r.compartments else 't' for r in model.reactions]\n",
    "\n",
    "for rxn in model.exchanges:\n",
    "    r_compartments[model.reactions.index(rxn)] = 't'\n",
    "\n",
    "m_compartments = [m.compartment for m in model.metabolites]\n",
    "internal_mets = [i for i in model.metabolites if i.compartment!='e']\n",
    "rxnNames = [i.id for i in model.reactions]\n",
    "v_inds = np.arange(0,len(v_star))\n",
    "n_exp = vn.shape[0]\n"
   ]
  },
  {
   "cell_type": "code",
   "execution_count": 6,
   "metadata": {},
   "outputs": [],
   "source": [
    "def create_Visser_elasticity_matrix():\n",
    "\n",
    "    r = te.loada('../models/Simplified_Teusink_yeast_cobra.ant')\n",
    "    r.conservedMoietyAnalysis = True\n",
    "    \n",
    "    n_metabolites = len(model.metabolites)\n",
    "    n_reactions = len(model.reactions)\n",
    "    array = np.zeros((n_reactions, n_metabolites), dtype=float)\n",
    "\n",
    "    m_ind = model.metabolites.index\n",
    "    r_ind = model.reactions.index\n",
    "\n",
    "    for reaction in model.reactions:\n",
    "        for metabolite, stoich in reaction.metabolites.items():\n",
    "\n",
    "            # Reversible reaction, assign all elements to -stoich\n",
    "            if reaction.reversibility:\n",
    "                array[r_ind(reaction), m_ind(metabolite)] = -np.sign(stoich)\n",
    "\n",
    "            # Irrevesible in forward direction, only assign if met is reactant\n",
    "            elif ((not reaction.reversibility) & \n",
    "                (reaction.upper_bound > 0) &\n",
    "                (stoich < 0)):\n",
    "                array[r_ind(reaction), m_ind(metabolite)] = -np.sign(stoich)\n",
    "\n",
    "            # Irreversible in reverse direction, only assign if met is product\n",
    "            elif ((not reaction.reversibility) & \n",
    "                (reaction.lower_bound < 0) &\n",
    "                (stoich > 0)):\n",
    "                array[r_ind(reaction), m_ind(metabolite)] = -np.sign(stoich)\n",
    "\n",
    "    array = emll.util.create_elasticity_matrix(model)\n",
    "    array = pd.DataFrame(array, index=r.getReactionIds(), columns=[i.id for i in model.metabolites])\n",
    "    array = array.loc[:,r.getFloatingSpeciesIds()]\n",
    "    return array"
   ]
  },
  {
   "cell_type": "code",
   "execution_count": 10,
   "metadata": {},
   "outputs": [],
   "source": [
    "with pm.Model() as pymc_model:\n",
    "    \n",
    "    Ex_t = pm.Normal('Ex', mu=create_Visser_elasticity_matrix().values)\n",
    "    Ey_t = pm.Normal('Ey', mu=np.zeros((16,3)), sigma=4)\n",
    "\n",
    "    likelihood = (en.values)*(np.ones((16,16)) + pm.math.dot(Ex_t, xn.T) + pm.math.dot(ey,yn.T))\n",
    "    vn_t = pm.Normal('vn_t', mu=likelihood, sigma=0.1, observed=vn)\n"
   ]
  },
  {
   "cell_type": "code",
   "execution_count": 13,
   "metadata": {},
   "outputs": [
    {
     "data": {
      "text/html": [
       "\n",
       "<style>\n",
       "    /* Turns off some styling */\n",
       "    progress {\n",
       "        /* gets rid of default border in Firefox and Opera. */\n",
       "        border: none;\n",
       "        /* Needs to be in here for Safari polyfill so background images work as expected. */\n",
       "        background-size: auto;\n",
       "    }\n",
       "    progress:not([value]), progress:not([value])::-webkit-progress-bar {\n",
       "        background: repeating-linear-gradient(45deg, #7e7e7e, #7e7e7e 10px, #5c5c5c 10px, #5c5c5c 20px);\n",
       "    }\n",
       "    .progress-bar-interrupted, .progress-bar-interrupted::-webkit-progress-bar {\n",
       "        background: #F44336;\n",
       "    }\n",
       "</style>\n"
      ],
      "text/plain": [
       "<IPython.core.display.HTML object>"
      ]
     },
     "metadata": {},
     "output_type": "display_data"
    },
    {
     "data": {
      "text/html": [
       "\n",
       "    <div>\n",
       "      <progress value='80000' class='' max='80000' style='width:300px; height:20px; vertical-align: middle;'></progress>\n",
       "      100.00% [80000/80000 21:43&lt;00:00 Average Loss = 305.3]\n",
       "    </div>\n",
       "    "
      ],
      "text/plain": [
       "<IPython.core.display.HTML object>"
      ]
     },
     "metadata": {},
     "output_type": "display_data"
    },
    {
     "name": "stderr",
     "output_type": "stream",
     "text": [
      "Finished [100%]: Average Loss = 305.15\n"
     ]
    }
   ],
   "source": [
    "with pymc_model:\n",
    "    advi = pm.ADVI()\n",
    "    tracker = pm.callbacks.Tracker(\n",
    "        mean = advi.approx.mean.eval,\n",
    "        std = advi.approx.std.eval\n",
    "    )\n",
    "    approx = pm.fit(n=80000)"
   ]
  },
  {
   "cell_type": "code",
   "execution_count": 16,
   "metadata": {},
   "outputs": [
    {
     "data": {
      "image/png": "[encoded data removed]",
      "text/plain": [
       "<Figure size 500x400 with 1 Axes>"
      ]
     },
     "metadata": {},
     "output_type": "display_data"
    }
   ],
   "source": [
    "with sns.plotting_context('notebook', font_scale=1.2):\n",
    "\n",
    "    fig = plt.figure(figsize=(5,4),dpi=100)\n",
    "    plt.plot(approx.hist + 30, '.', rasterized=True, ms=1)\n",
    "    plt.yscale(\"log\")\n",
    "    \n",
    "    sns.despine(trim=True, offset=10)\n",
    "\n",
    "    plt.ylabel('-ELBO')\n",
    "    plt.xlabel('Iteration')\n",
    "    plt.title('ELBO convergence')"
   ]
  },
  {
   "cell_type": "code",
   "execution_count": 18,
   "metadata": {},
   "outputs": [],
   "source": [
    "idata = approx.sample(1000)"
   ]
  },
  {
   "cell_type": "code",
   "execution_count": 19,
   "metadata": {},
   "outputs": [
    {
     "name": "stderr",
     "output_type": "stream",
     "text": [
      "arviz - WARNING - Shape validation failed: input_shape: (1, 1000), minimum_shape: (chains=2, draws=4)\n"
     ]
    },
    {
     "data": {
      "text/html": [
       "<div>\n",
       "<style scoped>\n",
       "    .dataframe tbody tr th:only-of-type {\n",
       "        vertical-align: middle;\n",
       "    }\n",
       "\n",
       "    .dataframe tbody tr th {\n",
       "        vertical-align: top;\n",
       "    }\n",
       "\n",
       "    .dataframe thead th {\n",
       "        text-align: right;\n",
       "    }\n",
       "</style>\n",
       "<table border=\"1\" class=\"dataframe\">\n",
       "  <thead>\n",
       "    <tr style=\"text-align: right;\">\n",
       "      <th></th>\n",
       "      <th>mean</th>\n",
       "      <th>sd</th>\n",
       "      <th>hdi_3%</th>\n",
       "      <th>hdi_97%</th>\n",
       "      <th>mcse_mean</th>\n",
       "      <th>mcse_sd</th>\n",
       "      <th>ess_bulk</th>\n",
       "      <th>ess_tail</th>\n",
       "      <th>r_hat</th>\n",
       "    </tr>\n",
       "  </thead>\n",
       "  <tbody>\n",
       "    <tr>\n",
       "      <th>Ex[0, 0]</th>\n",
       "      <td>-0.967</td>\n",
       "      <td>0.028</td>\n",
       "      <td>-1.017</td>\n",
       "      <td>-0.914</td>\n",
       "      <td>0.001</td>\n",
       "      <td>0.001</td>\n",
       "      <td>1010.0</td>\n",
       "      <td>1026.0</td>\n",
       "      <td>NaN</td>\n",
       "    </tr>\n",
       "    <tr>\n",
       "      <th>Ex[0, 1]</th>\n",
       "      <td>0.011</td>\n",
       "      <td>0.029</td>\n",
       "      <td>-0.046</td>\n",
       "      <td>0.065</td>\n",
       "      <td>0.001</td>\n",
       "      <td>0.001</td>\n",
       "      <td>982.0</td>\n",
       "      <td>983.0</td>\n",
       "      <td>NaN</td>\n",
       "    </tr>\n",
       "    <tr>\n",
       "      <th>Ex[0, 2]</th>\n",
       "      <td>0.005</td>\n",
       "      <td>0.028</td>\n",
       "      <td>-0.046</td>\n",
       "      <td>0.058</td>\n",
       "      <td>0.001</td>\n",
       "      <td>0.001</td>\n",
       "      <td>921.0</td>\n",
       "      <td>972.0</td>\n",
       "      <td>NaN</td>\n",
       "    </tr>\n",
       "    <tr>\n",
       "      <th>Ex[0, 3]</th>\n",
       "      <td>0.000</td>\n",
       "      <td>0.027</td>\n",
       "      <td>-0.054</td>\n",
       "      <td>0.052</td>\n",
       "      <td>0.001</td>\n",
       "      <td>0.001</td>\n",
       "      <td>859.0</td>\n",
       "      <td>958.0</td>\n",
       "      <td>NaN</td>\n",
       "    </tr>\n",
       "    <tr>\n",
       "      <th>Ex[0, 4]</th>\n",
       "      <td>-0.008</td>\n",
       "      <td>0.027</td>\n",
       "      <td>-0.061</td>\n",
       "      <td>0.040</td>\n",
       "      <td>0.001</td>\n",
       "      <td>0.001</td>\n",
       "      <td>923.0</td>\n",
       "      <td>1015.0</td>\n",
       "      <td>NaN</td>\n",
       "    </tr>\n",
       "    <tr>\n",
       "      <th>...</th>\n",
       "      <td>...</td>\n",
       "      <td>...</td>\n",
       "      <td>...</td>\n",
       "      <td>...</td>\n",
       "      <td>...</td>\n",
       "      <td>...</td>\n",
       "      <td>...</td>\n",
       "      <td>...</td>\n",
       "      <td>...</td>\n",
       "    </tr>\n",
       "    <tr>\n",
       "      <th>Ey[14, 1]</th>\n",
       "      <td>0.154</td>\n",
       "      <td>4.493</td>\n",
       "      <td>-7.396</td>\n",
       "      <td>9.031</td>\n",
       "      <td>0.148</td>\n",
       "      <td>0.105</td>\n",
       "      <td>924.0</td>\n",
       "      <td>940.0</td>\n",
       "      <td>NaN</td>\n",
       "    </tr>\n",
       "    <tr>\n",
       "      <th>Ey[14, 2]</th>\n",
       "      <td>0.077</td>\n",
       "      <td>4.450</td>\n",
       "      <td>-8.241</td>\n",
       "      <td>8.146</td>\n",
       "      <td>0.139</td>\n",
       "      <td>0.100</td>\n",
       "      <td>1021.0</td>\n",
       "      <td>936.0</td>\n",
       "      <td>NaN</td>\n",
       "    </tr>\n",
       "    <tr>\n",
       "      <th>Ey[15, 0]</th>\n",
       "      <td>-0.073</td>\n",
       "      <td>4.306</td>\n",
       "      <td>-7.962</td>\n",
       "      <td>8.225</td>\n",
       "      <td>0.134</td>\n",
       "      <td>0.105</td>\n",
       "      <td>1020.0</td>\n",
       "      <td>852.0</td>\n",
       "      <td>NaN</td>\n",
       "    </tr>\n",
       "    <tr>\n",
       "      <th>Ey[15, 1]</th>\n",
       "      <td>0.202</td>\n",
       "      <td>4.241</td>\n",
       "      <td>-7.962</td>\n",
       "      <td>7.692</td>\n",
       "      <td>0.131</td>\n",
       "      <td>0.106</td>\n",
       "      <td>1046.0</td>\n",
       "      <td>910.0</td>\n",
       "      <td>NaN</td>\n",
       "    </tr>\n",
       "    <tr>\n",
       "      <th>Ey[15, 2]</th>\n",
       "      <td>0.094</td>\n",
       "      <td>4.221</td>\n",
       "      <td>-8.051</td>\n",
       "      <td>7.499</td>\n",
       "      <td>0.148</td>\n",
       "      <td>0.104</td>\n",
       "      <td>811.0</td>\n",
       "      <td>974.0</td>\n",
       "      <td>NaN</td>\n",
       "    </tr>\n",
       "  </tbody>\n",
       "</table>\n",
       "<p>224 rows × 9 columns</p>\n",
       "</div>"
      ],
      "text/plain": [
       "            mean     sd  hdi_3%  hdi_97%  mcse_mean  mcse_sd  ess_bulk  \\\n",
       "Ex[0, 0]  -0.967  0.028  -1.017   -0.914      0.001    0.001    1010.0   \n",
       "Ex[0, 1]   0.011  0.029  -0.046    0.065      0.001    0.001     982.0   \n",
       "Ex[0, 2]   0.005  0.028  -0.046    0.058      0.001    0.001     921.0   \n",
       "Ex[0, 3]   0.000  0.027  -0.054    0.052      0.001    0.001     859.0   \n",
       "Ex[0, 4]  -0.008  0.027  -0.061    0.040      0.001    0.001     923.0   \n",
       "...          ...    ...     ...      ...        ...      ...       ...   \n",
       "Ey[14, 1]  0.154  4.493  -7.396    9.031      0.148    0.105     924.0   \n",
       "Ey[14, 2]  0.077  4.450  -8.241    8.146      0.139    0.100    1021.0   \n",
       "Ey[15, 0] -0.073  4.306  -7.962    8.225      0.134    0.105    1020.0   \n",
       "Ey[15, 1]  0.202  4.241  -7.962    7.692      0.131    0.106    1046.0   \n",
       "Ey[15, 2]  0.094  4.221  -8.051    7.499      0.148    0.104     811.0   \n",
       "\n",
       "           ess_tail  r_hat  \n",
       "Ex[0, 0]     1026.0    NaN  \n",
       "Ex[0, 1]      983.0    NaN  \n",
       "Ex[0, 2]      972.0    NaN  \n",
       "Ex[0, 3]      958.0    NaN  \n",
       "Ex[0, 4]     1015.0    NaN  \n",
       "...             ...    ...  \n",
       "Ey[14, 1]     940.0    NaN  \n",
       "Ey[14, 2]     936.0    NaN  \n",
       "Ey[15, 0]     852.0    NaN  \n",
       "Ey[15, 1]     910.0    NaN  \n",
       "Ey[15, 2]     974.0    NaN  \n",
       "\n",
       "[224 rows x 9 columns]"
      ]
     },
     "execution_count": 19,
     "metadata": {},
     "output_type": "execute_result"
    }
   ],
   "source": [
    "az.summary(idata)"
   ]
  },
  {
   "cell_type": "markdown",
   "metadata": {},
   "source": [
    "Perhaps it is failing to fit Ex when Ey is also being fitted just like lmfit. Let's fix Ey and see if pymc performs better with fitting Ex. \n"
   ]
  },
  {
   "cell_type": "code",
   "execution_count": 68,
   "metadata": {},
   "outputs": [],
   "source": [
    "with pm.Model() as pymc_model:\n",
    "    \n",
    "    Ex_t = pm.Normal('Ex', mu=create_Visser_elasticity_matrix().values)\n",
    "\n",
    "    likelihood = (en.values*v_star.values)*(np.ones((16,16)) + pm.math.dot(Ex_t, xn.T) + pm.math.dot(ey,yn.T))\n",
    "    v = pm.Normal('v', mu=likelihood, sigma=0.1, observed=vn*v_star)\n",
    "    "
   ]
  },
  {
   "cell_type": "code",
   "execution_count": 69,
   "metadata": {},
   "outputs": [
    {
     "data": {
      "text/html": [
       "\n",
       "<style>\n",
       "    /* Turns off some styling */\n",
       "    progress {\n",
       "        /* gets rid of default border in Firefox and Opera. */\n",
       "        border: none;\n",
       "        /* Needs to be in here for Safari polyfill so background images work as expected. */\n",
       "        background-size: auto;\n",
       "    }\n",
       "    progress:not([value]), progress:not([value])::-webkit-progress-bar {\n",
       "        background: repeating-linear-gradient(45deg, #7e7e7e, #7e7e7e 10px, #5c5c5c 10px, #5c5c5c 20px);\n",
       "    }\n",
       "    .progress-bar-interrupted, .progress-bar-interrupted::-webkit-progress-bar {\n",
       "        background: #F44336;\n",
       "    }\n",
       "</style>\n"
      ],
      "text/plain": [
       "<IPython.core.display.HTML object>"
      ]
     },
     "metadata": {},
     "output_type": "display_data"
    },
    {
     "data": {
      "text/html": [
       "\n",
       "    <div>\n",
       "      <progress value='80000' class='' max='80000' style='width:300px; height:20px; vertical-align: middle;'></progress>\n",
       "      100.00% [80000/80000 1:28:50&lt;00:00 Average Loss = 376.93]\n",
       "    </div>\n",
       "    "
      ],
      "text/plain": [
       "<IPython.core.display.HTML object>"
      ]
     },
     "metadata": {},
     "output_type": "display_data"
    },
    {
     "name": "stderr",
     "output_type": "stream",
     "text": [
      "Finished [100%]: Average Loss = 377.1\n"
     ]
    }
   ],
   "source": [
    "with pymc_model:\n",
    "    advi = pm.ADVI()\n",
    "    tracker = pm.callbacks.Tracker(\n",
    "        mean = advi.approx.mean.eval,\n",
    "        std = advi.approx.std.eval\n",
    "    )\n",
    "    approx = pm.fit(n=80000)"
   ]
  },
  {
   "cell_type": "code",
   "execution_count": 70,
   "metadata": {},
   "outputs": [
    {
     "data": {
      "image/png": "[encoded data removed]",
      "text/plain": [
       "<Figure size 500x400 with 1 Axes>"
      ]
     },
     "metadata": {},
     "output_type": "display_data"
    }
   ],
   "source": [
    "with sns.plotting_context('notebook', font_scale=1.2):\n",
    "\n",
    "    fig = plt.figure(figsize=(5,4),dpi=100)\n",
    "    plt.plot(approx.hist + 30, '.', rasterized=True, ms=1)\n",
    "    plt.yscale(\"log\")\n",
    "    \n",
    "    sns.despine(trim=True, offset=10)\n",
    "\n",
    "    plt.ylabel('-ELBO')\n",
    "    plt.xlabel('Iteration')\n",
    "    plt.title('ELBO convergence')"
   ]
  },
  {
   "cell_type": "code",
   "execution_count": 71,
   "metadata": {},
   "outputs": [],
   "source": [
    "idata = approx.sample(1000)"
   ]
  },
  {
   "cell_type": "code",
   "execution_count": 72,
   "metadata": {},
   "outputs": [
    {
     "name": "stderr",
     "output_type": "stream",
     "text": [
      "arviz - WARNING - Shape validation failed: input_shape: (1, 1000), minimum_shape: (chains=2, draws=4)\n"
     ]
    },
    {
     "data": {
      "text/html": [
       "<div>\n",
       "<style scoped>\n",
       "    .dataframe tbody tr th:only-of-type {\n",
       "        vertical-align: middle;\n",
       "    }\n",
       "\n",
       "    .dataframe tbody tr th {\n",
       "        vertical-align: top;\n",
       "    }\n",
       "\n",
       "    .dataframe thead th {\n",
       "        text-align: right;\n",
       "    }\n",
       "</style>\n",
       "<table border=\"1\" class=\"dataframe\">\n",
       "  <thead>\n",
       "    <tr style=\"text-align: right;\">\n",
       "      <th></th>\n",
       "      <th>mean</th>\n",
       "      <th>sd</th>\n",
       "      <th>hdi_3%</th>\n",
       "      <th>hdi_97%</th>\n",
       "      <th>mcse_mean</th>\n",
       "      <th>mcse_sd</th>\n",
       "      <th>ess_bulk</th>\n",
       "      <th>ess_tail</th>\n",
       "      <th>r_hat</th>\n",
       "    </tr>\n",
       "  </thead>\n",
       "  <tbody>\n",
       "    <tr>\n",
       "      <th>Ex[0, 0]</th>\n",
       "      <td>-0.924</td>\n",
       "      <td>0.019</td>\n",
       "      <td>-0.960</td>\n",
       "      <td>-0.888</td>\n",
       "      <td>0.001</td>\n",
       "      <td>0.0</td>\n",
       "      <td>1106.0</td>\n",
       "      <td>936.0</td>\n",
       "      <td>NaN</td>\n",
       "    </tr>\n",
       "    <tr>\n",
       "      <th>Ex[0, 1]</th>\n",
       "      <td>0.011</td>\n",
       "      <td>0.020</td>\n",
       "      <td>-0.027</td>\n",
       "      <td>0.047</td>\n",
       "      <td>0.001</td>\n",
       "      <td>0.0</td>\n",
       "      <td>847.0</td>\n",
       "      <td>907.0</td>\n",
       "      <td>NaN</td>\n",
       "    </tr>\n",
       "    <tr>\n",
       "      <th>Ex[0, 2]</th>\n",
       "      <td>0.005</td>\n",
       "      <td>0.020</td>\n",
       "      <td>-0.031</td>\n",
       "      <td>0.041</td>\n",
       "      <td>0.001</td>\n",
       "      <td>0.0</td>\n",
       "      <td>971.0</td>\n",
       "      <td>1014.0</td>\n",
       "      <td>NaN</td>\n",
       "    </tr>\n",
       "    <tr>\n",
       "      <th>Ex[0, 3]</th>\n",
       "      <td>-0.000</td>\n",
       "      <td>0.020</td>\n",
       "      <td>-0.035</td>\n",
       "      <td>0.038</td>\n",
       "      <td>0.001</td>\n",
       "      <td>0.0</td>\n",
       "      <td>956.0</td>\n",
       "      <td>748.0</td>\n",
       "      <td>NaN</td>\n",
       "    </tr>\n",
       "    <tr>\n",
       "      <th>Ex[0, 4]</th>\n",
       "      <td>-0.006</td>\n",
       "      <td>0.019</td>\n",
       "      <td>-0.041</td>\n",
       "      <td>0.030</td>\n",
       "      <td>0.001</td>\n",
       "      <td>0.0</td>\n",
       "      <td>975.0</td>\n",
       "      <td>1020.0</td>\n",
       "      <td>NaN</td>\n",
       "    </tr>\n",
       "    <tr>\n",
       "      <th>...</th>\n",
       "      <td>...</td>\n",
       "      <td>...</td>\n",
       "      <td>...</td>\n",
       "      <td>...</td>\n",
       "      <td>...</td>\n",
       "      <td>...</td>\n",
       "      <td>...</td>\n",
       "      <td>...</td>\n",
       "      <td>...</td>\n",
       "    </tr>\n",
       "    <tr>\n",
       "      <th>Ex[15, 6]</th>\n",
       "      <td>-0.079</td>\n",
       "      <td>0.018</td>\n",
       "      <td>-0.113</td>\n",
       "      <td>-0.044</td>\n",
       "      <td>0.001</td>\n",
       "      <td>0.0</td>\n",
       "      <td>1186.0</td>\n",
       "      <td>1025.0</td>\n",
       "      <td>NaN</td>\n",
       "    </tr>\n",
       "    <tr>\n",
       "      <th>Ex[15, 7]</th>\n",
       "      <td>-0.076</td>\n",
       "      <td>0.020</td>\n",
       "      <td>-0.112</td>\n",
       "      <td>-0.038</td>\n",
       "      <td>0.001</td>\n",
       "      <td>0.0</td>\n",
       "      <td>908.0</td>\n",
       "      <td>983.0</td>\n",
       "      <td>NaN</td>\n",
       "    </tr>\n",
       "    <tr>\n",
       "      <th>Ex[15, 8]</th>\n",
       "      <td>-0.075</td>\n",
       "      <td>0.019</td>\n",
       "      <td>-0.107</td>\n",
       "      <td>-0.039</td>\n",
       "      <td>0.001</td>\n",
       "      <td>0.0</td>\n",
       "      <td>1099.0</td>\n",
       "      <td>926.0</td>\n",
       "      <td>NaN</td>\n",
       "    </tr>\n",
       "    <tr>\n",
       "      <th>Ex[15, 9]</th>\n",
       "      <td>-0.083</td>\n",
       "      <td>0.019</td>\n",
       "      <td>-0.121</td>\n",
       "      <td>-0.049</td>\n",
       "      <td>0.001</td>\n",
       "      <td>0.0</td>\n",
       "      <td>1029.0</td>\n",
       "      <td>923.0</td>\n",
       "      <td>NaN</td>\n",
       "    </tr>\n",
       "    <tr>\n",
       "      <th>Ex[15, 10]</th>\n",
       "      <td>-0.098</td>\n",
       "      <td>0.019</td>\n",
       "      <td>-0.133</td>\n",
       "      <td>-0.060</td>\n",
       "      <td>0.001</td>\n",
       "      <td>0.0</td>\n",
       "      <td>879.0</td>\n",
       "      <td>944.0</td>\n",
       "      <td>NaN</td>\n",
       "    </tr>\n",
       "  </tbody>\n",
       "</table>\n",
       "<p>176 rows × 9 columns</p>\n",
       "</div>"
      ],
      "text/plain": [
       "             mean     sd  hdi_3%  hdi_97%  mcse_mean  mcse_sd  ess_bulk  \\\n",
       "Ex[0, 0]   -0.924  0.019  -0.960   -0.888      0.001      0.0    1106.0   \n",
       "Ex[0, 1]    0.011  0.020  -0.027    0.047      0.001      0.0     847.0   \n",
       "Ex[0, 2]    0.005  0.020  -0.031    0.041      0.001      0.0     971.0   \n",
       "Ex[0, 3]   -0.000  0.020  -0.035    0.038      0.001      0.0     956.0   \n",
       "Ex[0, 4]   -0.006  0.019  -0.041    0.030      0.001      0.0     975.0   \n",
       "...           ...    ...     ...      ...        ...      ...       ...   \n",
       "Ex[15, 6]  -0.079  0.018  -0.113   -0.044      0.001      0.0    1186.0   \n",
       "Ex[15, 7]  -0.076  0.020  -0.112   -0.038      0.001      0.0     908.0   \n",
       "Ex[15, 8]  -0.075  0.019  -0.107   -0.039      0.001      0.0    1099.0   \n",
       "Ex[15, 9]  -0.083  0.019  -0.121   -0.049      0.001      0.0    1029.0   \n",
       "Ex[15, 10] -0.098  0.019  -0.133   -0.060      0.001      0.0     879.0   \n",
       "\n",
       "            ess_tail  r_hat  \n",
       "Ex[0, 0]       936.0    NaN  \n",
       "Ex[0, 1]       907.0    NaN  \n",
       "Ex[0, 2]      1014.0    NaN  \n",
       "Ex[0, 3]       748.0    NaN  \n",
       "Ex[0, 4]      1020.0    NaN  \n",
       "...              ...    ...  \n",
       "Ex[15, 6]     1025.0    NaN  \n",
       "Ex[15, 7]      983.0    NaN  \n",
       "Ex[15, 8]      926.0    NaN  \n",
       "Ex[15, 9]      923.0    NaN  \n",
       "Ex[15, 10]     944.0    NaN  \n",
       "\n",
       "[176 rows x 9 columns]"
      ]
     },
     "execution_count": 72,
     "metadata": {},
     "output_type": "execute_result"
    }
   ],
   "source": [
    "az.summary(idata)"
   ]
  },
  {
   "cell_type": "code",
   "execution_count": 73,
   "metadata": {},
   "outputs": [],
   "source": [
    "Ex_pytensor = np.squeeze(idata['posterior']['Ex'].to_numpy())"
   ]
  },
  {
   "cell_type": "code",
   "execution_count": 74,
   "metadata": {},
   "outputs": [
    {
     "data": {
      "text/plain": [
       "(1000, 16, 11)"
      ]
     },
     "execution_count": 74,
     "metadata": {},
     "output_type": "execute_result"
    }
   ],
   "source": [
    "Ex_pytensor.shape"
   ]
  },
  {
   "cell_type": "code",
   "execution_count": 75,
   "metadata": {},
   "outputs": [
    {
     "name": "stderr",
     "output_type": "stream",
     "text": [
      "arviz - WARNING - Shape validation failed: input_shape: (1, 1000), minimum_shape: (chains=2, draws=4)\n"
     ]
    }
   ],
   "source": [
    "Ex_pytensor = az.summary(idata)['mean'].values\n",
    "Ex_pytensor = Ex_pytensor.reshape((16,11))\n"
   ]
  },
  {
   "cell_type": "code",
   "execution_count": 76,
   "metadata": {},
   "outputs": [
    {
     "data": {
      "text/plain": [
       "array([2.31282037, 1.05995151, 0.10984542, 0.56611844, 1.05915662,\n",
       "       1.05904386, 1.72279794, 1.72248333, 1.7221924 , 1.72192348,\n",
       "       1.7219502 , 1.72178022, 0.25239272, 2.33553511, 1.2167638 ,\n",
       "       0.39350587])"
      ]
     },
     "execution_count": 76,
     "metadata": {},
     "output_type": "execute_result"
    }
   ],
   "source": [
    "a = (en.values*v_star.values)*(np.ones((16,16)) + (ex@xn.T).values + (ey@yn.T).values)\n",
    "a[0]"
   ]
  },
  {
   "cell_type": "code",
   "execution_count": 77,
   "metadata": {},
   "outputs": [
    {
     "data": {
      "text/plain": [
       "array([2.44586353, 1.07989631, 0.10915869, 0.55595515, 1.07104964,\n",
       "       1.06983621, 1.75957314, 1.66433166, 1.68103232, 1.69466914,\n",
       "       1.69458176, 1.70134439, 0.25093384, 2.24096165, 1.2083301 ,\n",
       "       0.38655903])"
      ]
     },
     "execution_count": 77,
     "metadata": {},
     "output_type": "execute_result"
    }
   ],
   "source": [
    "b = (en.values*v_star.values)*(np.ones((16,16)) + (Ex_pytensor@xn.T).values + (ey@yn.T).values)\n",
    "b[0]"
   ]
  },
  {
   "cell_type": "markdown",
   "metadata": {},
   "source": [
    "*could this be a new elasticity matrix that hits the points but is not the actual value?*"
   ]
  },
  {
   "cell_type": "code",
   "execution_count": 78,
   "metadata": {},
   "outputs": [
    {
     "data": {
      "text/plain": [
       "158.43930092373262"
      ]
     },
     "execution_count": 78,
     "metadata": {},
     "output_type": "execute_result"
    }
   ],
   "source": [
    "(a-b).sum() # <-- this is the summed error"
   ]
  },
  {
   "cell_type": "markdown",
   "metadata": {},
   "source": [
    "## Solving elasticity values with pytensor/emll packages"
   ]
  },
  {
   "cell_type": "code",
   "execution_count": null,
   "metadata": {},
   "outputs": [],
   "source": []
  }
 ],
 "metadata": {
  "kernelspec": {
   "display_name": "gayles",
   "language": "python",
   "name": "python3"
  },
  "language_info": {
   "codemirror_mode": {
    "name": "ipython",
    "version": 3
   },
   "file_extension": ".py",
   "mimetype": "text/x-python",
   "name": "python",
   "nbconvert_exporter": "python",
   "pygments_lexer": "ipython3",
   "version": "3.9.19"
  }
 },
 "nbformat": 4,
 "nbformat_minor": 2
}
