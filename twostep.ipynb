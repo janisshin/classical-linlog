{
 "cells": [
  {
   "cell_type": "code",
   "execution_count": 88,
   "metadata": {},
   "outputs": [],
   "source": [
    "from lmfit import minimize, Parameters, fit_report\n",
    "import lmfit\n",
    "import pandas as pd\n",
    "import tellurium as te\n",
    "import numpy as np\n",
    "\n",
    "import matplotlib.pyplot as plt\n",
    "\n",
    "import aesara.tensor as at\n",
    "import aesara\n",
    "floatX = aesara.config.floatX\n",
    "from emll.aesara_utils import LeastSquaresSolve"
   ]
  },
  {
   "cell_type": "markdown",
   "metadata": {},
   "source": [
    "1. define the equation\n",
    "2. fill out all the matrices\n",
    "    - import the data\n",
    "3. use lmfit to  fit the equation\n"
   ]
  },
  {
   "cell_type": "code",
   "execution_count": 24,
   "metadata": {},
   "outputs": [],
   "source": [
    "# import the data \n",
    "df = pd.read_csv('data/twostep_1.05.csv')"
   ]
  },
  {
   "cell_type": "code",
   "execution_count": 89,
   "metadata": {},
   "outputs": [],
   "source": [
    "r = te.loada('twostep.ant')\n",
    "r.steadyState()\n",
    "N=r.getFullStoichiometryMatrix()"
   ]
  },
  {
   "cell_type": "code",
   "execution_count": 90,
   "metadata": {},
   "outputs": [],
   "source": [
    "enzymes = ['e_' + i for i in r.getReactionIds()]\n",
    "internal = r.getFloatingSpeciesIds()\n",
    "external = r.getBoundarySpeciesIds()\n",
    "fluxes = ['v_' + i for i in r.getReactionIds()]"
   ]
  },
  {
   "cell_type": "code",
   "execution_count": 91,
   "metadata": {},
   "outputs": [],
   "source": [
    "v_star = df[fluxes].loc[0]"
   ]
  },
  {
   "cell_type": "code",
   "execution_count": null,
   "metadata": {},
   "outputs": [],
   "source": [
    "ex = r.getScaledElasticityMatrix()\n",
    "ex"
   ]
  },
  {
   "cell_type": "code",
   "execution_count": 93,
   "metadata": {},
   "outputs": [],
   "source": [
    "a = r.getBoundarySpeciesIds()\n",
    "b = r.getReactionIds()\n",
    "c=[]\n",
    "for i in b: \n",
    "    for ii in a: \n",
    "        c.append(r.getUnscaledParameterElasticity(i, ii) * r[ii]/r[i])\n",
    "ey = np.array(c).reshape((len(b),len(a)))"
   ]
  },
  {
   "cell_type": "markdown",
   "metadata": {},
   "source": [
    "### testing with multiple perturbations"
   ]
  },
  {
   "cell_type": "code",
   "execution_count": 121,
   "metadata": {},
   "outputs": [],
   "source": [
    "en = df[enzymes].loc[1:]/df[enzymes].loc[0]\n",
    "xn = df[internal].loc[1:len(internal)]/df[internal].loc[0]\n",
    "yn = df[external].iloc[-(len(external)):]/df[external].loc[0]\n",
    "vn = df[fluxes].loc[1:]/df[fluxes].loc[0]"
   ]
  },
  {
   "cell_type": "code",
   "execution_count": 36,
   "metadata": {},
   "outputs": [
    {
     "data": {
      "text/plain": [
       "0.035936982993467315"
      ]
     },
     "execution_count": 36,
     "metadata": {},
     "output_type": "execute_result"
    }
   ],
   "source": [
    "gt_fluxes = df[fluxes].loc[1:].values\n",
    "inner = np.ones((2,2)) + ex@np.log(xn).T # + ey@np.log(yn).T\n",
    "linlog_fluxes = (np.diag(v_star) @ inner).T\n",
    "\n",
    "res = linlog_fluxes - gt_fluxes\n",
    "(res*res).sum().sum()"
   ]
  },
  {
   "cell_type": "markdown",
   "metadata": {},
   "source": [
    "### using lmfit to predict elasticity values "
   ]
  },
  {
   "cell_type": "code",
   "execution_count": 82,
   "metadata": {},
   "outputs": [
    {
     "data": {
      "text/plain": [
       "array([[2.74406307, 0.        ],\n",
       "       [0.        , 2.74406307]])"
      ]
     },
     "execution_count": 82,
     "metadata": {},
     "output_type": "execute_result"
    }
   ],
   "source": [
    "np.diag(v_star)"
   ]
  },
  {
   "cell_type": "code",
   "execution_count": 87,
   "metadata": {},
   "outputs": [
    {
     "name": "stdout",
     "output_type": "stream",
     "text": [
      "[[2.88126623 2.74406307]\n",
      " [2.74406307 2.88126623]]\n",
      "[[2.88126623 2.74406307]\n",
      " [2.74406307 2.88126623]]\n",
      "[[2.88126623 2.74406307]\n",
      " [2.74406307 2.88126623]]\n",
      "[[2.88126623 2.74406307]\n",
      " [2.74406307 2.88126623]]\n",
      "[[2.88126623 2.74406307]\n",
      " [2.74406307 2.88126623]]\n",
      "[[2.88126623 2.74406307]\n",
      " [2.74406307 2.88126623]]\n",
      "[[2.88126623 2.74406307]\n",
      " [2.74406307 2.88126623]]\n",
      "[[2.88126623 2.74406307]\n",
      " [2.74406307 2.88126623]]\n",
      "[[2.88126623 2.74406307]\n",
      " [2.74406307 2.88126623]]\n",
      "[[2.88126623 2.74406307]\n",
      " [2.74406307 2.88126623]]\n",
      "[[2.88126623 2.74406307]\n",
      " [2.74406307 2.88126623]]\n",
      "[[2.88126623 2.74406307]\n",
      " [2.74406307 2.88126623]]\n",
      "[[2.88126623 2.74406307]\n",
      " [2.74406307 2.88126623]]\n"
     ]
    }
   ],
   "source": [
    "def cb(params, iter, resid, *args, **kws):\n",
    "    print(iter, (resid**2).sum().sum())\n",
    "\n",
    "def residual(params, xn, yn, ey, v_star, df, *args, **kws):\n",
    "    \n",
    "    some_list = []\n",
    "    Ex_params = [i for i in params if 'Ex' in i]\n",
    "    for i in Ex_params:\n",
    "        some_list.append(params[i])\n",
    "    ex = np.asarray(some_list).reshape((2,1))\n",
    "\n",
    "    #some_list = []\n",
    "    #Ey_params = [i for i in params if 'Ey' in i]\n",
    "    #for i in Ey_params:\n",
    "    #    some_list.append(params[i])\n",
    "    #ey = np.asarray(some_list).reshape((2,2)) \n",
    "\n",
    "    # a = 1.05 * np.diag(v_star)\n",
    "    a = (.05 * np.diag(v_star)) + (v_star[0]*np.ones((2,2)))# 1.05 * np.diag(v_star))\n",
    "\n",
    "    \n",
    "    bb = np.ones((2,2))\n",
    "    cc = ex@(np.log10(xn)).T\n",
    "    dd = ey@(np.log(yn)).T\n",
    "\n",
    "    b = (bb + cc)   \n",
    "\n",
    "    model = a*b\n",
    "\n",
    "    print(a)\n",
    "    #print((df[fluxes].loc[1:].values-model.T).values.flatten())\n",
    "    return ((df[fluxes].loc[1:].values-model.T).values.flatten())\n",
    "\n",
    "params = Parameters()\n",
    "\n",
    "for i in range(2*(1)):\n",
    "    params.add('Ex'+str(i), value=0, min=-10, max=10)\n",
    "#for i in range(2*(2)):\n",
    "#    params.add('Ey'+str(i), value=0, min=-10, max=10)\n",
    "\n",
    "out = minimize(residual, params, args=(xn, yn, ey, v_star, df))#, iter_cb=cb)\n",
    "# out = minimize(residual, params, args=(xn, yn, v_star, df), method='differential_evolution', iter_cb=cb, kws={'itervalues': itervalues})"
   ]
  },
  {
   "cell_type": "code",
   "execution_count": null,
   "metadata": {},
   "outputs": [],
   "source": [
    "[2.88 0]\n",
    "[0, 2.77] for matrix multiplication. "
   ]
  },
  {
   "cell_type": "code",
   "execution_count": 79,
   "metadata": {},
   "outputs": [
    {
     "data": {
      "text/html": [
       "<table class=\"jp-toc-ignore\"><caption>Parameters</caption><tr><th style='text-align:left'>name</th><th style='text-align:left'>value</th><th style='text-align:left'>standard error</th><th style='text-align:left'>relative error</th><th style='text-align:left'>initial value</th><th style='text-align:left'>min</th><th style='text-align:left'>max</th><th style='text-align:right'>vary</th></tr><tr><td style='text-align:left'>Ex0</td><td style='text-align:left'>-1.36957736</td><td style='text-align:left'> 0.00688842</td><td style='text-align:left'>(0.50%)</td><td style='text-align:left'>0</td><td style='text-align:left'>-10.0000000</td><td style='text-align:left'> 10.0000000</td><td style='text-align:right'>True</td></tr><tr><td style='text-align:left'>Ex1</td><td style='text-align:left'> 1.73063148</td><td style='text-align:left'> 0.00688792</td><td style='text-align:left'>(0.40%)</td><td style='text-align:left'>0</td><td style='text-align:left'>-10.0000000</td><td style='text-align:left'> 10.0000000</td><td style='text-align:right'>True</td></tr></table>"
      ],
      "text/plain": [
       "Parameters([('Ex0', <Parameter 'Ex0', value=-1.3695773569318526 +/- 0.00689, bounds=[-10:10]>), ('Ex1', <Parameter 'Ex1', value=1.7306314838849879 +/- 0.00689, bounds=[-10:10]>)])"
      ]
     },
     "execution_count": 79,
     "metadata": {},
     "output_type": "execute_result"
    }
   ],
   "source": [
    "out.params"
   ]
  },
  {
   "cell_type": "code",
   "execution_count": 80,
   "metadata": {},
   "outputs": [
    {
     "data": {
      "text/plain": [
       "[-0.79113193]"
      ]
     },
     "execution_count": 80,
     "metadata": {},
     "output_type": "execute_result"
    }
   ],
   "source": [
    "r.getScaledElasticityMatrix()[0]/r.getScaledElasticityMatrix()[1]"
   ]
  },
  {
   "cell_type": "code",
   "execution_count": 81,
   "metadata": {},
   "outputs": [
    {
     "data": {
      "text/plain": [
       "-0.7913743485123708"
      ]
     },
     "execution_count": 81,
     "metadata": {},
     "output_type": "execute_result"
    }
   ],
   "source": [
    "-1.36957736\t/1.73063148"
   ]
  },
  {
   "cell_type": "code",
   "execution_count": 13,
   "metadata": {},
   "outputs": [
    {
     "data": {
      "text/plain": [
       "0.018013588719158157"
      ]
     },
     "execution_count": 13,
     "metadata": {},
     "output_type": "execute_result"
    }
   ],
   "source": [
    "out.chisqr"
   ]
  },
  {
   "cell_type": "markdown",
   "metadata": {},
   "source": [
    "## Ex values predicted by lmfit when guesses were initialized at 0"
   ]
  },
  {
   "cell_type": "code",
   "execution_count": 14,
   "metadata": {},
   "outputs": [],
   "source": [
    "Ex_values = [out.params.get(i).value for i in params if 'Ex' in i]\n",
    "Ey_values = [out.params.get(i).value for i in params if 'Ey' in i]\n",
    "Ex_values = np.array(Ex_values).reshape((2,1))\n",
    "Ey_values = np.array(Ey_values).reshape((2,2))"
   ]
  },
  {
   "cell_type": "code",
   "execution_count": 15,
   "metadata": {},
   "outputs": [
    {
     "data": {
      "text/html": [
       "<div>\n",
       "<style scoped>\n",
       "    .dataframe tbody tr th:only-of-type {\n",
       "        vertical-align: middle;\n",
       "    }\n",
       "\n",
       "    .dataframe tbody tr th {\n",
       "        vertical-align: top;\n",
       "    }\n",
       "\n",
       "    .dataframe thead th {\n",
       "        text-align: right;\n",
       "    }\n",
       "</style>\n",
       "<table border=\"1\" class=\"dataframe\">\n",
       "  <thead>\n",
       "    <tr style=\"text-align: right;\">\n",
       "      <th></th>\n",
       "      <th>S1</th>\n",
       "    </tr>\n",
       "  </thead>\n",
       "  <tbody>\n",
       "    <tr>\n",
       "      <th>J1</th>\n",
       "      <td>0.079925</td>\n",
       "    </tr>\n",
       "    <tr>\n",
       "      <th>J2</th>\n",
       "      <td>0.079925</td>\n",
       "    </tr>\n",
       "  </tbody>\n",
       "</table>\n",
       "</div>"
      ],
      "text/plain": [
       "          S1\n",
       "J1  0.079925\n",
       "J2  0.079925"
      ]
     },
     "execution_count": 15,
     "metadata": {},
     "output_type": "execute_result"
    }
   ],
   "source": [
    "pd.DataFrame(Ex_values, index=r.getReactionIds(), columns=r.getFloatingSpeciesIds())"
   ]
  },
  {
   "cell_type": "markdown",
   "metadata": {},
   "source": [
    "## Ey values predicted by lmfit when guesses were initialized at 0"
   ]
  },
  {
   "cell_type": "code",
   "execution_count": 16,
   "metadata": {},
   "outputs": [
    {
     "data": {
      "text/html": [
       "<div>\n",
       "<style scoped>\n",
       "    .dataframe tbody tr th:only-of-type {\n",
       "        vertical-align: middle;\n",
       "    }\n",
       "\n",
       "    .dataframe tbody tr th {\n",
       "        vertical-align: top;\n",
       "    }\n",
       "\n",
       "    .dataframe thead th {\n",
       "        text-align: right;\n",
       "    }\n",
       "</style>\n",
       "<table border=\"1\" class=\"dataframe\">\n",
       "  <thead>\n",
       "    <tr style=\"text-align: right;\">\n",
       "      <th></th>\n",
       "      <th>0</th>\n",
       "      <th>1</th>\n",
       "    </tr>\n",
       "  </thead>\n",
       "  <tbody>\n",
       "    <tr>\n",
       "      <th>J1</th>\n",
       "      <td>0.321506</td>\n",
       "      <td>-0.334662</td>\n",
       "    </tr>\n",
       "    <tr>\n",
       "      <th>J2</th>\n",
       "      <td>0.321506</td>\n",
       "      <td>-0.334662</td>\n",
       "    </tr>\n",
       "  </tbody>\n",
       "</table>\n",
       "</div>"
      ],
      "text/plain": [
       "           0         1\n",
       "J1  0.321506 -0.334662\n",
       "J2  0.321506 -0.334662"
      ]
     },
     "execution_count": 16,
     "metadata": {},
     "output_type": "execute_result"
    }
   ],
   "source": [
    "pd.DataFrame(Ey_values, index=r.getReactionIds())"
   ]
  },
  {
   "cell_type": "markdown",
   "metadata": {},
   "source": [
    "## Trying to see if we can get lmfit to predict the actual elasticity values by initializing the guesses with ground truth"
   ]
  },
  {
   "cell_type": "code",
   "execution_count": 17,
   "metadata": {},
   "outputs": [],
   "source": [
    "# flatten the matrix \n",
    "ex_seeds = r.getScaledElasticityMatrix().flatten()\n",
    "ey_seeds = ey.flatten()\n",
    "\n",
    "s_params = Parameters()\n",
    "\n",
    "for i in range(2*(1)):\n",
    "    s_params.add('Ex'+str(i), value=ex_seeds[i]+ 0.05*ex_seeds[i], min=-10, max=10)\n",
    "for i in range(2*(2)):\n",
    "    s_params.add('Ey'+str(i), value=ey_seeds[i]+ 0.05*ey_seeds[i], min=-10, max=10)\n",
    "\n",
    "s_out = minimize(residual, s_params, args=(xn, yn, v_star, df))"
   ]
  },
  {
   "cell_type": "code",
   "execution_count": 18,
   "metadata": {},
   "outputs": [
    {
     "data": {
      "text/plain": [
       "0.018013588719158098"
      ]
     },
     "execution_count": 18,
     "metadata": {},
     "output_type": "execute_result"
    }
   ],
   "source": [
    "s_out.chisqr"
   ]
  },
  {
   "cell_type": "markdown",
   "metadata": {},
   "source": [
    "## Ex values predicted by lmfit when guesses were initialized with ground truth elasticity values"
   ]
  },
  {
   "cell_type": "code",
   "execution_count": 19,
   "metadata": {},
   "outputs": [],
   "source": [
    "s_Ex_values = [s_out.params.get(i).value for i in params if 'Ex' in i]\n",
    "s_Ey_values = [s_out.params.get(i).value for i in params if 'Ey' in i]\n",
    "s_Ex_values = np.array(s_Ex_values).reshape((2,1))\n",
    "s_Ey_values = np.array(s_Ey_values).reshape((2,2))"
   ]
  },
  {
   "cell_type": "code",
   "execution_count": 20,
   "metadata": {},
   "outputs": [
    {
     "data": {
      "text/html": [
       "<div>\n",
       "<style scoped>\n",
       "    .dataframe tbody tr th:only-of-type {\n",
       "        vertical-align: middle;\n",
       "    }\n",
       "\n",
       "    .dataframe tbody tr th {\n",
       "        vertical-align: top;\n",
       "    }\n",
       "\n",
       "    .dataframe thead th {\n",
       "        text-align: right;\n",
       "    }\n",
       "</style>\n",
       "<table border=\"1\" class=\"dataframe\">\n",
       "  <thead>\n",
       "    <tr style=\"text-align: right;\">\n",
       "      <th></th>\n",
       "      <th>S1</th>\n",
       "    </tr>\n",
       "  </thead>\n",
       "  <tbody>\n",
       "    <tr>\n",
       "      <th>J1</th>\n",
       "      <td>0.079925</td>\n",
       "    </tr>\n",
       "    <tr>\n",
       "      <th>J2</th>\n",
       "      <td>0.079925</td>\n",
       "    </tr>\n",
       "  </tbody>\n",
       "</table>\n",
       "</div>"
      ],
      "text/plain": [
       "          S1\n",
       "J1  0.079925\n",
       "J2  0.079925"
      ]
     },
     "execution_count": 20,
     "metadata": {},
     "output_type": "execute_result"
    }
   ],
   "source": [
    "pd.DataFrame(s_Ex_values, index=r.getReactionIds(), columns=r.getFloatingSpeciesIds())"
   ]
  },
  {
   "cell_type": "markdown",
   "metadata": {},
   "source": [
    "## Ey values predicted by lmfit when guesses were initialized with ground truth elasticity values"
   ]
  },
  {
   "cell_type": "code",
   "execution_count": 21,
   "metadata": {},
   "outputs": [
    {
     "data": {
      "text/html": [
       "<div>\n",
       "<style scoped>\n",
       "    .dataframe tbody tr th:only-of-type {\n",
       "        vertical-align: middle;\n",
       "    }\n",
       "\n",
       "    .dataframe tbody tr th {\n",
       "        vertical-align: top;\n",
       "    }\n",
       "\n",
       "    .dataframe thead th {\n",
       "        text-align: right;\n",
       "    }\n",
       "</style>\n",
       "<table border=\"1\" class=\"dataframe\">\n",
       "  <thead>\n",
       "    <tr style=\"text-align: right;\">\n",
       "      <th></th>\n",
       "      <th>0</th>\n",
       "      <th>1</th>\n",
       "    </tr>\n",
       "  </thead>\n",
       "  <tbody>\n",
       "    <tr>\n",
       "      <th>J1</th>\n",
       "      <td>0.321506</td>\n",
       "      <td>-0.334662</td>\n",
       "    </tr>\n",
       "    <tr>\n",
       "      <th>J2</th>\n",
       "      <td>0.321506</td>\n",
       "      <td>-0.334662</td>\n",
       "    </tr>\n",
       "  </tbody>\n",
       "</table>\n",
       "</div>"
      ],
      "text/plain": [
       "           0         1\n",
       "J1  0.321506 -0.334662\n",
       "J2  0.321506 -0.334662"
      ]
     },
     "execution_count": 21,
     "metadata": {},
     "output_type": "execute_result"
    }
   ],
   "source": [
    "pd.DataFrame(s_Ey_values, index=r.getReactionIds())"
   ]
  },
  {
   "cell_type": "markdown",
   "metadata": {},
   "source": [
    "## Calculating the chi square of the ground truth values in the loss function"
   ]
  },
  {
   "cell_type": "code",
   "execution_count": 22,
   "metadata": {},
   "outputs": [
    {
     "data": {
      "text/plain": [
       "0.03593703407887569"
      ]
     },
     "execution_count": 22,
     "metadata": {},
     "output_type": "execute_result"
    }
   ],
   "source": [
    "((linlog_fluxes - gt_fluxes)*(linlog_fluxes - gt_fluxes)).sum().sum()"
   ]
  },
  {
   "cell_type": "code",
   "execution_count": 23,
   "metadata": {},
   "outputs": [
    {
     "data": {
      "text/plain": [
       "0.018013588719158098"
      ]
     },
     "execution_count": 23,
     "metadata": {},
     "output_type": "execute_result"
    }
   ],
   "source": [
    "s_out.chisqr # <-- lmfit found a way to minimize the loss function even more with different values"
   ]
  },
  {
   "cell_type": "markdown",
   "metadata": {},
   "source": [
    "## Calculating the values of chi-square while varying the number of Ex values fit, given Ey. "
   ]
  },
  {
   "cell_type": "code",
   "execution_count": 24,
   "metadata": {},
   "outputs": [],
   "source": [
    "r = te.loada('twostep.ant')\n",
    "r.steadyState()\n",
    "N=r.getFullStoichiometryMatrix()"
   ]
  },
  {
   "cell_type": "code",
   "execution_count": 25,
   "metadata": {},
   "outputs": [],
   "source": [
    "en = df[enzymes].loc[1:]/df[enzymes].loc[0]\n",
    "xn = df[internal].loc[1:]/df[internal].loc[0]\n",
    "yn = df[external].loc[1:]/df[external].loc[0]\n",
    "vn = df[fluxes].loc[1:]/df[fluxes].loc[0]"
   ]
  },
  {
   "cell_type": "code",
   "execution_count": 26,
   "metadata": {},
   "outputs": [],
   "source": [
    "ex = r.getScaledElasticityMatrix()\n",
    "a = r.getBoundarySpeciesIds()\n",
    "b = r.getReactionIds()\n",
    "c=[]\n",
    "for i in b: \n",
    "    for ii in a: \n",
    "        c.append(r.getUnscaledParameterElasticity(i, ii) * r[ii]/r[i])\n",
    "ey = np.array(c).reshape((len(b),len(a)))"
   ]
  },
  {
   "cell_type": "code",
   "execution_count": 27,
   "metadata": {},
   "outputs": [],
   "source": [
    "# where does the ground truth have nonzero values?\n",
    "nonzeros = np.where(r.getScaledElasticityMatrix().flatten()!=0)[0]\n",
    "ex_seeds = r.getScaledElasticityMatrix().flatten()"
   ]
  },
  {
   "cell_type": "code",
   "execution_count": 28,
   "metadata": {},
   "outputs": [],
   "source": [
    "def cb(params, iter, resid, *args, **kws):\n",
    "    print(iter, (resid**2).sum().sum())\n",
    "\n",
    "def residual(params, xn, yn, v_star, ex, ey, df, coords, *args, **kws):\n",
    "\n",
    "    for i in coords:\n",
    "        ex[i] = params[f'Ex{i}']\n",
    "\n",
    "    ex = ex.reshape((2,1))\n",
    "    a = np.ones((2,4))\n",
    "    b = ex@np.log(xn).T\n",
    "    c = ey@np.log(yn).T\n",
    "\n",
    "    model = np.diag(v_star)@(a + b + c)\n",
    "    return (df[fluxes].loc[1:].values-model.T)"
   ]
  },
  {
   "cell_type": "code",
   "execution_count": 29,
   "metadata": {},
   "outputs": [],
   "source": [
    "chisq_list=[]\n",
    "param_list = []\n",
    "# for each nonzero elasticity\n",
    "for i in range(len(nonzeros)):\n",
    "    # for each elasticity up to that nonzero elasticity\n",
    "    params = Parameters()\n",
    "    for ii in nonzeros[:(i+1)]:\n",
    "        # define parameters for the run\n",
    "        # add all the nonzero parameters\n",
    "        params.add(f'Ex{ii}', value=ex_seeds[ii], min=-10, max=10)\n",
    "    coords = [ii for ii in nonzeros[:(i+1)]]\n",
    "    # out = minimize(residual, params, args=(xn, yn, v_star, ex.flatten(), ey, df, coords), method='differential_evolution', iter_cb=cb)\n",
    "    out = minimize(residual, params, args=(xn, yn, v_star, ex.flatten(), ey, df, coords))\n",
    "    chisq_list.append(out.chisqr)\n",
    "    param_list.append(out.params)"
   ]
  },
  {
   "cell_type": "code",
   "execution_count": 30,
   "metadata": {},
   "outputs": [
    {
     "data": {
      "text/plain": [
       "2"
      ]
     },
     "execution_count": 30,
     "metadata": {},
     "output_type": "execute_result"
    }
   ],
   "source": [
    "len(chisq_list)"
   ]
  },
  {
   "cell_type": "code",
   "execution_count": 31,
   "metadata": {},
   "outputs": [
    {
     "data": {
      "text/plain": [
       "Text(0, 0.5, 'chisqr')"
      ]
     },
     "execution_count": 31,
     "metadata": {},
     "output_type": "execute_result"
    },
    {
     "data": {
      "image/png": "[encoded data removed]",
      "text/plain": [
       "<Figure size 640x480 with 1 Axes>"
      ]
     },
     "metadata": {},
     "output_type": "display_data"
    }
   ],
   "source": [
    "plt.figure()\n",
    "plt.scatter(np.arange(1,3,1), np.array(chisq_list))\n",
    "plt.grid()\n",
    "plt.title('chisqr values as the number of nonzero elasticity value\\\n",
    "          parameters are increased')\n",
    "plt.xlabel('nonzero elasticity value parameters')\n",
    "plt.ylabel('chisqr')\n"
   ]
  },
  {
   "cell_type": "code",
   "execution_count": 33,
   "metadata": {},
   "outputs": [
    {
     "data": {
      "text/html": [
       "<table class=\"jp-toc-ignore\"><caption>Parameters</caption><tr><th style='text-align:left'>name</th><th style='text-align:left'>value</th><th style='text-align:left'>standard error</th><th style='text-align:left'>relative error</th><th style='text-align:left'>initial value</th><th style='text-align:left'>min</th><th style='text-align:left'>max</th><th style='text-align:right'>vary</th></tr><tr><td style='text-align:left'>Ex0</td><td style='text-align:left'>-0.12264508</td><td style='text-align:left'> 0.37158304</td><td style='text-align:left'>(302.97%)</td><td style='text-align:left'>-0.5948331537319074</td><td style='text-align:left'>-10.0000000</td><td style='text-align:left'> 10.0000000</td><td style='text-align:right'>True</td></tr><tr><td style='text-align:left'>Ex1</td><td style='text-align:left'> 0.28161887</td><td style='text-align:left'> 0.37158304</td><td style='text-align:left'>(131.95%)</td><td style='text-align:left'>0.7518760568558508</td><td style='text-align:left'>-10.0000000</td><td style='text-align:left'> 10.0000000</td><td style='text-align:right'>True</td></tr></table>"
      ],
      "text/plain": [
       "Parameters([('Ex0', <Parameter 'Ex0', value=-0.12264508384393125 +/- 0.372, bounds=[-10:10]>), ('Ex1', <Parameter 'Ex1', value=0.28161887207537006 +/- 0.372, bounds=[-10:10]>)])"
      ]
     },
     "execution_count": 33,
     "metadata": {},
     "output_type": "execute_result"
    }
   ],
   "source": [
    "param_list[1]"
   ]
  },
  {
   "cell_type": "markdown",
   "metadata": {},
   "source": [
    "In the results above, ey was fixed and ex parameters were initialized with groundtruth values. "
   ]
  },
  {
   "cell_type": "raw",
   "metadata": {
    "vscode": {
     "languageId": "raw"
    }
   },
   "source": [
    "# ground truth\n",
    "b = np.ones((2,4)) + ex@np.log(xn).T + ey@np.log(yn).T\n",
    "dif = (np.diag(v_star) @ b).T - df[fluxes].loc[1:].values\n",
    "(dif*dif).sum().sum()"
   ]
  },
  {
   "cell_type": "raw",
   "metadata": {
    "vscode": {
     "languageId": "raw"
    }
   },
   "source": [
    "ex[0,1] = 0.43760147\n",
    "\n",
    "b = np.ones((2,4)) + ex@np.log(xn).T + ey@np.log(yn).T\n",
    "dif = (np.diag(v_star) @ b).T - df[fluxes].loc[1:].values\n",
    "print((dif*dif).sum().sum())\n",
    "\n",
    "ex = r.getScaledElasticityMatrix()"
   ]
  },
  {
   "cell_type": "markdown",
   "metadata": {},
   "source": [
    "Now, we are going to explore control coefficient values for each set of elasticity values predicted by lmfit"
   ]
  },
  {
   "cell_type": "code",
   "execution_count": 34,
   "metadata": {},
   "outputs": [],
   "source": [
    "# copy+pasted then adapted from BMCA-pipeline/util\n",
    "\n",
    "n_exp = en.shape[0]\n",
    "\n",
    "e_star = df[enzymes].iloc[0].values\n",
    "x_star = df[internal].iloc[0].values\n",
    "y_star = df[external].iloc[0].values\n",
    "v_star = df[fluxes].iloc[0].values\n",
    "\n",
    "def elasticity_to_CCC(BMCA, scaledE=None):\n",
    "\n",
    "    if scaledE is None:\n",
    "        scaledE = BMCA.Ex\n",
    "\n",
    "    r = te.loada(BMCA.model_file)\n",
    "    r.conservedMoietyAnalysis = True\n",
    "    r.steadyState()\n",
    "    link_matrix = r.getLinkMatrix()\n",
    "    Nr = r.getReducedStoichiometryMatrix()\n",
    "\n",
    "    ##### this line needs to be workshopped\n",
    "    unscaledE = np.linalg.inv(np.diag(1/BMCA.v_star)) @ scaledE @ np.linalg.inv(np.diag(BMCA.x_star))\n",
    "\n",
    "    invJac = np.linalg.inv(-Nr@unscaledE@link_matrix)\n",
    "    idMat = np.identity(len(BMCA.v_star))\n",
    "\n",
    "    # unscaled concentration and flux control coefficients, respectively\n",
    "    Cx = link_matrix@invJac@Nr \n",
    "    CJ = np.matmul(unscaledE, Cx) + idMat # unscaled FCC\n",
    "\n",
    "    # scaled concentration and flux control coefficients, respectively  \n",
    "    ##### these two lines need to be workshopped\n",
    "    CxS = np.diag(1/BMCA.x_star) @ Cx @ np.diag(BMCA.v_star)\n",
    "    CJS = np.diag(1/BMCA.v_star) @ CJ @ np.diag(BMCA.v_star)\n",
    "\n",
    "    return CxS, CJS\n",
    "\n",
    "def estimate_CCs(Ex):\n",
    "    vn[vn == 0] = 1e-6\n",
    "    \n",
    "    a = np.diag(en.values / vn.values)\n",
    "    a = np.diag(a)\n",
    "    a = a[np.newaxis,:].repeat(1, axis=0)\n",
    "\n",
    "    Ex_ss = a @ Ex\n",
    "    As = N @ np.diag(v_star) @ Ex_ss\n",
    "    bs = N @ np.diag(v_star)\n",
    "    bs = bs[np.newaxis, :].repeat(1, axis=0)\n",
    "    \n",
    "    As = at.as_tensor_variable(As)\n",
    "    bs = at.as_tensor_variable(bs)\n",
    "\n",
    "    def solve_aesara(A, b):\n",
    "        rsolve_op = LeastSquaresSolve()\n",
    "        return rsolve_op(A, b).squeeze()\n",
    "\n",
    "    CCC, _ = aesara.scan(lambda A, b: solve_aesara(A, b),\n",
    "                        sequences=[As, bs], strict=True)\n",
    "\n",
    "    identity = np.eye(len(N.T))\n",
    "    identity = identity[np.newaxis,:].repeat(1, axis=0)\n",
    "    \n",
    "    FCC = (Ex_ss @ CCC.eval()) + identity\n",
    "    \n",
    "    return FCC"
   ]
  },
  {
   "cell_type": "code",
   "execution_count": 35,
   "metadata": {},
   "outputs": [],
   "source": [
    "# [[i[ii].value for ii in i.keys()] for i in param_list]\n",
    "lmfit_values = [param_list[-1][ii].value for ii in param_list[-1].keys()]\n",
    "ex = r.getScaledElasticityMatrix()\n",
    "FCC_list = []\n",
    "\n",
    "for i in param_list:\n",
    "    # make replacement in groundtruth ex at the proper location\n",
    "    \n",
    "    ex_replaced = ex.flatten()\n",
    "    for ii in nonzeros[:len(param_list[0].keys())]:\n",
    "        ex_replaced[ii] = lmfit_values[ii]\n",
    "    ex_replaced = ex_replaced.reshape((2,1))\n",
    "    FCC_list.append(estimate_CCs(ex_replaced))"
   ]
  },
  {
   "cell_type": "code",
   "execution_count": 36,
   "metadata": {},
   "outputs": [],
   "source": [
    "fcc_list=np.array(FCC_list)\n",
    "fcc_list = fcc_list.squeeze()"
   ]
  },
  {
   "cell_type": "code",
   "execution_count": 37,
   "metadata": {},
   "outputs": [
    {
     "data": {
      "text/plain": [
       "array([ 1.13955802, -0.13955802])"
      ]
     },
     "execution_count": 37,
     "metadata": {},
     "output_type": "execute_result"
    }
   ],
   "source": [
    "fcc_list[0][0]"
   ]
  },
  {
   "cell_type": "code",
   "execution_count": 38,
   "metadata": {},
   "outputs": [
    {
     "data": {
      "text/plain": [
       "array([ 1.13955802, -0.13955802])"
      ]
     },
     "execution_count": 38,
     "metadata": {},
     "output_type": "execute_result"
    }
   ],
   "source": [
    "fcc_list[1][0]"
   ]
  },
  {
   "cell_type": "code",
   "execution_count": 39,
   "metadata": {},
   "outputs": [
    {
     "data": {
      "text/plain": [
       "[0.55830617 0.44169383]"
      ]
     },
     "execution_count": 39,
     "metadata": {},
     "output_type": "execute_result"
    }
   ],
   "source": [
    "r.getScaledFluxControlCoefficientMatrix()[0]"
   ]
  },
  {
   "cell_type": "markdown",
   "metadata": {},
   "source": [
    "the FCC values are all the same for each lmfit run. \n",
    "\n",
    "Could this be due to the fact that the Ex values were all the same for each lmfit run? "
   ]
  },
  {
   "cell_type": "markdown",
   "metadata": {},
   "source": [
    "## Using a stochastic method"
   ]
  },
  {
   "cell_type": "code",
   "execution_count": 40,
   "metadata": {},
   "outputs": [],
   "source": [
    "chisq_list=[]\n",
    "param_list = []\n",
    "# for each nonzero elasticity\n",
    "for i in range(len(nonzeros)):\n",
    "    # for each elasticity up to that nonzero elasticity\n",
    "    params = Parameters()\n",
    "    for ii in nonzeros[:(i+1)]:\n",
    "        # define parameters for the run\n",
    "        # add all the nonzero parameters\n",
    "        params.add(f'Ex{ii}', value=ex_seeds[ii], min=-10, max=10)\n",
    "    coords = [ii for ii in nonzeros[:(i+1)]]\n",
    "    \n",
    "    out = minimize(residual, params, args=(xn, yn, v_star, ex.flatten(), ey, df, coords), method='differential_evolution')\n",
    "    chisq_list.append(out.chisqr)\n",
    "    param_list.append(out.params)"
   ]
  },
  {
   "cell_type": "code",
   "execution_count": 41,
   "metadata": {},
   "outputs": [
    {
     "data": {
      "text/html": [
       "<table class=\"jp-toc-ignore\"><caption>Parameters</caption><tr><th style='text-align:left'>name</th><th style='text-align:left'>value</th><th style='text-align:left'>initial value</th><th style='text-align:left'>min</th><th style='text-align:left'>max</th><th style='text-align:right'>vary</th></tr><tr><td style='text-align:left'>Ex0</td><td style='text-align:left'>-0.12264508</td><td style='text-align:left'>-0.5948331537319074</td><td style='text-align:left'>-10.0000000</td><td style='text-align:left'> 10.0000000</td><td style='text-align:right'>True</td></tr></table>"
      ],
      "text/plain": [
       "Parameters([('Ex0', <Parameter 'Ex0', value=-0.12264508277677422, bounds=[-10:10]>)])"
      ]
     },
     "execution_count": 41,
     "metadata": {},
     "output_type": "execute_result"
    }
   ],
   "source": [
    "param_list[0]"
   ]
  },
  {
   "cell_type": "code",
   "execution_count": 42,
   "metadata": {},
   "outputs": [
    {
     "data": {
      "text/html": [
       "<table class=\"jp-toc-ignore\"><caption>Parameters</caption><tr><th style='text-align:left'>name</th><th style='text-align:left'>value</th><th style='text-align:left'>initial value</th><th style='text-align:left'>min</th><th style='text-align:left'>max</th><th style='text-align:right'>vary</th></tr><tr><td style='text-align:left'>Ex0</td><td style='text-align:left'>-0.12264512</td><td style='text-align:left'>-0.5948331537319074</td><td style='text-align:left'>-10.0000000</td><td style='text-align:left'> 10.0000000</td><td style='text-align:right'>True</td></tr><tr><td style='text-align:left'>Ex1</td><td style='text-align:left'> 0.28161841</td><td style='text-align:left'>0.7518760568558508</td><td style='text-align:left'>-10.0000000</td><td style='text-align:left'> 10.0000000</td><td style='text-align:right'>True</td></tr></table>"
      ],
      "text/plain": [
       "Parameters([('Ex0', <Parameter 'Ex0', value=-0.12264512365656977, bounds=[-10:10]>), ('Ex1', <Parameter 'Ex1', value=0.2816184058346707, bounds=[-10:10]>)])"
      ]
     },
     "execution_count": 42,
     "metadata": {},
     "output_type": "execute_result"
    }
   ],
   "source": [
    "param_list[1]"
   ]
  },
  {
   "cell_type": "code",
   "execution_count": 43,
   "metadata": {},
   "outputs": [
    {
     "data": {
      "text/plain": [
       "Text(0, 0.5, 'chisqr')"
      ]
     },
     "execution_count": 43,
     "metadata": {},
     "output_type": "execute_result"
    },
    {
     "data": {
      "image/png": "[encoded data removed]",
      "text/plain": [
       "<Figure size 640x480 with 1 Axes>"
      ]
     },
     "metadata": {},
     "output_type": "display_data"
    }
   ],
   "source": [
    "plt.figure()\n",
    "plt.scatter(np.arange(1,3,1), np.array(chisq_list))\n",
    "plt.grid()\n",
    "plt.title('chisqr values as the number of nonzero elasticity value\\\n",
    "          parameters are increased')\n",
    "plt.xlabel('nonzero elasticity value parameters')\n",
    "plt.ylabel('chisqr')\n"
   ]
  },
  {
   "cell_type": "code",
   "execution_count": 44,
   "metadata": {},
   "outputs": [],
   "source": [
    "# [[i[ii].value for ii in i.keys()] for i in param_list]\n",
    "lmfit_values = [param_list[-1][ii].value for ii in param_list[-1].keys()]\n",
    "ex = r.getScaledElasticityMatrix()\n",
    "FCC_list = []\n",
    "\n",
    "for i in param_list:\n",
    "    # make replacement in groundtruth ex at the proper location\n",
    "    \n",
    "    ex_replaced = ex.flatten()\n",
    "    for ii in nonzeros[:len(param_list[0].keys())]:\n",
    "        ex_replaced[ii] = lmfit_values[ii]\n",
    "    ex_replaced = ex_replaced.reshape((2,1))\n",
    "    FCC_list.append(estimate_CCs(ex_replaced))"
   ]
  },
  {
   "cell_type": "code",
   "execution_count": 45,
   "metadata": {},
   "outputs": [],
   "source": [
    "fcc_list=np.array(FCC_list)\n",
    "fcc_list = fcc_list.squeeze()"
   ]
  },
  {
   "cell_type": "code",
   "execution_count": 46,
   "metadata": {},
   "outputs": [
    {
     "data": {
      "text/plain": [
       "array([[ 1.13955806, -0.13955806],\n",
       "       [-0.86044194,  1.86044194]])"
      ]
     },
     "execution_count": 46,
     "metadata": {},
     "output_type": "execute_result"
    }
   ],
   "source": [
    "fcc_list[1]"
   ]
  },
  {
   "cell_type": "code",
   "execution_count": 47,
   "metadata": {},
   "outputs": [
    {
     "data": {
      "text/plain": [
       "array([[ 1.13955806, -0.13955806],\n",
       "       [-0.86044194,  1.86044194]])"
      ]
     },
     "execution_count": 47,
     "metadata": {},
     "output_type": "execute_result"
    }
   ],
   "source": [
    "fcc_list[0]"
   ]
  }
 ],
 "metadata": {
  "kernelspec": {
   "display_name": "gayles",
   "language": "python",
   "name": "python3"
  },
  "language_info": {
   "codemirror_mode": {
    "name": "ipython",
    "version": 3
   },
   "file_extension": ".py",
   "mimetype": "text/x-python",
   "name": "python",
   "nbconvert_exporter": "python",
   "pygments_lexer": "ipython3",
   "version": "3.9.19"
  }
 },
 "nbformat": 4,
 "nbformat_minor": 2
}
