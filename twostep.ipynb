{
 "cells": [
  {
   "cell_type": "code",
   "execution_count": 1,
   "metadata": {},
   "outputs": [
    {
     "name": "stderr",
     "output_type": "stream",
     "text": [
      "WARNING (aesara.configdefaults): g++ not available, if using conda: `conda install m2w64-toolchain`\n",
      "WARNING (aesara.configdefaults): g++ not detected!  Aesara will be unable to compile C-implementations and will default to Python. Performance may be severely degraded. To remove this warning, set Aesara flags cxx to an empty string.\n",
      "WARNING (aesara.tensor.blas): Using NumPy C-API based implementation for BLAS functions.\n"
     ]
    }
   ],
   "source": [
    "from lmfit import minimize, Parameters, fit_report\n",
    "import lmfit\n",
    "import pandas as pd\n",
    "import tellurium as te\n",
    "import numpy as np\n",
    "\n",
    "import matplotlib.pyplot as plt\n",
    "\n",
    "import aesara.tensor as at\n",
    "import aesara\n",
    "floatX = aesara.config.floatX\n",
    "from emll.aesara_utils import LeastSquaresSolve"
   ]
  },
  {
   "cell_type": "code",
   "execution_count": 2,
   "metadata": {},
   "outputs": [],
   "source": [
    "# import the data \n",
    "df = pd.read_csv('data/twostep_1.05.csv')"
   ]
  },
  {
   "cell_type": "code",
   "execution_count": 3,
   "metadata": {},
   "outputs": [],
   "source": [
    "r = te.loada('models/twostep.ant')\n",
    "r.steadyState()\n",
    "N=r.getFullStoichiometryMatrix()"
   ]
  },
  {
   "cell_type": "code",
   "execution_count": 4,
   "metadata": {},
   "outputs": [],
   "source": [
    "enzymes = ['e_' + i for i in r.getReactionIds()]\n",
    "internal = r.getFloatingSpeciesIds()\n",
    "external = r.getBoundarySpeciesIds()\n",
    "fluxes = ['v_' + i for i in r.getReactionIds()]\n",
    "\n",
    "v_star = df[fluxes].loc[0]"
   ]
  },
  {
   "cell_type": "markdown",
   "metadata": {},
   "source": [
    "## Setting up linlog variables\n",
    "Dimensions for the following:\n",
    "\n",
    "*e and v must be same length*\n",
    "\n",
    "- `ex` is (#rxn, #intmet) aka (n,m)\n",
    "- `ey` is (#rxn, #extmet) aka (n,p)\n",
    "\n",
    "- `en` is \n",
    "- `xn` is (#intmet, #rxn) aka (m,n)\n",
    "- `yn` is (#extmet, #rxn) aka (p,n)\n",
    "- `vn` is "
   ]
  },
  {
   "cell_type": "code",
   "execution_count": 5,
   "metadata": {},
   "outputs": [],
   "source": [
    "ex = r.getScaledElasticityMatrix()\n",
    "\n",
    "a = r.getBoundarySpeciesIds()\n",
    "b = r.getReactionIds()\n",
    "c=[]\n",
    "for i in b: \n",
    "    for ii in a: \n",
    "        c.append(r.getUnscaledParameterElasticity(i, ii) * r[ii]/r[i])\n",
    "ey = np.array(c).reshape((len(b),len(a)))"
   ]
  },
  {
   "cell_type": "code",
   "execution_count": 6,
   "metadata": {},
   "outputs": [],
   "source": [
    "en = df[enzymes].loc[1:len(internal)+1]/df[enzymes].loc[0]\n",
    "xn = df[internal].loc[1:len(internal)+1]/df[internal].loc[0]\n",
    "yn = df[external].iloc[-(len(external)):]/df[external].loc[0]\n",
    "vn = df[fluxes].loc[1:len(internal)+1]/df[fluxes].loc[0]"
   ]
  },
  {
   "cell_type": "markdown",
   "metadata": {},
   "source": [
    "## Best case scenarios for linlog. \n",
    "Here, I calculate the linlog equation with groundtruth values calculated through\n",
    "tellurium, subtract them from the ground truth flux values, and calculate the \n",
    "chi squared value.\n",
    "\n",
    "I compare whether to scalar or matrix multiply the first factor of the equation \n",
    "(`outer`). "
   ]
  },
  {
   "cell_type": "code",
   "execution_count": 7,
   "metadata": {},
   "outputs": [
    {
     "name": "stdout",
     "output_type": "stream",
     "text": [
      "[[2.88126623 2.74406307]\n",
      " [2.74406307 2.88126623]]\n"
     ]
    },
    {
     "data": {
      "text/plain": [
       "0.01705007851326588"
      ]
     },
     "execution_count": 7,
     "metadata": {},
     "output_type": "execute_result"
    }
   ],
   "source": [
    "# scalar multiplication\n",
    "gt_fluxes = df[fluxes].loc[1:2].values\n",
    "inner = np.ones((2,2)) + (ex@np.log(xn).T).values + (ey@np.log(yn).T).values\n",
    "outer = (en.values*v_star.values) # (.05 * np.diag(v_star)) + (v_star[0]*np.ones((2,2)))\n",
    "print(outer)\n",
    "\n",
    "linlog_fluxes = (outer * inner).T\n",
    "res = linlog_fluxes - gt_fluxes\n",
    "(res*res).sum()"
   ]
  },
  {
   "cell_type": "code",
   "execution_count": 8,
   "metadata": {},
   "outputs": [
    {
     "name": "stdout",
     "output_type": "stream",
     "text": [
      "[[2.88126623 0.        ]\n",
      " [0.         2.88126623]]\n"
     ]
    },
    {
     "data": {
      "text/plain": [
       "0.05646390858283317"
      ]
     },
     "execution_count": 8,
     "metadata": {},
     "output_type": "execute_result"
    }
   ],
   "source": [
    "# matrix multiplication\n",
    "gt_fluxes = df[fluxes].loc[1:2].values\n",
    "inner = np.ones((2,2)) + (ex@np.log(xn).T).values + (ey@np.log(yn).T).values\n",
    "outer = (en*np.diag(v_star.values)).values # np.diag(1.05 * v_star)\n",
    "print(outer)\n",
    "\n",
    "linlog_fluxes = (outer @ inner).T\n",
    "res = linlog_fluxes - gt_fluxes\n",
    "(res*res).sum()\n"
   ]
  },
  {
   "cell_type": "markdown",
   "metadata": {},
   "source": [
    "The chi squared value for the matrix multiplication is higher, so perhaps this \n",
    "suggests that the scalar multiplication method is more accurate. "
   ]
  },
  {
   "cell_type": "markdown",
   "metadata": {},
   "source": [
    "## Using lmfit to predict elasticity values w/o ey values"
   ]
  },
  {
   "cell_type": "code",
   "execution_count": 9,
   "metadata": {},
   "outputs": [
    {
     "name": "stdout",
     "output_type": "stream",
     "text": [
      "3.7188884432560864e-07\n"
     ]
    },
    {
     "data": {
      "text/html": [
       "<table class=\"jp-toc-ignore\"><caption>Parameters</caption><tr><th style='text-align:left'>name</th><th style='text-align:left'>value</th><th style='text-align:left'>standard error</th><th style='text-align:left'>relative error</th><th style='text-align:left'>initial value</th><th style='text-align:left'>min</th><th style='text-align:left'>max</th><th style='text-align:right'>vary</th></tr><tr><td style='text-align:left'>Ex0</td><td style='text-align:left'>-0.59479989</td><td style='text-align:left'> 0.00299161</td><td style='text-align:left'>(0.50%)</td><td style='text-align:left'>0</td><td style='text-align:left'>-10.0000000</td><td style='text-align:left'> 10.0000000</td><td style='text-align:right'>True</td></tr><tr><td style='text-align:left'>Ex1</td><td style='text-align:left'> 0.75160370</td><td style='text-align:left'> 0.00299138</td><td style='text-align:left'>(0.40%)</td><td style='text-align:left'>0</td><td style='text-align:left'>-10.0000000</td><td style='text-align:left'> 10.0000000</td><td style='text-align:right'>True</td></tr></table>"
      ],
      "text/plain": [
       "Parameters([('Ex0', <Parameter 'Ex0', value=-0.5947998886550963 +/- 0.00299, bounds=[-10:10]>), ('Ex1', <Parameter 'Ex1', value=0.7516037036599794 +/- 0.00299, bounds=[-10:10]>)])"
      ]
     },
     "execution_count": 9,
     "metadata": {},
     "output_type": "execute_result"
    }
   ],
   "source": [
    "def cb(params, iter, resid, *args, **kws):\n",
    "    print(iter, (resid**2).sum().sum())\n",
    "\n",
    "def residual(params, xn, v_star, df, *args, **kws):\n",
    "    \n",
    "    some_list = []\n",
    "    Ex_params = [i for i in params if 'Ex' in i]\n",
    "    for i in Ex_params:\n",
    "        some_list.append(params[i])\n",
    "    ex = np.asarray(some_list).reshape((2,1))\n",
    "\n",
    "    # a = (.05 * np.diag(v_star)) + (v_star[0]*np.ones((2,2)))\n",
    "    a = (en.values*v_star.values)\n",
    "    bb = np.ones((2,2))\n",
    "    cc = ex@(np.log(xn)).T\n",
    "\n",
    "    model = a*(bb + cc)\n",
    "\n",
    "    return (df[fluxes].loc[1:len(internal)+1].values-model.T).values\n",
    "\n",
    "params = Parameters()\n",
    "\n",
    "for i in range(2*(1)):\n",
    "    params.add('Ex'+str(i), value=0, min=-10, max=10)\n",
    "\n",
    "out = minimize(residual, params, args=(xn, v_star, df))#, iter_cb=cb)\n",
    "\n",
    "print(out.chisqr)\n",
    "out.params"
   ]
  },
  {
   "cell_type": "markdown",
   "metadata": {},
   "source": [
    "Perfect results!"
   ]
  },
  {
   "cell_type": "markdown",
   "metadata": {
    "vscode": {
     "languageId": "bat"
    }
   },
   "source": [
    "Here is the ratio of the elasticity values:"
   ]
  },
  {
   "cell_type": "code",
   "execution_count": 10,
   "metadata": {},
   "outputs": [
    {
     "data": {
      "text/plain": [
       "-0.791374344962222"
      ]
     },
     "execution_count": 10,
     "metadata": {},
     "output_type": "execute_result"
    }
   ],
   "source": [
    "first_ratio = out.params['Ex0'] / out.params['Ex1']\n",
    "first_ratio"
   ]
  },
  {
   "cell_type": "markdown",
   "metadata": {},
   "source": [
    "Let's compute some control coefficients."
   ]
  },
  {
   "cell_type": "code",
   "execution_count": 11,
   "metadata": {},
   "outputs": [],
   "source": [
    "def estimate_CCs(Ex):\n",
    "    vn[vn == 0] = 1e-6\n",
    "    \n",
    "    a = np.diag(en.values / vn.values)\n",
    "    a = np.diag(a)\n",
    "    a = a[np.newaxis,:].repeat(1, axis=0)\n",
    "\n",
    "    Ex_ss = a @ Ex\n",
    "    As = N @ np.diag(v_star) @ Ex_ss\n",
    "    bs = N @ np.diag(v_star)\n",
    "    bs = bs[np.newaxis, :].repeat(1, axis=0)\n",
    "    \n",
    "    As = at.as_tensor_variable(As)\n",
    "    bs = at.as_tensor_variable(bs)\n",
    "\n",
    "    def solve_aesara(A, b):\n",
    "        rsolve_op = LeastSquaresSolve()\n",
    "        return rsolve_op(A, b).squeeze()\n",
    "\n",
    "    CCC, _ = aesara.scan(lambda A, b: solve_aesara(A, b),\n",
    "                        sequences=[As, bs], strict=True)\n",
    "\n",
    "    identity = np.eye(len(N.T))\n",
    "    identity = identity[np.newaxis,:].repeat(1, axis=0)\n",
    "    \n",
    "    FCC = (Ex_ss @ CCC.eval()) + identity\n",
    "    \n",
    "    return FCC"
   ]
  },
  {
   "cell_type": "code",
   "execution_count": 12,
   "metadata": {},
   "outputs": [
    {
     "data": {
      "text/plain": [
       " [[ 1.44029, -0.559709]]"
      ]
     },
     "execution_count": 12,
     "metadata": {},
     "output_type": "execute_result"
    }
   ],
   "source": [
    "# flag Herbert\n",
    "estimate_CCs(ex)"
   ]
  },
  {
   "cell_type": "code",
   "execution_count": 13,
   "metadata": {},
   "outputs": [
    {
     "data": {
      "text/plain": [
       "            J1,       J2\n",
       "J1 [[ 0.558306, 0.441694],\n",
       "J2  [ 0.558306, 0.441694]]"
      ]
     },
     "execution_count": 13,
     "metadata": {},
     "output_type": "execute_result"
    }
   ],
   "source": [
    "r.getScaledFluxControlCoefficientMatrix()"
   ]
  },
  {
   "cell_type": "markdown",
   "metadata": {},
   "source": [
    "## Using lmfit to predict elasticity values with the inclusion of ey values\n",
    "\n",
    "Unfortunately, lmfit cannot fit a case where the number of inputs (Ex values + \n",
    "Ey values = 6 unknowns) is greater than the number of outputs (4 flux values). \n",
    "\n",
    "Therefore, I will pass in only the nonzero Ey values as a parameter"
   ]
  },
  {
   "cell_type": "code",
   "execution_count": 14,
   "metadata": {},
   "outputs": [
    {
     "name": "stdout",
     "output_type": "stream",
     "text": [
      "7.888609052210118e-31\n"
     ]
    },
    {
     "data": {
      "text/html": [
       "<table class=\"jp-toc-ignore\"><caption>Parameters</caption><tr><th style='text-align:left'>name</th><th style='text-align:left'>value</th><th style='text-align:left'>standard error</th><th style='text-align:left'>relative error</th><th style='text-align:left'>initial value</th><th style='text-align:left'>min</th><th style='text-align:left'>max</th><th style='text-align:right'>vary</th></tr><tr><td style='text-align:left'>Ex0</td><td style='text-align:left'>-0.75485255</td><td style='text-align:left'> 8.9276e-15</td><td style='text-align:left'>(0.00%)</td><td style='text-align:left'>0</td><td style='text-align:left'>-10.0000000</td><td style='text-align:left'> 10.0000000</td><td style='text-align:right'>True</td></tr><tr><td style='text-align:left'>Ex1</td><td style='text-align:left'> 0.59500169</td><td style='text-align:left'> 8.9412e-15</td><td style='text-align:left'>(0.00%)</td><td style='text-align:left'>0</td><td style='text-align:left'>-10.0000000</td><td style='text-align:left'> 10.0000000</td><td style='text-align:right'>True</td></tr><tr><td style='text-align:left'>Ey0</td><td style='text-align:left'> 0.11828077</td><td style='text-align:left'> 9.1539e-15</td><td style='text-align:left'>(0.00%)</td><td style='text-align:left'>0</td><td style='text-align:left'>-10.0000000</td><td style='text-align:left'> 10.0000000</td><td style='text-align:right'>True</td></tr><tr><td style='text-align:left'>Ey1</td><td style='text-align:left'>-0.11341636</td><td style='text-align:left'> 9.1685e-15</td><td style='text-align:left'>(0.00%)</td><td style='text-align:left'>0</td><td style='text-align:left'>-10.0000000</td><td style='text-align:left'> 10.0000000</td><td style='text-align:right'>True</td></tr></table>"
      ],
      "text/plain": [
       "Parameters([('Ex0', <Parameter 'Ex0', value=-0.7548525526976562 +/- 8.93e-15, bounds=[-10:10]>), ('Ex1', <Parameter 'Ex1', value=0.595001686797394 +/- 8.94e-15, bounds=[-10:10]>), ('Ey0', <Parameter 'Ey0', value=0.11828076925630526 +/- 9.15e-15, bounds=[-10:10]>), ('Ey1', <Parameter 'Ey1', value=-0.11341636424000079 +/- 9.17e-15, bounds=[-10:10]>)])"
      ]
     },
     "execution_count": 14,
     "metadata": {},
     "output_type": "execute_result"
    }
   ],
   "source": [
    "def residual(params, xn, yn, v_star, df, *args, **kws):\n",
    "    \n",
    "    ex = np.array([params['Ex0'], params['Ex1']]).reshape((2,1))\n",
    "\n",
    "    ey = np.zeros((2,2))\n",
    "    ey[0,0] = params['Ey0']\n",
    "    ey[1,1] = params['Ey1']\n",
    "\n",
    "    a = en.values*v_star.values\n",
    "    \n",
    "    bb = np.ones((2,2))\n",
    "    cc = ex@(np.log(xn)).T\n",
    "    dd = ey@(np.log(yn)).T\n",
    "    \n",
    "    model = a*(bb + cc.values + dd.values)\n",
    "    \n",
    "    return df[fluxes].iloc[1:len(internal)+2].values-model\n",
    "\n",
    "params = Parameters()\n",
    "\n",
    "for i in range(2*(1)):\n",
    "    params.add('Ex'+str(i), value=0, min=-10, max=10)\n",
    "for i in range(2*(1)):\n",
    "    params.add('Ey'+str(i), value=0, min=-10, max=10)\n",
    "\n",
    "y_out = minimize(residual, params, args=(xn, yn, v_star, df))#, iter_cb=cb)\n",
    "\n",
    "print(y_out.chisqr)\n",
    "y_out.params"
   ]
  },
  {
   "cell_type": "markdown",
   "metadata": {},
   "source": [
    "While the actual elasticity values were wrong for both Ex and Ey, the ratios between the Ex values and Ey values are the same as the ratios for the groundtruth Ex and Ey values.\n",
    "\n",
    "However, we need to be careful, because this time it looks like lmfit found the reciprocal of the ratio this time around"
   ]
  },
  {
   "cell_type": "code",
   "execution_count": 15,
   "metadata": {},
   "outputs": [
    {
     "name": "stdout",
     "output_type": "stream",
     "text": [
      "ground truth ex ratio:  -0.791374344962222\n",
      "lmfit value ratio: -1.268656155851695\n",
      "lmfit value ratio reciprocal: -0.7882356424059311\n"
     ]
    }
   ],
   "source": [
    "print(\"ground truth ex ratio: \", first_ratio)\n",
    "ratio = y_out.params['Ex0'].value / y_out.params['Ex1'].value\n",
    "print(\"lmfit value ratio:\", ratio)\n",
    "print(\"lmfit value ratio reciprocal:\", 1/ratio)"
   ]
  },
  {
   "cell_type": "code",
   "execution_count": 16,
   "metadata": {},
   "outputs": [
    {
     "name": "stdout",
     "output_type": "stream",
     "text": [
      "ground truth ey ratio:  -0.9647146014604095\n",
      "lmfit ey ratio:  -1.0428897985656715\n",
      "lmfit ey ratio reciprocal:  -0.9588740837002533\n"
     ]
    }
   ],
   "source": [
    "print(\"ground truth ey ratio: \", ey[0,0]/ey[1,1])\n",
    "ratio = y_out.params['Ey0'].value / y_out.params['Ey1'].value\n",
    "print(\"lmfit ey ratio: \", ratio)\n",
    "print(\"lmfit ey ratio reciprocal: \", 1/ratio)"
   ]
  },
  {
   "cell_type": "markdown",
   "metadata": {},
   "source": [
    "Lmfit struggled to fit all the parameters. Let us bring down the number of inputs by one; perhaps the fact that the number of inputs and the number of outputs are currently both 4 is messing it up. "
   ]
  },
  {
   "cell_type": "code",
   "execution_count": 17,
   "metadata": {},
   "outputs": [
    {
     "name": "stdout",
     "output_type": "stream",
     "text": [
      "0.002871990550092937\n"
     ]
    },
    {
     "data": {
      "text/html": [
       "<table class=\"jp-toc-ignore\"><caption>Parameters</caption><tr><th style='text-align:left'>name</th><th style='text-align:left'>value</th><th style='text-align:left'>standard error</th><th style='text-align:left'>relative error</th><th style='text-align:left'>initial value</th><th style='text-align:left'>min</th><th style='text-align:left'>max</th><th style='text-align:right'>vary</th></tr><tr><td style='text-align:left'>Ex0</td><td style='text-align:left'>-0.75485255</td><td style='text-align:left'> 0.53867579</td><td style='text-align:left'>(71.36%)</td><td style='text-align:left'>0</td><td style='text-align:left'>-10.0000000</td><td style='text-align:left'> 10.0000000</td><td style='text-align:right'>True</td></tr><tr><td style='text-align:left'>Ex1</td><td style='text-align:left'> 0.20405344</td><td style='text-align:left'> 0.37176809</td><td style='text-align:left'>(182.19%)</td><td style='text-align:left'>0</td><td style='text-align:left'>-10.0000000</td><td style='text-align:left'> 10.0000000</td><td style='text-align:right'>True</td></tr><tr><td style='text-align:left'>Ey0</td><td style='text-align:left'> 0.11828077</td><td style='text-align:left'> 0.55233062</td><td style='text-align:left'>(466.97%)</td><td style='text-align:left'>0</td><td style='text-align:left'>-10.0000000</td><td style='text-align:left'> 10.0000000</td><td style='text-align:right'>True</td></tr></table>"
      ],
      "text/plain": [
       "Parameters([('Ex0', <Parameter 'Ex0', value=-0.7548525526976562 +/- 0.539, bounds=[-10:10]>), ('Ex1', <Parameter 'Ex1', value=0.20405343507325924 +/- 0.372, bounds=[-10:10]>), ('Ey0', <Parameter 'Ey0', value=0.11828076925630171 +/- 0.552, bounds=[-10:10]>)])"
      ]
     },
     "execution_count": 17,
     "metadata": {},
     "output_type": "execute_result"
    }
   ],
   "source": [
    "def residual(params, xn, yn, v_star, df, *args, **kws):\n",
    "\n",
    "    some_list = []\n",
    "    Ex_params = [i for i in params if 'Ex' in i]\n",
    "    for i in Ex_params:\n",
    "        some_list.append(params[i])\n",
    "    ex = np.asarray(some_list).reshape((2,1))\n",
    "\n",
    "    ey = np.zeros((2,2))\n",
    "    ey[0,0] = params['Ey0']\n",
    "    ey[1,1] = -0.66662513 # ground truth ey value\n",
    "\n",
    "    a = (en.values*v_star.values)\n",
    "    \n",
    "    bb = np.ones((2,2))\n",
    "    cc = ex@(np.log(xn)).T\n",
    "    dd = ey@(np.log(yn)).T\n",
    "    \n",
    "    model = a*(bb + cc.values + dd.values)\n",
    "    \n",
    "    return df[fluxes].iloc[1:len(internal)+2].values-model\n",
    "\n",
    "params = Parameters()\n",
    "\n",
    "for i in range(2*(1)):\n",
    "    params.add('Ex'+str(i), value=0, min=-10, max=10)\n",
    "params.add('Ey0', value=0, min=-10, max=10)\n",
    "\n",
    "y_out = minimize(residual, params, args=(xn, yn, v_star, df))#, iter_cb=cb)\n",
    "\n",
    "print(y_out.chisqr)\n",
    "y_out.params"
   ]
  },
  {
   "cell_type": "code",
   "execution_count": 18,
   "metadata": {},
   "outputs": [
    {
     "name": "stdout",
     "output_type": "stream",
     "text": [
      "ground truth ex ratio:  -0.791374344962222\n",
      "lmfit value ratio: -3.6992886320519385\n",
      "lmfit value ratio reciprocal: -0.27032224285924816\n"
     ]
    }
   ],
   "source": [
    "print(\"ground truth ex ratio: \", first_ratio)\n",
    "ratio = y_out.params['Ex0'].value / y_out.params['Ex1'].value\n",
    "print(\"lmfit value ratio:\", ratio)\n",
    "print(\"lmfit value ratio reciprocal:\", 1/ratio)"
   ]
  },
  {
   "cell_type": "code",
   "execution_count": 19,
   "metadata": {},
   "outputs": [
    {
     "name": "stdout",
     "output_type": "stream",
     "text": [
      "ground truth ey ratio:  -0.9647146014604095\n",
      "lmfit ey ratio:  -0.17743220803941873\n",
      "lmfit ey ratio reciprocal:  -5.635955337814642\n"
     ]
    }
   ],
   "source": [
    "print(\"ground truth ey ratio: \", ey[0,0]/ey[1,1])\n",
    "ratio = y_out.params['Ey0'].value / ey[1,1]\n",
    "print(\"lmfit ey ratio: \", ratio)\n",
    "print(\"lmfit ey ratio reciprocal: \", 1/ratio)"
   ]
  },
  {
   "cell_type": "markdown",
   "metadata": {},
   "source": [
    "I suppose this result suggests that lmfit ratios must happen in pairs. \n",
    "\n",
    "What happens if you give lmfit ex values and only try to fit ey values?\n",
    "\n",
    "I realized that when fitting ey values, there should not be a e-hat factor \n",
    "because none of the enzyme values are being changed. \n",
    "\n",
    "But then that means that there might be a missing term that shows how much an \n",
    "external species was perturbed."
   ]
  },
  {
   "cell_type": "code",
   "execution_count": 20,
   "metadata": {},
   "outputs": [
    {
     "name": "stdout",
     "output_type": "stream",
     "text": [
      "0.0004962767608266467\n"
     ]
    },
    {
     "data": {
      "text/html": [
       "<table class=\"jp-toc-ignore\"><caption>Parameters</caption><tr><th style='text-align:left'>name</th><th style='text-align:left'>value</th><th style='text-align:left'>standard error</th><th style='text-align:left'>relative error</th><th style='text-align:left'>initial value</th><th style='text-align:left'>min</th><th style='text-align:left'>max</th><th style='text-align:right'>vary</th></tr><tr><td style='text-align:left'>Ey0</td><td style='text-align:left'>-4.4704e-04</td><td style='text-align:left'> 0.11205500</td><td style='text-align:left'>(25066.25%)</td><td style='text-align:left'>0</td><td style='text-align:left'>-10.0000000</td><td style='text-align:left'> 10.0000000</td><td style='text-align:right'>True</td></tr><tr><td style='text-align:left'>Ey1</td><td style='text-align:left'> 0.00315440</td><td style='text-align:left'> 0.11205502</td><td style='text-align:left'>(3552.34%)</td><td style='text-align:left'>0</td><td style='text-align:left'>-10.0000000</td><td style='text-align:left'> 10.0000000</td><td style='text-align:right'>True</td></tr></table>"
      ],
      "text/plain": [
       "Parameters([('Ey0', <Parameter 'Ey0', value=-0.0004470354208319094 +/- 0.112, bounds=[-10:10]>), ('Ey1', <Parameter 'Ey1', value=0.003154404274894773 +/- 0.112, bounds=[-10:10]>)])"
      ]
     },
     "execution_count": 20,
     "metadata": {},
     "output_type": "execute_result"
    }
   ],
   "source": [
    "def cb(params, iter, resid, *args, **kws):\n",
    "    print(iter, (resid**2).sum().sum())\n",
    "\n",
    "def residual(params, xn, ex, v_star, df, *args, **kws):\n",
    "    \n",
    "    ey = np.zeros((2,2))\n",
    "    ey[0,0] = params['Ey0']\n",
    "    ey[1,1] = params['Ey1']\n",
    "    \n",
    "    # a = (v_star[0]*np.ones((2,2)))\n",
    "    a = (en.values*v_star.values)\n",
    "    bb = np.ones((2,2))\n",
    "    cc = ex@(np.log(xn)).T\n",
    "    dd = ey@(np.log(yn)).T\n",
    "\n",
    "    model = a*(bb + cc.values + dd.values)\n",
    "\n",
    "    return df[fluxes].iloc[1:len(internal)+2].values-model\n",
    "\n",
    "params = Parameters()\n",
    "\n",
    "for i in range(2*(1)):\n",
    "    params.add('Ey'+str(i), value=0, min=-10, max=10)\n",
    "\n",
    "y_out = minimize(residual, params, args=(xn, ex, v_star, df))#, iter_cb=cb)\n",
    "\n",
    "print(y_out.chisqr)\n",
    "y_out.params"
   ]
  },
  {
   "cell_type": "code",
   "execution_count": 21,
   "metadata": {},
   "outputs": [
    {
     "name": "stdout",
     "output_type": "stream",
     "text": [
      "ground truth ey ratio:  -0.9647146014604095\n",
      "lmfit ey ratio:  -0.14171785918176957\n",
      "lmfit ey ratio reciprocal:  -7.05627368190331\n"
     ]
    }
   ],
   "source": [
    "print(\"ground truth ey ratio: \", ey[0,0]/ey[1,1])\n",
    "ratio = y_out.params['Ey0'].value / y_out.params['Ey1'].value\n",
    "print(\"lmfit ey ratio: \", ratio)\n",
    "print(\"lmfit ey ratio reciprocal: \", 1/ratio)"
   ]
  },
  {
   "cell_type": "markdown",
   "metadata": {},
   "source": [
    "I guess this is where I conclude that lmfit cannot fit external metabolite \n",
    "elasticity values...or rather that external metabolite perturbations have no \n",
    "place in linlog estimations."
   ]
  },
  {
   "cell_type": "markdown",
   "metadata": {},
   "source": []
  },
  {
   "cell_type": "markdown",
   "metadata": {},
   "source": [
    "## Using a higher perturbation dataset"
   ]
  },
  {
   "cell_type": "code",
   "execution_count": 22,
   "metadata": {},
   "outputs": [],
   "source": [
    "# import the data \n",
    "df = pd.read_csv('data/twostep_1.1.csv')\n",
    "\n",
    "r = te.loada('models/twostep.ant')\n",
    "r.steadyState()\n",
    "N=r.getFullStoichiometryMatrix()\n",
    "\n",
    "enzymes = ['e_' + i for i in r.getReactionIds()]\n",
    "internal = r.getFloatingSpeciesIds()\n",
    "external = r.getBoundarySpeciesIds()\n",
    "fluxes = ['v_' + i for i in r.getReactionIds()]\n",
    "\n",
    "v_star = df[fluxes].loc[0]"
   ]
  },
  {
   "cell_type": "code",
   "execution_count": 23,
   "metadata": {},
   "outputs": [],
   "source": [
    "ex = r.getScaledElasticityMatrix()\n",
    "\n",
    "a = r.getBoundarySpeciesIds()\n",
    "b = r.getReactionIds()\n",
    "c=[]\n",
    "for i in b: \n",
    "    for ii in a: \n",
    "        c.append(r.getUnscaledParameterElasticity(i, ii) * r[ii]/r[i])\n",
    "ey = np.array(c).reshape((len(b),len(a)))\n",
    "\n",
    "en = df[enzymes].loc[1:len(internal)+1]/df[enzymes].loc[0]\n",
    "xn = df[internal].loc[1:len(internal)+1]/df[internal].loc[0]\n",
    "yn = df[external].iloc[-(len(external)):]/df[external].loc[0]\n",
    "vn = df[fluxes].loc[1:len(internal)+1]/df[fluxes].loc[0]"
   ]
  },
  {
   "cell_type": "markdown",
   "metadata": {},
   "source": [
    "Again, this is the \"best case scenario\""
   ]
  },
  {
   "cell_type": "code",
   "execution_count": 24,
   "metadata": {},
   "outputs": [
    {
     "name": "stdout",
     "output_type": "stream",
     "text": [
      "[[3.01846938 2.74406307]\n",
      " [2.74406307 3.01846938]]\n"
     ]
    },
    {
     "data": {
      "text/plain": [
       "0.07178936780464343"
      ]
     },
     "execution_count": 24,
     "metadata": {},
     "output_type": "execute_result"
    }
   ],
   "source": [
    "# scalar multiplication\n",
    "gt_fluxes = df[fluxes].loc[1:2].values\n",
    "inner = np.ones((2,2)) + (ex@np.log(xn).T).values + (ey@np.log(yn).T).values\n",
    "outer = (en.values*v_star.values)\n",
    "print(outer)\n",
    "\n",
    "linlog_fluxes = (outer * inner).T\n",
    "res = linlog_fluxes - gt_fluxes\n",
    "(res*res).sum()"
   ]
  },
  {
   "cell_type": "code",
   "execution_count": 25,
   "metadata": {},
   "outputs": [
    {
     "name": "stdout",
     "output_type": "stream",
     "text": [
      "5.645572857193998e-06\n"
     ]
    },
    {
     "data": {
      "text/html": [
       "<table class=\"jp-toc-ignore\"><caption>Parameters</caption><tr><th style='text-align:left'>name</th><th style='text-align:left'>value</th><th style='text-align:left'>standard error</th><th style='text-align:left'>relative error</th><th style='text-align:left'>initial value</th><th style='text-align:left'>min</th><th style='text-align:left'>max</th><th style='text-align:right'>vary</th></tr><tr><td style='text-align:left'>Ex0</td><td style='text-align:left'>-0.59470603</td><td style='text-align:left'> 0.00582117</td><td style='text-align:left'>(0.98%)</td><td style='text-align:left'>0</td><td style='text-align:left'>-10.0000000</td><td style='text-align:left'> 10.0000000</td><td style='text-align:right'>True</td></tr><tr><td style='text-align:left'>Ex1</td><td style='text-align:left'> 0.75083920</td><td style='text-align:left'> 0.00581953</td><td style='text-align:left'>(0.78%)</td><td style='text-align:left'>0</td><td style='text-align:left'>-10.0000000</td><td style='text-align:left'> 10.0000000</td><td style='text-align:right'>True</td></tr></table>"
      ],
      "text/plain": [
       "Parameters([('Ex0', <Parameter 'Ex0', value=-0.5947060262209245 +/- 0.00582, bounds=[-10:10]>), ('Ex1', <Parameter 'Ex1', value=0.7508392019941805 +/- 0.00582, bounds=[-10:10]>)])"
      ]
     },
     "execution_count": 25,
     "metadata": {},
     "output_type": "execute_result"
    }
   ],
   "source": [
    "def cb(params, iter, resid, *args, **kws):\n",
    "    print(iter, (resid**2).sum().sum())\n",
    "\n",
    "def residual(params, xn, v_star, df, *args, **kws):\n",
    "    \n",
    "    ex = np.asarray([params['Ex0'],params['Ex1']]).reshape((2,1))\n",
    "\n",
    "    a = (en.values*v_star.values)\n",
    "    bb = np.ones((2,2))\n",
    "    cc = ex@(np.log(xn)).T\n",
    "\n",
    "    model = a*(bb + cc)\n",
    "\n",
    "    return (df[fluxes].loc[1:len(internal)+1].values-model.T).values\n",
    "\n",
    "params = Parameters()\n",
    "\n",
    "for i in range(2*(1)):\n",
    "    params.add('Ex'+str(i), value=0, min=-10, max=10)\n",
    "\n",
    "out = minimize(residual, params, args=(xn, v_star, df))#, iter_cb=cb)\n",
    "\n",
    "print(out.chisqr)\n",
    "out.params"
   ]
  },
  {
   "cell_type": "code",
   "execution_count": 26,
   "metadata": {},
   "outputs": [
    {
     "name": "stdout",
     "output_type": "stream",
     "text": [
      "ground truth ex ratio:  -0.791374344962222\n",
      "lmfit value ratio: -0.7920551093249042\n"
     ]
    }
   ],
   "source": [
    "print(\"ground truth ex ratio: \", first_ratio)\n",
    "ratio = out.params['Ex0'].value / out.params['Ex1'].value\n",
    "print(\"lmfit value ratio:\", ratio)\n",
    "# print(\"lmfit value ratio reciprocal:\", 1/ratio)"
   ]
  },
  {
   "cell_type": "markdown",
   "metadata": {},
   "source": [
    "Let's compare how this ratio changes with the change in perturbation levels. "
   ]
  },
  {
   "cell_type": "code",
   "execution_count": 27,
   "metadata": {},
   "outputs": [],
   "source": [
    "# import the data \n",
    "def calculate_ratios(pt_lvl):\n",
    "    df = pd.read_csv(f'data/twostep_{pt_lvl}.csv')\n",
    "\n",
    "    r = te.loada('models/twostep.ant')\n",
    "    r.steadyState()\n",
    "    N=r.getFullStoichiometryMatrix()\n",
    "\n",
    "    enzymes = ['e_' + i for i in r.getReactionIds()]\n",
    "    internal = r.getFloatingSpeciesIds()\n",
    "    external = r.getBoundarySpeciesIds()\n",
    "    fluxes = ['v_' + i for i in r.getReactionIds()]\n",
    "\n",
    "    v_star = df[fluxes].loc[0]\n",
    "\n",
    "    en = df[enzymes].loc[1:len(internal)+1]/df[enzymes].loc[0]\n",
    "    xn = df[internal].loc[1:len(internal)+1]/df[internal].loc[0]\n",
    "    yn = df[external].iloc[-(len(external)):]/df[external].loc[0]\n",
    "    vn = df[fluxes].loc[1:len(internal)+1]/df[fluxes].loc[0]\n",
    "\n",
    "    def residual(params, xn, v_star, df, *args, **kws):\n",
    "        \n",
    "        ex = np.asarray([params['Ex0'],params['Ex1']]).reshape((2,1))\n",
    "\n",
    "        a = (en.values*v_star.values)\n",
    "        bb = np.ones((2,2))\n",
    "        cc = ex@(np.log(xn)).T\n",
    "\n",
    "        model = a*(bb + cc)\n",
    "\n",
    "        return (df[fluxes].loc[1:len(internal)+1].values-model.T).values\n",
    "\n",
    "\n",
    "    params = Parameters()\n",
    "\n",
    "    params.add('Ex0', value=0, min=-10, max=10)\n",
    "    params.add('Ex1', value=0, min=-10, max=10)\n",
    "\n",
    "    out = minimize(residual, params, args=(xn, v_star, df))#, iter_cb=cb)\n",
    "\n",
    "    return out.params['Ex0'].value / out.params['Ex1'].value"
   ]
  },
  {
   "cell_type": "code",
   "execution_count": 28,
   "metadata": {},
   "outputs": [
    {
     "name": "stderr",
     "output_type": "stream",
     "text": [
      "C:\\Users\\user\\AppData\\Local\\Temp\\ipykernel_15652\\395528322.py:41: RuntimeWarning:\n",
      "\n",
      "invalid value encountered in scalar divide\n",
      "\n"
     ]
    }
   ],
   "source": [
    "pt_levels = list(np.arange(0.1, 2, 0.1).round(2))\n",
    "\n",
    "ratios = []\n",
    "\n",
    "for lvl in pt_levels: \n",
    "    ratios.append(calculate_ratios(lvl))"
   ]
  },
  {
   "cell_type": "code",
   "execution_count": 29,
   "metadata": {},
   "outputs": [
    {
     "data": {
      "text/plain": [
       "[<matplotlib.lines.Line2D at 0x21b66634c70>]"
      ]
     },
     "execution_count": 29,
     "metadata": {},
     "output_type": "execute_result"
    },
    {
     "data": {
      "image/png": "[encoded data removed]",
      "text/plain": [
       "<Figure size 640x480 with 1 Axes>"
      ]
     },
     "metadata": {},
     "output_type": "display_data"
    }
   ],
   "source": [
    "plt.figure()\n",
    "plt.scatter(pt_levels, ratios)\n",
    "plt.grid()\n",
    "plt.title('ex elasticity ratios predicted by lmfit as perturbation strength varies')\n",
    "plt.xlabel('x-fold perturbation ')\n",
    "plt.ylabel('lmfit predicted elasticity ratio')\n",
    "plt.plot(1,first_ratio,'ro') \n"
   ]
  },
  {
   "cell_type": "code",
   "execution_count": null,
   "metadata": {},
   "outputs": [],
   "source": []
  },
  {
   "cell_type": "code",
   "execution_count": null,
   "metadata": {},
   "outputs": [],
   "source": []
  },
  {
   "cell_type": "code",
   "execution_count": null,
   "metadata": {},
   "outputs": [],
   "source": []
  },
  {
   "cell_type": "code",
   "execution_count": null,
   "metadata": {},
   "outputs": [],
   "source": []
  },
  {
   "cell_type": "code",
   "execution_count": null,
   "metadata": {},
   "outputs": [],
   "source": []
  },
  {
   "cell_type": "code",
   "execution_count": null,
   "metadata": {},
   "outputs": [],
   "source": []
  },
  {
   "cell_type": "code",
   "execution_count": 93,
   "metadata": {},
   "outputs": [
    {
     "data": {
      "text/plain": [
       "            J1,       J2\n",
       "J1 [[ 0.558306, 0.441694],\n",
       "J2  [ 0.558306, 0.441694]]"
      ]
     },
     "execution_count": 93,
     "metadata": {},
     "output_type": "execute_result"
    }
   ],
   "source": [
    "r.getScaledFluxControlCoefficientMatrix()"
   ]
  },
  {
   "cell_type": "code",
   "execution_count": null,
   "metadata": {},
   "outputs": [],
   "source": []
  }
 ],
 "metadata": {
  "kernelspec": {
   "display_name": "gayles",
   "language": "python",
   "name": "python3"
  },
  "language_info": {
   "codemirror_mode": {
    "name": "ipython",
    "version": 3
   },
   "file_extension": ".py",
   "mimetype": "text/x-python",
   "name": "python",
   "nbconvert_exporter": "python",
   "pygments_lexer": "ipython3",
   "version": "3.9.19"
  }
 },
 "nbformat": 4,
 "nbformat_minor": 2
}
